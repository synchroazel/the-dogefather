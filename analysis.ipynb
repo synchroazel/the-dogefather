{
 "cells": [
  {
   "cell_type": "markdown",
   "metadata": {},
   "source": [
    "# Musk's tweets & the Dogecoin market"
   ]
  },
  {
   "cell_type": "code",
   "execution_count": 1,
   "metadata": {
    "pycharm": {
     "name": "#%%\n"
    }
   },
   "outputs": [],
   "source": [
    "# custom modules\n",
    "from import_data import *\n",
    "from tweets_impact import *\n",
    "from visualization import *\n",
    "\n",
    "# bokeh visualization\n",
    "from bokeh.io import output_notebook, show\n",
    "from bokeh.layouts import grid\n",
    "from bokeh.models import Span\n",
    "\n",
    "# regression model\n",
    "import statsmodels.formula.api as smf"
   ]
  },
  {
   "cell_type": "code",
   "execution_count": 2,
   "metadata": {
    "pycharm": {
     "name": "#%%\n"
    }
   },
   "outputs": [],
   "source": [
    "# palette = {'BTC': '#EE6055',\n",
    "#            'SOL': '#119DA4',\n",
    "#            'DOGE': '#FFC247'}"
   ]
  },
  {
   "cell_type": "code",
   "execution_count": 3,
   "metadata": {
    "pycharm": {
     "name": "#%%\n"
    }
   },
   "outputs": [
    {
     "data": {
      "text/html": [
       "<div class=\"bk-root\">\n",
       "        <a href=\"https://bokeh.org\" target=\"_blank\" class=\"bk-logo bk-logo-small bk-logo-notebook\"></a>\n",
       "        <span id=\"1002\">Loading BokehJS ...</span>\n",
       "    </div>\n"
      ]
     },
     "metadata": {},
     "output_type": "display_data"
    },
    {
     "data": {
      "application/javascript": [
       "(function(root) {\n",
       "  function now() {\n",
       "    return new Date();\n",
       "  }\n",
       "\n",
       "  const force = true;\n",
       "\n",
       "  if (typeof root._bokeh_onload_callbacks === \"undefined\" || force === true) {\n",
       "    root._bokeh_onload_callbacks = [];\n",
       "    root._bokeh_is_loading = undefined;\n",
       "  }\n",
       "\n",
       "const JS_MIME_TYPE = 'application/javascript';\n",
       "  const HTML_MIME_TYPE = 'text/html';\n",
       "  const EXEC_MIME_TYPE = 'application/vnd.bokehjs_exec.v0+json';\n",
       "  const CLASS_NAME = 'output_bokeh rendered_html';\n",
       "\n",
       "  /**\n",
       "   * Render data to the DOM node\n",
       "   */\n",
       "  function render(props, node) {\n",
       "    const script = document.createElement(\"script\");\n",
       "    node.appendChild(script);\n",
       "  }\n",
       "\n",
       "  /**\n",
       "   * Handle when an output is cleared or removed\n",
       "   */\n",
       "  function handleClearOutput(event, handle) {\n",
       "    const cell = handle.cell;\n",
       "\n",
       "    const id = cell.output_area._bokeh_element_id;\n",
       "    const server_id = cell.output_area._bokeh_server_id;\n",
       "    // Clean up Bokeh references\n",
       "    if (id != null && id in Bokeh.index) {\n",
       "      Bokeh.index[id].model.document.clear();\n",
       "      delete Bokeh.index[id];\n",
       "    }\n",
       "\n",
       "    if (server_id !== undefined) {\n",
       "      // Clean up Bokeh references\n",
       "      const cmd_clean = \"from bokeh.io.state import curstate; print(curstate().uuid_to_server['\" + server_id + \"'].get_sessions()[0].document.roots[0]._id)\";\n",
       "      cell.notebook.kernel.execute(cmd_clean, {\n",
       "        iopub: {\n",
       "          output: function(msg) {\n",
       "            const id = msg.content.text.trim();\n",
       "            if (id in Bokeh.index) {\n",
       "              Bokeh.index[id].model.document.clear();\n",
       "              delete Bokeh.index[id];\n",
       "            }\n",
       "          }\n",
       "        }\n",
       "      });\n",
       "      // Destroy server and session\n",
       "      const cmd_destroy = \"import bokeh.io.notebook as ion; ion.destroy_server('\" + server_id + \"')\";\n",
       "      cell.notebook.kernel.execute(cmd_destroy);\n",
       "    }\n",
       "  }\n",
       "\n",
       "  /**\n",
       "   * Handle when a new output is added\n",
       "   */\n",
       "  function handleAddOutput(event, handle) {\n",
       "    const output_area = handle.output_area;\n",
       "    const output = handle.output;\n",
       "\n",
       "    // limit handleAddOutput to display_data with EXEC_MIME_TYPE content only\n",
       "    if ((output.output_type != \"display_data\") || (!Object.prototype.hasOwnProperty.call(output.data, EXEC_MIME_TYPE))) {\n",
       "      return\n",
       "    }\n",
       "\n",
       "    const toinsert = output_area.element.find(\".\" + CLASS_NAME.split(' ')[0]);\n",
       "\n",
       "    if (output.metadata[EXEC_MIME_TYPE][\"id\"] !== undefined) {\n",
       "      toinsert[toinsert.length - 1].firstChild.textContent = output.data[JS_MIME_TYPE];\n",
       "      // store reference to embed id on output_area\n",
       "      output_area._bokeh_element_id = output.metadata[EXEC_MIME_TYPE][\"id\"];\n",
       "    }\n",
       "    if (output.metadata[EXEC_MIME_TYPE][\"server_id\"] !== undefined) {\n",
       "      const bk_div = document.createElement(\"div\");\n",
       "      bk_div.innerHTML = output.data[HTML_MIME_TYPE];\n",
       "      const script_attrs = bk_div.children[0].attributes;\n",
       "      for (let i = 0; i < script_attrs.length; i++) {\n",
       "        toinsert[toinsert.length - 1].firstChild.setAttribute(script_attrs[i].name, script_attrs[i].value);\n",
       "        toinsert[toinsert.length - 1].firstChild.textContent = bk_div.children[0].textContent\n",
       "      }\n",
       "      // store reference to server id on output_area\n",
       "      output_area._bokeh_server_id = output.metadata[EXEC_MIME_TYPE][\"server_id\"];\n",
       "    }\n",
       "  }\n",
       "\n",
       "  function register_renderer(events, OutputArea) {\n",
       "\n",
       "    function append_mime(data, metadata, element) {\n",
       "      // create a DOM node to render to\n",
       "      const toinsert = this.create_output_subarea(\n",
       "        metadata,\n",
       "        CLASS_NAME,\n",
       "        EXEC_MIME_TYPE\n",
       "      );\n",
       "      this.keyboard_manager.register_events(toinsert);\n",
       "      // Render to node\n",
       "      const props = {data: data, metadata: metadata[EXEC_MIME_TYPE]};\n",
       "      render(props, toinsert[toinsert.length - 1]);\n",
       "      element.append(toinsert);\n",
       "      return toinsert\n",
       "    }\n",
       "\n",
       "    /* Handle when an output is cleared or removed */\n",
       "    events.on('clear_output.CodeCell', handleClearOutput);\n",
       "    events.on('delete.Cell', handleClearOutput);\n",
       "\n",
       "    /* Handle when a new output is added */\n",
       "    events.on('output_added.OutputArea', handleAddOutput);\n",
       "\n",
       "    /**\n",
       "     * Register the mime type and append_mime function with output_area\n",
       "     */\n",
       "    OutputArea.prototype.register_mime_type(EXEC_MIME_TYPE, append_mime, {\n",
       "      /* Is output safe? */\n",
       "      safe: true,\n",
       "      /* Index of renderer in `output_area.display_order` */\n",
       "      index: 0\n",
       "    });\n",
       "  }\n",
       "\n",
       "  // register the mime type if in Jupyter Notebook environment and previously unregistered\n",
       "  if (root.Jupyter !== undefined) {\n",
       "    const events = require('base/js/events');\n",
       "    const OutputArea = require('notebook/js/outputarea').OutputArea;\n",
       "\n",
       "    if (OutputArea.prototype.mime_types().indexOf(EXEC_MIME_TYPE) == -1) {\n",
       "      register_renderer(events, OutputArea);\n",
       "    }\n",
       "  }\n",
       "  if (typeof (root._bokeh_timeout) === \"undefined\" || force === true) {\n",
       "    root._bokeh_timeout = Date.now() + 5000;\n",
       "    root._bokeh_failed_load = false;\n",
       "  }\n",
       "\n",
       "  const NB_LOAD_WARNING = {'data': {'text/html':\n",
       "     \"<div style='background-color: #fdd'>\\n\"+\n",
       "     \"<p>\\n\"+\n",
       "     \"BokehJS does not appear to have successfully loaded. If loading BokehJS from CDN, this \\n\"+\n",
       "     \"may be due to a slow or bad network connection. Possible fixes:\\n\"+\n",
       "     \"</p>\\n\"+\n",
       "     \"<ul>\\n\"+\n",
       "     \"<li>re-rerun `output_notebook()` to attempt to load from CDN again, or</li>\\n\"+\n",
       "     \"<li>use INLINE resources instead, as so:</li>\\n\"+\n",
       "     \"</ul>\\n\"+\n",
       "     \"<code>\\n\"+\n",
       "     \"from bokeh.resources import INLINE\\n\"+\n",
       "     \"output_notebook(resources=INLINE)\\n\"+\n",
       "     \"</code>\\n\"+\n",
       "     \"</div>\"}};\n",
       "\n",
       "  function display_loaded() {\n",
       "    const el = document.getElementById(\"1002\");\n",
       "    if (el != null) {\n",
       "      el.textContent = \"BokehJS is loading...\";\n",
       "    }\n",
       "    if (root.Bokeh !== undefined) {\n",
       "      if (el != null) {\n",
       "        el.textContent = \"BokehJS \" + root.Bokeh.version + \" successfully loaded.\";\n",
       "      }\n",
       "    } else if (Date.now() < root._bokeh_timeout) {\n",
       "      setTimeout(display_loaded, 100)\n",
       "    }\n",
       "  }\n",
       "\n",
       "  function run_callbacks() {\n",
       "    try {\n",
       "      root._bokeh_onload_callbacks.forEach(function(callback) {\n",
       "        if (callback != null)\n",
       "          callback();\n",
       "      });\n",
       "    } finally {\n",
       "      delete root._bokeh_onload_callbacks\n",
       "    }\n",
       "    console.debug(\"Bokeh: all callbacks have finished\");\n",
       "  }\n",
       "\n",
       "  function load_libs(css_urls, js_urls, callback) {\n",
       "    if (css_urls == null) css_urls = [];\n",
       "    if (js_urls == null) js_urls = [];\n",
       "\n",
       "    root._bokeh_onload_callbacks.push(callback);\n",
       "    if (root._bokeh_is_loading > 0) {\n",
       "      console.debug(\"Bokeh: BokehJS is being loaded, scheduling callback at\", now());\n",
       "      return null;\n",
       "    }\n",
       "    if (js_urls == null || js_urls.length === 0) {\n",
       "      run_callbacks();\n",
       "      return null;\n",
       "    }\n",
       "    console.debug(\"Bokeh: BokehJS not loaded, scheduling load and callback at\", now());\n",
       "    root._bokeh_is_loading = css_urls.length + js_urls.length;\n",
       "\n",
       "    function on_load() {\n",
       "      root._bokeh_is_loading--;\n",
       "      if (root._bokeh_is_loading === 0) {\n",
       "        console.debug(\"Bokeh: all BokehJS libraries/stylesheets loaded\");\n",
       "        run_callbacks()\n",
       "      }\n",
       "    }\n",
       "\n",
       "    function on_error(url) {\n",
       "      console.error(\"failed to load \" + url);\n",
       "    }\n",
       "\n",
       "    for (let i = 0; i < css_urls.length; i++) {\n",
       "      const url = css_urls[i];\n",
       "      const element = document.createElement(\"link\");\n",
       "      element.onload = on_load;\n",
       "      element.onerror = on_error.bind(null, url);\n",
       "      element.rel = \"stylesheet\";\n",
       "      element.type = \"text/css\";\n",
       "      element.href = url;\n",
       "      console.debug(\"Bokeh: injecting link tag for BokehJS stylesheet: \", url);\n",
       "      document.body.appendChild(element);\n",
       "    }\n",
       "\n",
       "    for (let i = 0; i < js_urls.length; i++) {\n",
       "      const url = js_urls[i];\n",
       "      const element = document.createElement('script');\n",
       "      element.onload = on_load;\n",
       "      element.onerror = on_error.bind(null, url);\n",
       "      element.async = false;\n",
       "      element.src = url;\n",
       "      console.debug(\"Bokeh: injecting script tag for BokehJS library: \", url);\n",
       "      document.head.appendChild(element);\n",
       "    }\n",
       "  };\n",
       "\n",
       "  function inject_raw_css(css) {\n",
       "    const element = document.createElement(\"style\");\n",
       "    element.appendChild(document.createTextNode(css));\n",
       "    document.body.appendChild(element);\n",
       "  }\n",
       "\n",
       "  const js_urls = [\"https://cdn.bokeh.org/bokeh/release/bokeh-2.4.3.min.js\", \"https://cdn.bokeh.org/bokeh/release/bokeh-gl-2.4.3.min.js\", \"https://cdn.bokeh.org/bokeh/release/bokeh-widgets-2.4.3.min.js\", \"https://cdn.bokeh.org/bokeh/release/bokeh-tables-2.4.3.min.js\", \"https://cdn.bokeh.org/bokeh/release/bokeh-mathjax-2.4.3.min.js\"];\n",
       "  const css_urls = [];\n",
       "\n",
       "  const inline_js = [    function(Bokeh) {\n",
       "      Bokeh.set_log_level(\"info\");\n",
       "    },\n",
       "function(Bokeh) {\n",
       "    }\n",
       "  ];\n",
       "\n",
       "  function run_inline_js() {\n",
       "    if (root.Bokeh !== undefined || force === true) {\n",
       "          for (let i = 0; i < inline_js.length; i++) {\n",
       "      inline_js[i].call(root, root.Bokeh);\n",
       "    }\n",
       "if (force === true) {\n",
       "        display_loaded();\n",
       "      }} else if (Date.now() < root._bokeh_timeout) {\n",
       "      setTimeout(run_inline_js, 100);\n",
       "    } else if (!root._bokeh_failed_load) {\n",
       "      console.log(\"Bokeh: BokehJS failed to load within specified timeout.\");\n",
       "      root._bokeh_failed_load = true;\n",
       "    } else if (force !== true) {\n",
       "      const cell = $(document.getElementById(\"1002\")).parents('.cell').data().cell;\n",
       "      cell.output_area.append_execute_result(NB_LOAD_WARNING)\n",
       "    }\n",
       "  }\n",
       "\n",
       "  if (root._bokeh_is_loading === 0) {\n",
       "    console.debug(\"Bokeh: BokehJS loaded, going straight to plotting\");\n",
       "    run_inline_js();\n",
       "  } else {\n",
       "    load_libs(css_urls, js_urls, function() {\n",
       "      console.debug(\"Bokeh: BokehJS plotting callback run at\", now());\n",
       "      run_inline_js();\n",
       "    });\n",
       "  }\n",
       "}(window));"
      ],
      "application/vnd.bokehjs_load.v0+json": "(function(root) {\n  function now() {\n    return new Date();\n  }\n\n  const force = true;\n\n  if (typeof root._bokeh_onload_callbacks === \"undefined\" || force === true) {\n    root._bokeh_onload_callbacks = [];\n    root._bokeh_is_loading = undefined;\n  }\n\n\n  if (typeof (root._bokeh_timeout) === \"undefined\" || force === true) {\n    root._bokeh_timeout = Date.now() + 5000;\n    root._bokeh_failed_load = false;\n  }\n\n  const NB_LOAD_WARNING = {'data': {'text/html':\n     \"<div style='background-color: #fdd'>\\n\"+\n     \"<p>\\n\"+\n     \"BokehJS does not appear to have successfully loaded. If loading BokehJS from CDN, this \\n\"+\n     \"may be due to a slow or bad network connection. Possible fixes:\\n\"+\n     \"</p>\\n\"+\n     \"<ul>\\n\"+\n     \"<li>re-rerun `output_notebook()` to attempt to load from CDN again, or</li>\\n\"+\n     \"<li>use INLINE resources instead, as so:</li>\\n\"+\n     \"</ul>\\n\"+\n     \"<code>\\n\"+\n     \"from bokeh.resources import INLINE\\n\"+\n     \"output_notebook(resources=INLINE)\\n\"+\n     \"</code>\\n\"+\n     \"</div>\"}};\n\n  function display_loaded() {\n    const el = document.getElementById(\"1002\");\n    if (el != null) {\n      el.textContent = \"BokehJS is loading...\";\n    }\n    if (root.Bokeh !== undefined) {\n      if (el != null) {\n        el.textContent = \"BokehJS \" + root.Bokeh.version + \" successfully loaded.\";\n      }\n    } else if (Date.now() < root._bokeh_timeout) {\n      setTimeout(display_loaded, 100)\n    }\n  }\n\n  function run_callbacks() {\n    try {\n      root._bokeh_onload_callbacks.forEach(function(callback) {\n        if (callback != null)\n          callback();\n      });\n    } finally {\n      delete root._bokeh_onload_callbacks\n    }\n    console.debug(\"Bokeh: all callbacks have finished\");\n  }\n\n  function load_libs(css_urls, js_urls, callback) {\n    if (css_urls == null) css_urls = [];\n    if (js_urls == null) js_urls = [];\n\n    root._bokeh_onload_callbacks.push(callback);\n    if (root._bokeh_is_loading > 0) {\n      console.debug(\"Bokeh: BokehJS is being loaded, scheduling callback at\", now());\n      return null;\n    }\n    if (js_urls == null || js_urls.length === 0) {\n      run_callbacks();\n      return null;\n    }\n    console.debug(\"Bokeh: BokehJS not loaded, scheduling load and callback at\", now());\n    root._bokeh_is_loading = css_urls.length + js_urls.length;\n\n    function on_load() {\n      root._bokeh_is_loading--;\n      if (root._bokeh_is_loading === 0) {\n        console.debug(\"Bokeh: all BokehJS libraries/stylesheets loaded\");\n        run_callbacks()\n      }\n    }\n\n    function on_error(url) {\n      console.error(\"failed to load \" + url);\n    }\n\n    for (let i = 0; i < css_urls.length; i++) {\n      const url = css_urls[i];\n      const element = document.createElement(\"link\");\n      element.onload = on_load;\n      element.onerror = on_error.bind(null, url);\n      element.rel = \"stylesheet\";\n      element.type = \"text/css\";\n      element.href = url;\n      console.debug(\"Bokeh: injecting link tag for BokehJS stylesheet: \", url);\n      document.body.appendChild(element);\n    }\n\n    for (let i = 0; i < js_urls.length; i++) {\n      const url = js_urls[i];\n      const element = document.createElement('script');\n      element.onload = on_load;\n      element.onerror = on_error.bind(null, url);\n      element.async = false;\n      element.src = url;\n      console.debug(\"Bokeh: injecting script tag for BokehJS library: \", url);\n      document.head.appendChild(element);\n    }\n  };\n\n  function inject_raw_css(css) {\n    const element = document.createElement(\"style\");\n    element.appendChild(document.createTextNode(css));\n    document.body.appendChild(element);\n  }\n\n  const js_urls = [\"https://cdn.bokeh.org/bokeh/release/bokeh-2.4.3.min.js\", \"https://cdn.bokeh.org/bokeh/release/bokeh-gl-2.4.3.min.js\", \"https://cdn.bokeh.org/bokeh/release/bokeh-widgets-2.4.3.min.js\", \"https://cdn.bokeh.org/bokeh/release/bokeh-tables-2.4.3.min.js\", \"https://cdn.bokeh.org/bokeh/release/bokeh-mathjax-2.4.3.min.js\"];\n  const css_urls = [];\n\n  const inline_js = [    function(Bokeh) {\n      Bokeh.set_log_level(\"info\");\n    },\nfunction(Bokeh) {\n    }\n  ];\n\n  function run_inline_js() {\n    if (root.Bokeh !== undefined || force === true) {\n          for (let i = 0; i < inline_js.length; i++) {\n      inline_js[i].call(root, root.Bokeh);\n    }\nif (force === true) {\n        display_loaded();\n      }} else if (Date.now() < root._bokeh_timeout) {\n      setTimeout(run_inline_js, 100);\n    } else if (!root._bokeh_failed_load) {\n      console.log(\"Bokeh: BokehJS failed to load within specified timeout.\");\n      root._bokeh_failed_load = true;\n    } else if (force !== true) {\n      const cell = $(document.getElementById(\"1002\")).parents('.cell').data().cell;\n      cell.output_area.append_execute_result(NB_LOAD_WARNING)\n    }\n  }\n\n  if (root._bokeh_is_loading === 0) {\n    console.debug(\"Bokeh: BokehJS loaded, going straight to plotting\");\n    run_inline_js();\n  } else {\n    load_libs(css_urls, js_urls, function() {\n      console.debug(\"Bokeh: BokehJS plotting callback run at\", now());\n      run_inline_js();\n    });\n  }\n}(window));"
     },
     "metadata": {},
     "output_type": "display_data"
    }
   ],
   "source": [
    "# comment/uncomment to show/hide bokeh plots in web browser\n",
    "output_notebook()"
   ]
  },
  {
   "cell_type": "markdown",
   "metadata": {},
   "source": [
    "## 1. Data import"
   ]
  },
  {
   "cell_type": "code",
   "execution_count": 4,
   "metadata": {
    "pycharm": {
     "name": "#%%\n"
    }
   },
   "outputs": [],
   "source": [
    "elon_df = import_elon_tweets('data/elon_tweets.csv')\n",
    "\n",
    "doge_df = import_crypto_prices('data/DOGE-USD.csv')\n",
    "solana_df = import_crypto_prices('data/SOL-USD.csv')\n",
    "bitcoin_df = import_crypto_prices('data/BTC-USD.csv')"
   ]
  },
  {
   "cell_type": "markdown",
   "metadata": {},
   "source": [
    "## 2. Exploratory analysis"
   ]
  },
  {
   "cell_type": "code",
   "execution_count": 5,
   "metadata": {
    "pycharm": {
     "name": "#%%\n"
    }
   },
   "outputs": [
    {
     "data": {
      "text/html": [
       "\n",
       "  <div class=\"bk-root\" id=\"13422e47-3f6e-448c-91cb-e5072ea77e7d\" data-root-id=\"1003\"></div>\n"
      ]
     },
     "metadata": {},
     "output_type": "display_data"
    },
    {
     "data": {
      "application/javascript": [
       "(function(root) {\n",
       "  function embed_document(root) {\n",
       "  const docs_json = {\"7acc6185-367d-4cfb-9b38-837f0d10ecb1\":{\"defs\":[],\"roots\":{\"references\":[{\"attributes\":{\"above\":[{\"id\":\"1132\"}],\"below\":[{\"id\":\"1014\"}],\"center\":[{\"id\":\"1017\"},{\"id\":\"1021\"},{\"id\":\"1064\"}],\"height\":400,\"left\":[{\"id\":\"1018\"}],\"renderers\":[{\"id\":\"1040\"},{\"id\":\"1070\"},{\"id\":\"1101\"}],\"title\":{\"id\":\"1004\"},\"toolbar\":{\"id\":\"1029\"},\"width\":900,\"x_range\":{\"id\":\"1130\"},\"x_scale\":{\"id\":\"1010\"},\"y_range\":{\"id\":\"1131\"},\"y_scale\":{\"id\":\"1012\"}},\"id\":\"1003\",\"subtype\":\"Figure\",\"type\":\"Plot\"},{\"attributes\":{\"axis_label\":\"standardized prices (DOGE-USD)\",\"axis_line_alpha\":0.2,\"axis_line_color\":\"grey\",\"coordinates\":null,\"formatter\":{\"id\":\"1044\"},\"group\":null,\"major_label_policy\":{\"id\":\"1045\"},\"major_label_text_color\":\"grey\",\"major_tick_line_alpha\":0.2,\"major_tick_line_color\":\"grey\",\"minor_tick_line_width\":0,\"ticker\":{\"id\":\"1019\"}},\"id\":\"1018\",\"type\":\"LinearAxis\"},{\"attributes\":{},\"id\":\"1114\",\"type\":\"UnionRenderers\"},{\"attributes\":{\"base\":60,\"mantissas\":[1,2,5,10,15,20,30],\"max_interval\":1800000.0,\"min_interval\":1000.0,\"num_minor_ticks\":0},\"id\":\"1053\",\"type\":\"AdaptiveTicker\"},{\"attributes\":{},\"id\":\"1049\",\"type\":\"UnionRenderers\"},{\"attributes\":{\"axis\":{\"id\":\"1014\"},\"coordinates\":null,\"grid_line_alpha\":0.2,\"grid_line_color\":null,\"group\":null,\"ticker\":null},\"id\":\"1017\",\"type\":\"Grid\"},{\"attributes\":{\"days\":[1,8,15,22]},\"id\":\"1057\",\"type\":\"DaysTicker\"},{\"attributes\":{},\"id\":\"1012\",\"type\":\"LinearScale\"},{\"attributes\":{\"data\":{\"x\":{\"__ndarray__\":\"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\",\"dtype\":\"float64\",\"order\":\"little\",\"shape\":[366]},\"y\":[[-1.5242847746865402],[-1.466823526270677],[-1.465611626734638],[-1.4831519004929308],[-1.491771446305469],[-1.4872178592913576],[-1.4895269223126866],[-1.4912981600961284],[-1.4880353536529463],[-1.487124636250124],[-1.494360178450499],[-1.4994731037120128],[-1.5030514342947556],[-1.4931267659049445],[-1.4948047806471525],[-1.496705096487687],[-1.497881141007867],[-1.4983974532362387],[-1.496117074227597],[-1.4994157356866384],[-1.4998746798896352],[-1.5021694009046205],[-1.5018897317809192],[-1.5008642783273478],[-1.5013805905557194],[-1.5044139248974029],[-1.5058266125222532],[-1.3199685523147975],[-1.005907297401389],[-1.2072116984409635],[-1.2402843650694373],[-1.254906040536796],[-1.3145974709390977],[-1.2846298486840257],[-1.1500731451678325],[-1.179682217264313],[-1.1469250747753998],[-0.9601276131524346],[-0.9559110632873995],[-0.9689407760506124],[-0.9835481095116272],[-1.0322392210483438],[-1.044365387411906],[-1.051278234469549],[-1.0885531089567144],[-1.1066527209624102],[-1.1371725104617127],[-1.1707686603217302],[-1.121891102702546],[-1.1383987520040957],[-1.1327408305015227],[-1.1460645543947803],[-1.1314500499305935],[-1.179481429175502],[-1.1357024548114878],[-1.1505105763613142],[-1.188775049286192],[-1.1927334430370415],[-1.2055408547019273],[-1.195895855435818],[-1.1894204395716568],[-1.1912562163836447],[-1.1987068886791747],[-1.2003777324182108],[-1.189312874524079],[-1.1911486513360674],[-1.1208154522267717],[-1.1185279022149583],[-1.1447164057984767],[-1.158470389882044],[-1.1564481669875883],[-1.1173518576947785],[-1.1129058357282446],[-1.1370219193951046],[-1.1425292498310688],[-1.1429236550055195],[-1.143196153126049],[-1.136792447293606],[-1.1302094663818671],[-1.1382266479279717],[-1.151055572602373],[-1.1628948988390624],[-1.1599332745290971],[-1.1892411644923608],[-1.1776169683508266],[-1.1675273668880635],[-1.1724251620544226],[-1.1731494333747772],[-1.1675345378912356],[-1.1744617269552218],[-1.062285724338306],[-1.1186641512752231],[-1.1384919750453293],[-1.1483664464129375],[-1.133694573923376],[-1.0985781713909308],[-1.0824505852574882],[-1.1222783368738247],[-1.1067531150068157],[-1.098449093333838],[-0.9968001233731665],[-1.0273270838756412],[-0.8825086748205612],[-0.5431122657010818],[-0.22173658755240805],[1.5736961605910242],[1.1201660649887197],[0.9442111601615598],[1.5310358627218157],[1.4635997488939385],[0.9230423587983215],[0.6490454986059198],[0.3594875615306497],[0.5101646801771136],[0.5057258292137519],[0.4460702538273089],[0.44016851821689423],[0.9065203674904284],[0.7574997505766564],[0.8713465969326084],[1.2828044169257944],[1.3035573001050667],[1.6301104425438004],[2.780561652403447],[3.4206740795335615],[3.193740513157871],[3.6839216059713915],[3.724043368717773],[3.437619160028593],[2.520175356231176],[2.35498412716493],[2.163690446553228],[2.1600045509229084],[2.663616932677265],[2.4698994529934843],[2.3656976059036423],[2.1295994974743553],[2.1323101366733064],[3.345184929143721],[1.5413692782924209],[1.3892221039957315],[1.0202166227797718],[0.9509877581589377],[1.0988681855683888],[1.1600009876082282],[1.0589615529171623],[0.9696323664056926],[0.929589484694201],[0.714746229666214],[0.6602824605761751],[0.7953769893302555],[1.1820087963425705],[1.623104372444924],[1.5956609433063358],[1.3103912661278192],[1.2595058276205229],[1.1369677254203145],[1.1576202145551813],[0.883379540254937],[0.9717764963540693],[0.9055666240685748],[0.8244912622078799],[0.7248788571480079],[0.8015655650675436],[0.8510526579563332],[0.8049287655551313],[0.7396582946851467],[0.6867219492707074],[0.641838640418232],[0.5704943298617083],[0.5125813082460201],[0.4492039822133982],[-0.01524038021642944],[0.20697466607219742],[0.3617249145202601],[0.5084077844000157],[0.2644645985007479],[0.3488242798141404],[0.3494768411027768],[0.4065436843441896],[0.3247799061789989],[0.30006862924887723],[0.21333534588560946],[0.2292334599175536],[0.24610683038086642],[0.20201950288046383],[0.16968544957868825],[0.1405783477042358],[0.047921815721037396],[0.07810456807126441],[0.0676492454467381],[0.003569161103277074],[0.005146781801079367],[-0.07303866578136864],[-0.09870368613334345],[-0.12482765068831536],[-0.2145942683932667],[-0.09544805069333316],[-0.16105555871239383],[-0.2459458942605016],[-0.28219531529409553],[-0.028951338280965844],[-0.15663822075854733],[-0.13421449384023912],[-0.09952118049493194],[-0.12761717092215671],[0.10412096757865878],[-0.06421116087684747],[-0.03227868375269449],[-0.08527956819568008],[-0.05453030659487883],[-0.027983252852768998],[-0.004562756493576615],[-0.05943527276440957],[-0.09444411024927714],[-0.10854947348826412],[-0.11283056238184594],[-0.0465489800646335],[0.3136791932690081],[0.4527177737675942],[0.3443352318285755],[0.31942316680964283],[0.4606273902661214],[0.5442412872496437],[0.49437413119274703],[0.5751769949329125],[0.9356346403680524],[0.9516331484444025],[0.869231150996919],[0.7599809176741092],[0.7226271621520539],[0.8244912622078799],[0.7967609929424184],[0.7407196031545776],[0.7877111869395708],[0.7279265334960352],[0.5634093787279416],[0.5575793531492449],[0.5492825024794393],[0.5802970911975981],[0.5264643703866804],[0.5113765797131529],[0.4845570278505135],[0.5495980266189997],[0.652415870096679],[0.618475512084414],[0.648859052523452],[0.6938786104361925],[0.7278835074770041],[0.6653451888154861],[0.32300149739238554],[0.29623931355512084],[0.3110402641017753],[0.2134859369522178],[0.2620766544445291],[0.2422631726807664],[0.16802177684282413],[0.2156659219164537],[0.21144220104824676],[0.29607438048216883],[0.20853794476365603],[0.16520357259629542],[0.1101374392398231],[-0.0010991619615832848],[0.0801411329720636],[0.06344703758804647],[0.07185145330542972],[-0.04046796937492286],[-0.06582463659050894],[-0.0642972129149095],[-0.11235727617250517],[-0.10113465620859341],[-0.08921644893701418],[0.04560558169653681],[0.04810109080033309],[0.057229777838071164],[0.21281186265406601],[0.3552494986560989],[0.38193997246164524],[0.2760242556137357],[0.26186152434937404],[0.24179705747459765],[0.21811123399804733],[0.1515499825571337],[0.09659858525141055],[0.11255406730872938],[0.1551283131398762],[0.18086504352356916],[0.18787828462561768],[0.1701372227785135],[0.3811153070968851],[0.26076436086408417],[0.3105598068892625],[0.2869385224412591],[0.24757688603109138],[0.2502158151983242],[0.45670485153113094],[0.43904267071891695],[0.40207614936814],[0.3231951144780249],[0.8647923000335572],[0.6315123958507984],[0.547862643851417],[0.47658287232344],[0.4826351990004635],[0.44774826856951694],[0.4220617352080268],[0.37732184641898775],[0.3767768501779286],[0.3546041083706345],[0.3700361071964097],[0.5613799848303143],[0.512158219058882],[0.4212370698432663],[0.3708679435643419],[0.35991065071778744],[0.3155508250968555],[0.3801328796623446],[0.3364829833554234],[0.27856996173973486],[0.16248576239417242],[0.16381239798096064],[0.13327109547214225],[0.1269677836841049],[0.1083016624278349],[0.06657359497096392],[0.1287461924707184],[0.0860356975793069],[0.07574530802773281],[0.025182564663168816],[-0.061916439861862384],[-0.07726955765274761],[0.03904411379431357],[0.06197698193782172],[0.0017835813134917397],[0.03416066063429814],[-0.044863794319253664],[-0.12682118957008373],[-0.26614661019554303],[-0.2704922381176712],[-0.24889317656412313],[-0.2587246219127003],[-0.2607181607944687],[-0.3129230638853815],[-0.3454077082537652],[-0.3251926503123803],[-0.34157122155683706],[0.0099298409166891],[-0.19435769744236606],[-0.2388967981425941],[-0.29894677870348735],[-0.31102991904801863],[-0.31458673662124564],[-0.3400079428653782],[-0.3292012410854325],[-0.2772473231055338],[-0.24184408044621566],[-0.16462671829196449],[-0.16759551360510155],[-0.18430395099546235],[-0.18160048279968283],[-0.21772799677935578],[-0.293353396229461],[-0.30459752920288824],[-0.30801809771585054],[-0.3214350446503421]]},\"selected\":{\"id\":\"1050\"},\"selection_policy\":{\"id\":\"1049\"}},\"id\":\"1036\",\"type\":\"ColumnDataSource\"},{\"attributes\":{\"base\":24,\"mantissas\":[1,2,4,6,8,12],\"max_interval\":43200000.0,\"min_interval\":3600000.0,\"num_minor_ticks\":0},\"id\":\"1054\",\"type\":\"AdaptiveTicker\"},{\"attributes\":{},\"id\":\"1063\",\"type\":\"YearsTicker\"},{\"attributes\":{},\"id\":\"1050\",\"type\":\"Selection\"},{\"attributes\":{\"line_color\":\"#119DA4\",\"line_width\":1.5,\"x\":{\"field\":\"x\"},\"y\":{\"field\":\"y\"}},\"id\":\"1067\",\"type\":\"Line\"},{\"attributes\":{},\"id\":\"1115\",\"type\":\"Selection\"},{\"attributes\":{\"days\":[1,4,7,10,13,16,19,22,25,28]},\"id\":\"1056\",\"type\":\"DaysTicker\"},{\"attributes\":{\"source\":{\"id\":\"1036\"}},\"id\":\"1041\",\"type\":\"CDSView\"},{\"attributes\":{},\"id\":\"1027\",\"type\":\"HelpTool\"},{\"attributes\":{\"days\":[1,2,3,4,5,6,7,8,9,10,11,12,13,14,15,16,17,18,19,20,21,22,23,24,25,26,27,28,29,30,31]},\"id\":\"1055\",\"type\":\"DaysTicker\"},{\"attributes\":{\"axis_label\":\"\",\"axis_line_alpha\":0.2,\"axis_line_color\":\"grey\",\"coordinates\":null,\"formatter\":{\"id\":\"1047\"},\"group\":null,\"major_label_policy\":{\"id\":\"1048\"},\"major_label_text_color\":\"grey\",\"major_tick_line_alpha\":0.2,\"major_tick_line_color\":\"grey\",\"ticker\":{\"id\":\"1015\"}},\"id\":\"1014\",\"type\":\"DatetimeAxis\"},{\"attributes\":{\"line_alpha\":0.1,\"line_color\":\"#EE6055\",\"line_width\":1.5,\"x\":{\"field\":\"x\"},\"y\":{\"field\":\"y\"}},\"id\":\"1099\",\"type\":\"Line\"},{\"attributes\":{\"source\":{\"id\":\"1097\"}},\"id\":\"1102\",\"type\":\"CDSView\"},{\"attributes\":{\"months\":[0,6]},\"id\":\"1062\",\"type\":\"MonthsTicker\"},{\"attributes\":{\"days\":[1,15]},\"id\":\"1058\",\"type\":\"DaysTicker\"},{\"attributes\":{\"border_line_width\":2,\"coordinates\":null,\"group\":null,\"items\":[{\"id\":\"1065\"},{\"id\":\"1096\"},{\"id\":\"1129\"}]},\"id\":\"1064\",\"type\":\"Legend\"},{\"attributes\":{\"months\":[0,1,2,3,4,5,6,7,8,9,10,11]},\"id\":\"1059\",\"type\":\"MonthsTicker\"},{\"attributes\":{\"line_alpha\":0.1,\"line_color\":\"#FFC247\",\"line_width\":1.5,\"x\":{\"field\":\"x\"},\"y\":{\"field\":\"y\"}},\"id\":\"1038\",\"type\":\"Line\"},{\"attributes\":{\"coordinates\":null,\"data_source\":{\"id\":\"1036\"},\"glyph\":{\"id\":\"1037\"},\"group\":null,\"hover_glyph\":null,\"muted_glyph\":{\"id\":\"1039\"},\"nonselection_glyph\":{\"id\":\"1038\"},\"view\":{\"id\":\"1041\"}},\"id\":\"1040\",\"type\":\"GlyphRenderer\"},{\"attributes\":{\"months\":[0,2,4,6,8,10]},\"id\":\"1060\",\"type\":\"MonthsTicker\"},{\"attributes\":{\"data\":{\"x\":{\"__ndarray__\":\"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\",\"dtype\":\"float64\",\"order\":\"little\",\"shape\":[366]},\"y\":[[-1.027635087601046],[-1.0260193728429206],[-1.0213371289609006],[-1.0198401011075],[-1.0196217585805782],[-1.023569148185964],[-1.0182605918999599],[-1.0037099612467668],[-1.0051623210473968],[-1.0042803887320502],[-1.0070220400290555],[-1.0028986577972265],[-1.0055856081780459],[-1.0066569310430304],[-1.0079897938319518],[-1.0046582600188667],[-1.0013911608689576],[-0.9991160314891699],[-1.0005676310355538],[-1.004237365819616],[-1.004270729764166],[-1.0072267478322798],[-1.0059784851388403],[-1.0035388541885952],[-1.0012791791574223],[-0.9997517037446133],[-1.000353501064948],[-1.0016638678060874],[-1.0022981067953287],[-0.9970713713146927],[-0.9911509349922015],[-0.9933370772356104],[-0.9834657366897422],[-0.9787653838008374],[-0.9694151289933446],[-0.9619857500131981],[-0.9660735000009223],[-0.9651713773269013],[-0.9504097449623786],[-0.945276770017734],[-0.9377387868490152],[-0.9298321426867271],[-0.9271220481725384],[-0.9324240488235654],[-0.9358980243707787],[-0.934772125221452],[-0.93888834112227],[-0.945706575393807],[-0.9351642543911842],[-0.9052351385264187],[-0.9039120468740408],[-0.9057372552981877],[-0.869527317671781],[-0.8545997878601521],[-0.8246476275674924],[-0.8302707421637296],[-0.8578360530919376],[-0.8686994631134017],[-0.8790819063869674],[-0.8574328441513033],[-0.8610712464898675],[-0.8672376063662841],[-0.8730828149079374],[-0.8877955915897423],[-0.8854198718489302],[-0.8763663405348417],[-0.877937661430253],[-0.8640335086133493],[-0.8615222517425484],[-0.8484176994450645],[-0.8453468082066419],[-0.858949102698182],[-0.859504536972672],[-0.8664759313168924],[-0.872801957048232],[-0.8730026018533529],[-0.8670367247606604],[-0.8702429786444906],[-0.8641360307679504],[-0.8717696688766842],[-0.8439250455236322],[-0.8608271674872284],[-0.8592353446535339],[-0.8800012656449677],[-0.8663036776457591],[-0.841378916662973],[-0.8092009687374337],[-0.8141633351512815],[-0.790712221088024],[-0.8040936056366628],[-0.7970426961761823],[-0.8037350024328773],[-0.7538496862018037],[-0.7321345316994426],[-0.7420040650835776],[-0.7349139090555262],[-0.7082290971764628],[-0.7022169193538477],[-0.6891963439926272],[-0.6986280207835884],[-0.6932781241150399],[-0.678632935282056],[-0.6918982751210556],[-0.7082904534331005],[-0.6987348551999805],[-0.6990155261119205],[-0.7165526223926356],[-0.6407415395999889],[-0.6011374281958696],[-0.6433008420465238],[-0.614547241268049],[-0.5401724407681995],[-0.5340480568967302],[-0.5082622020428585],[-0.44716714882313663],[-0.4487061277551159],[-0.47066840227710166],[-0.4660825237366058],[-0.476614836802182],[-0.49906524440307715],[-0.42959015788926347],[-0.42894091322604455],[-0.4399984747335745],[-0.4556060831265458],[-0.4784057839325046],[-0.4902924213904818],[-0.476763497665309],[-0.4695415309993945],[-0.46353192059275894],[-0.47903255747431017],[-0.4880845558167215],[-0.44037759233882773],[-0.48477064494633093],[-0.4925684107299909],[-0.4850861006058387],[-0.3964783186327521],[-0.4042717970809899],[-0.32417221979002325],[-0.33385802091022304],[-0.4119688104822288],[-0.4569965258272418],[-0.5521655636734064],[-0.646553134933405],[-0.6508132507609219],[-0.6379054422918521],[-0.5867127878734404],[-0.6080321490298655],[-0.6208012297937486],[-0.6766383771087332],[-0.6800418858115366],[-0.639731772402592],[-0.6359139500618836],[-0.6141253375508646],[-0.5380098913327968],[-0.5571472978757602],[-0.5171054420471263],[-0.5101943695152412],[-0.5011789256925777],[-0.5213975508689127],[-0.5024625464400659],[-0.5148342011808609],[-0.5359272059828165],[-0.5820193271254903],[-0.5602617105539917],[-0.5463459794388114],[-0.5303662577502009],[-0.5336361985061454],[-0.5368626178222812],[-0.5594247578710245],[-0.5852552059985605],[-0.6030302120056532],[-0.6083989903985174],[-0.6929572968230701],[-0.6423568679993992],[-0.6396355441560961],[-0.6407422126119448],[-0.6768291012190981],[-0.6528704239725034],[-0.6240326966995529],[-0.604772677348789],[-0.6027019815821696],[-0.6078932717664665],[-0.6266678750125128],[-0.6095561472142359],[-0.6083397030304847],[-0.6213082695233424],[-0.6148711095770044],[-0.5770654606033808],[-0.5907303452068109],[-0.622228999731623],[-0.6253131268718433],[-0.6453059814633739],[-0.6439634597065683],[-0.663285757589613],[-0.6590278975984665],[-0.658428854641877],[-0.6838687065713578],[-0.7056196678024047],[-0.7051638019078208],[-0.7177742761874523],[-0.7395367783272228],[-0.7091154539222597],[-0.7001482924758331],[-0.6932359486991426],[-0.6830511839928186],[-0.6909630751557252],[-0.6637803964507618],[-0.6899698466039831],[-0.6925337355023649],[-0.6534093819172606],[-0.6388401935825454],[-0.5913164139884746],[-0.5931652775365497],[-0.6032295232500469],[-0.604217891159886],[-0.5940057448375081],[-0.5746081817840725],[-0.5474481860746566],[-0.5459800977353556],[-0.5581016288290936],[-0.5522246142409363],[-0.5315847458961883],[-0.5056833573232367],[-0.5098863294504318],[-0.49120881441060277],[-0.491573798764784],[-0.3699541572001766],[-0.19306641239240313],[-0.11745368117895395],[-0.05226318818675333],[-0.11492162325344482],[-0.053882143372814405],[-0.03115217408338787],[-0.08515040347142211],[-0.09481965348278282],[-0.06159755243417867],[-0.14470310023620137],[-0.07799590002248503],[0.056594937766881695],[0.16862238918906822],[0.16781139731913713],[0.40551359921379876],[0.56958383132324],[0.43891351251376387],[0.5938529664924111],[0.804135539620928],[0.8240065291957206],[0.7563227886341289],[1.0165649710357298],[1.3772615411202085],[1.4167612608920714],[1.6282386919690168],[1.4037518899335968],[1.3596374393494286],[1.2121062891061638],[1.1293958242485682],[1.0841456535257923],[1.020260990675622],[0.9822176189233863],[0.8616001420137118],[1.0821716471434903],[1.0760564486388997],[0.8608864252977635],[0.7497245420298503],[0.8303995819325843],[0.8481406382254622],[0.8336448829730361],[0.7447905044340681],[0.7037770062890153],[0.7999435475591602],[0.6852389293558818],[0.6945092951515837],[0.7295930095858701],[1.0023421221313833],[1.129007296939118],[1.1548016142951747],[1.104840285102648],[1.0676719036720668],[1.0101245706614566],[0.9602843836209749],[1.0535511781004216],[0.9608368391944015],[0.9228771452620045],[0.8675352599673871],[0.8593448789498048],[0.8853183421179496],[0.8850908890032558],[1.0071361981667262],[1.0020450745951854],[1.0358487202895281],[0.9788954823513135],[0.9358924113066845],[1.1482003266739103],[1.3620496014413295],[1.616863107385999],[1.512489260093902],[1.5006395759775724],[1.6752835238510562],[1.6160955621767708],[1.509184808780446],[1.454853114431494],[1.5028518535185984],[1.4466382058670777],[1.5061766572121256],[1.5834167936506365],[1.7189189270177183],[2.019138356100195],[2.0707958374427506],[2.044842153348196],[2.1903896133149057],[2.175284171546441],[2.105541226274217],[2.10461451373744],[2.0393973121411415],[2.0207044299949883],[1.9240959317440134],[1.9630975728158422],[1.9658377783834606],[2.0148332232507458],[1.9216215908253067],[1.716374032012311],[1.7269440462105967],[1.6831998519075975],[1.7091018137870302],[1.8809138893718769],[1.8394601541654367],[1.7666367833187482],[1.721738622775228],[1.6462271673979432],[1.5727450424783649],[1.4339103034643426],[1.4621234382527515],[1.5969388626244077],[1.6703916990607242],[1.845459918656422],[1.9791331669599688],[1.9294105077480657],[1.6014472949372482],[1.4993730173294824],[1.4126983998835279],[1.4931541749836972],[1.3966344769213352],[1.4005682068766547],[1.2510060062562411],[1.1165165315453296],[1.1508018917786331],[1.1065640182796805],[0.9634659853261277],[1.2238829389621042],[1.3032178375762467],[1.2223931272924518],[1.2470895752008226],[1.3080016439476714],[1.2069341423730542],[1.2226907481351306],[1.2857036486283977],[1.3580226842564995],[1.4064006281911476],[1.3813685218014105],[1.4498532836854394],[1.498888087288955],[1.3872564666022575],[1.199923800577688],[1.1388590204327926],[1.1596211650793635],[1.17962719325677]]},\"selected\":{\"id\":\"1082\"},\"selection_policy\":{\"id\":\"1081\"}},\"id\":\"1066\",\"type\":\"ColumnDataSource\"},{\"attributes\":{\"months\":[0,4,8]},\"id\":\"1061\",\"type\":\"MonthsTicker\"},{\"attributes\":{\"axis\":{\"id\":\"1018\"},\"coordinates\":null,\"dimension\":1,\"grid_line_alpha\":0.2,\"grid_line_color\":\"grey\",\"group\":null,\"ticker\":null},\"id\":\"1021\",\"type\":\"Grid\"},{\"attributes\":{\"label\":{\"value\":\"DOGE\"},\"renderers\":[{\"id\":\"1040\"}]},\"id\":\"1065\",\"type\":\"LegendItem\"},{\"attributes\":{\"line_alpha\":0.2,\"line_color\":\"#FFC247\",\"line_width\":1.5,\"x\":{\"field\":\"x\"},\"y\":{\"field\":\"y\"}},\"id\":\"1039\",\"type\":\"Line\"},{\"attributes\":{\"line_alpha\":0.2,\"line_color\":\"#119DA4\",\"line_width\":1.5,\"x\":{\"field\":\"x\"},\"y\":{\"field\":\"y\"}},\"id\":\"1069\",\"type\":\"Line\"},{\"attributes\":{\"data\":{\"x\":{\"__ndarray__\":\"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\",\"dtype\":\"float64\",\"order\":\"little\",\"shape\":[366]},\"y\":[[-1.9514782223261018],[-1.5894439270213232],[-1.441407049607311],[-1.5604055737653146],[-1.4588206720491206],[-1.210085329374781],[-0.8739035077381354],[-0.6939939084363421],[-0.7459781547185799],[-0.747624109740175],[-1.0606845811480632],[-1.2417790134296738],[-1.13672475538711],[-0.8956959990070215],[-0.9352856515491932],[-1.1097942747656238],[-1.2261116071225437],[-1.1673493844210348],[-1.1208429015577546],[-1.2611513103458827],[-1.3452458021848195],[-1.5225537821801884],[-1.5684766015167684],[-1.610945979005539],[-1.421628933487789],[-1.6261685756878066],[-1.6496478026640906],[-1.5178216120309023],[-1.0546008738305668],[-1.4183732291124937],[-1.4740229777457596],[-1.43838648157637],[-1.310187797362061],[-1.148923998979225],[-1.0356650315652924],[-1.0729705585974116],[-0.8060513327188941],[-0.9307914028034731],[-0.2603876276159352],[-0.07707392134987293],[-0.1644794205044209],[-0.030247557467510126],[-0.0014980519464637492],[-0.07259001696429089],[0.07406707515845316],[0.01172608406500111],[0.1609943442831591],[0.3843381364128933],[0.3782464718561168],[0.7489440124330807],[0.8906795521116588],[0.9747430107683271],[0.893548136821413],[0.5545355273870591],[0.2576561020054792],[0.32475989869583655],[-0.039687628313591634],[-0.05165690763956948],[-0.20818813793476604],[0.10425365809358783],[0.13923964992631957],[0.3844626671821731],[0.30297576260458453],[0.06477699834920154],[0.039394200716879],[0.26725372618931714],[0.3619464650770991],[0.6176014230299058],[0.8655247293592641],[0.9503485022546633],[0.9407293935756935],[1.3162848286825772],[1.3075310698008433],[1.1998803646319234],[0.8222297883715135],[1.0398519275200955],[1.1566192417838004],[1.093687027760869],[1.1479653461786488],[1.0192860448136394],[0.9890950853714378],[0.735885386998653],[0.8659452695316365],[0.47177586236106533],[0.6495011995312419],[0.795242413463708],[0.7995301718246315],[0.9759171013478001],[1.0884770253163896],[1.1376519683979043],[1.1026190289043425],[1.1719926280740471],[1.1560101150914022],[1.0341410169392882],[1.1337071669990506],[1.0917725159899407],[1.0155425615176608],[0.9755749400587314],[1.0365142635292834],[1.2748105040422433],[1.225298969790083],[1.2724038369454165],[1.5259405778017099],[1.640098315417857],[1.534026326522222],[1.510910944248388],[1.4067618221994624],[1.2524836841301972],[0.8921898361271293],[0.8455508652552896],[0.814569751901591],[0.6772986213978199],[0.3422606529332327],[0.24517159141061487],[0.1777916784662917],[0.5629968576997659],[0.6779845354238133],[0.7605098596766021],[0.6473145501769149],[0.9309614844712485],[0.9867381510965045],[0.9311524582139845],[1.040207616166868],[0.8610356528954656],[0.932045658297776],[0.9780782875364289],[1.0028607114904886],[1.0902483067802657],[1.064405182982872],[1.0958239443951552],[0.8262390433576144],[0.9348975328559667],[0.2618022215072069],[0.2727283068144154],[0.1914037299181524],[0.0977378727340778],[-0.2176473061551204],[-0.30026016014185],[-0.5310929079441936],[-0.6414128691062015],[-0.6710328966045528],[-1.0113345788023747],[-1.06652201188436],[-0.9090657524463965],[-0.9150535749541717],[-0.8126176465732997],[-0.8536093646767248],[-1.0086951625839038],[-1.1739479250690636],[-1.258875937748113],[-1.1501398651413108],[-1.1064975905825698],[-1.072417132579978],[-0.9453443977748092],[-0.9694293696295291],[-1.1043606739482836],[-1.2552343072167793],[-1.2191633457826663],[-1.5016194792441109],[-1.1430996976622783],[-1.061927899760204],[-1.1358351360355314],[-1.1561821948145479],[-0.9612509190968606],[-0.7926254807680537],[-0.76034773534996],[-0.8396392375590861],[-0.9418082006384811],[-1.0769066069821298],[-1.253057206549589],[-1.2936263952981368],[-1.3280366808434492],[-1.5754558961407665],[-1.4266535323079548],[-1.3782285590031802],[-1.351910387969804],[-1.6421556639939165],[-1.43656188666024],[-1.3791412543995987],[-1.2444697539178944],[-1.2920707549678407],[-1.3978725956662865],[-1.509543298119798],[-1.4107796356160274],[-1.3060440650830436],[-1.3725765319930492],[-1.397612791829236],[-1.4017756214825272],[-1.5127703565355355],[-1.4990827113614345],[-1.4820959947815702],[-1.4438367926471256],[-1.4430776720197502],[-1.571926860468865],[-1.5989894312624102],[-1.5889832029178987],[-1.684850430323507],[-1.7136198288918285],[-1.6664568738388204],[-1.71872121504559],[-1.8083181378980333],[-1.6304692645498295],[-1.6483877737985342],[-1.5460105300700893],[-1.4534427719067458],[-1.3643690375624695],[-0.8413810772885506],[-0.9526789831072264],[-0.8091554517113559],[-0.8318685955140891],[-0.6645779841000765],[-0.6649953412748841],[-0.6333975419278607],[-0.8495798187049955],[-0.9177343689187542],[-0.8971330764211097],[-0.7555948762766914],[-0.5590470874755268],[-0.414599720650097],[-0.3542528136185279],[-0.2346288505549165],[-0.2161776041109081],[-0.20623224851957833],[-0.2578433004323316],[-0.09456671824613576],[-0.06740189695329664],[-0.14293360365323476],[-0.07764684257808088],[-0.16509013854282267],[-0.2860409713838004],[-0.18228374334398442],[0.05924870633349621],[0.09742992752298932],[0.0724342496580605],[0.17535318251419496],[0.11390459572968027],[0.04506333581692615],[0.059801734412575774],[0.03588704747846208],[0.0532752067545735],[0.09000423182627178],[0.016822297936841053],[-0.0581468319968807],[0.03571437543699835],[0.1612306742388689],[0.22629940705958523],[0.18182122443802098],[0.31658224393802203],[0.40135031605660393],[0.41691586970094213],[-0.14528138707753266],[-0.152625521097086],[-0.17607272019799794],[-0.2842860022349862],[-0.24399452118826043],[-0.22018128897858588],[-0.15708913449703896],[-0.031571642083812954],[-0.027868342922590984],[-0.061062762305817406],[0.003191944885560811],[-0.04400801130463992],[-0.1458777821870812],[-0.5248297649573074],[-0.4870412334499251],[-0.3889006228327573],[-0.37481272847191277],[-0.5870975494493773],[-0.4930831652866615],[-0.45295878616297636],[-0.6096185259998718],[-0.6330331003688062],[-0.47543201917593475],[-0.03304412918723684],[-0.04872426707721666],[0.03771084672159074],[0.07092356780608941],[0.31365954989930744],[0.6934152138368809],[0.6700054137096622],[0.7295235742446873],[0.6760473455463978],[0.7782421696279916],[0.9199940216216326],[0.9031720198439511],[0.9093627520043094],[0.9898339150131843],[1.425599790472511],[1.3764403641349099],[1.3123798135819797],[1.4110889689202886],[1.5964480836198354],[1.8506576090827724],[1.8170621448398006],[1.5231638992311107],[1.322397579897985],[1.2981490868524366],[1.5246204718559742],[1.473663902950445],[1.290956140379216],[1.3615857898457624],[1.44296368019428],[1.3821102949079591],[1.3898538823394024],[1.3911608588657887],[1.5769186313042236],[1.502988318984056],[1.46289417747149],[1.40363422932566],[1.3067942294434536],[1.4836414852335453],[1.9263699451653085],[2.013616299534243],[2.040025580931919],[1.7130164669015238],[1.7009775617063767],[1.6454535374537453],[1.704477553480367],[1.7845735326316958],[1.5237925211342833],[1.2286656776788067],[1.2413861203928795],[0.9768353667607889],[1.1305071631968675],[1.1452296473139558],[1.0700556185451469],[0.9283944790793057],[0.9210153332069166],[1.0804048039535812],[1.0616141812797157],[0.6690513407708363],[0.8793349160182873],[1.029978585020645],[1.0544765376449583],[1.047171791985307],[0.8747913323890271],[0.8883309729125076],[0.5239542653836033],[0.10263754284661054],[0.22092628115892615],[0.32331486404246756],[0.24555990468751138],[0.20744552430797514],[0.12780589275300383],[0.07106958317235225],[0.2000818950776468],[0.1471320376813848],[-0.03351400414129756],[0.07267336467298115],[0.0677454464373914],[-0.07695456276066294],[-0.14734151637822307],[-0.06832056020278691],[-0.13838962218747378],[0.055048875441160675],[0.07988859141618844],[0.261954602664895],[0.3110157571737695],[0.24609184610796053],[0.24810661909382517],[0.32550947063607527],[0.1954977294771291],[-0.0652570230797305],[-0.08967898404344928],[-0.02932491554745354],[-0.0950417654821175]]},\"selected\":{\"id\":\"1115\"},\"selection_policy\":{\"id\":\"1114\"}},\"id\":\"1097\",\"type\":\"ColumnDataSource\"},{\"attributes\":{},\"id\":\"1019\",\"type\":\"BasicTicker\"},{\"attributes\":{},\"id\":\"1047\",\"type\":\"DatetimeTickFormatter\"},{\"attributes\":{},\"id\":\"1081\",\"type\":\"UnionRenderers\"},{\"attributes\":{\"coordinates\":null,\"data_source\":{\"id\":\"1097\"},\"glyph\":{\"id\":\"1098\"},\"group\":null,\"hover_glyph\":null,\"muted_glyph\":{\"id\":\"1100\"},\"nonselection_glyph\":{\"id\":\"1099\"},\"view\":{\"id\":\"1102\"}},\"id\":\"1101\",\"type\":\"GlyphRenderer\"},{\"attributes\":{},\"id\":\"1023\",\"type\":\"WheelZoomTool\"},{\"attributes\":{\"tools\":[{\"id\":\"1022\"},{\"id\":\"1023\"},{\"id\":\"1024\"},{\"id\":\"1025\"},{\"id\":\"1026\"},{\"id\":\"1027\"}]},\"id\":\"1029\",\"type\":\"Toolbar\"},{\"attributes\":{},\"id\":\"1022\",\"type\":\"PanTool\"},{\"attributes\":{},\"id\":\"1010\",\"type\":\"LinearScale\"},{\"attributes\":{\"overlay\":{\"id\":\"1028\"}},\"id\":\"1024\",\"type\":\"BoxZoomTool\"},{\"attributes\":{},\"id\":\"1025\",\"type\":\"SaveTool\"},{\"attributes\":{\"label\":{\"value\":\"SOL\"},\"renderers\":[{\"id\":\"1070\"}]},\"id\":\"1096\",\"type\":\"LegendItem\"},{\"attributes\":{},\"id\":\"1026\",\"type\":\"ResetTool\"},{\"attributes\":{\"num_minor_ticks\":5,\"tickers\":[{\"id\":\"1052\"},{\"id\":\"1053\"},{\"id\":\"1054\"},{\"id\":\"1055\"},{\"id\":\"1056\"},{\"id\":\"1057\"},{\"id\":\"1058\"},{\"id\":\"1059\"},{\"id\":\"1060\"},{\"id\":\"1061\"},{\"id\":\"1062\"},{\"id\":\"1063\"}]},\"id\":\"1015\",\"type\":\"DatetimeTicker\"},{\"attributes\":{\"line_color\":\"#FFC247\",\"line_width\":1.5,\"x\":{\"field\":\"x\"},\"y\":{\"field\":\"y\"}},\"id\":\"1037\",\"type\":\"Line\"},{\"attributes\":{\"label\":{\"value\":\"BTC\"},\"renderers\":[{\"id\":\"1101\"}]},\"id\":\"1129\",\"type\":\"LegendItem\"},{\"attributes\":{\"coordinates\":null,\"group\":null,\"text\":\"Dogecoin, Solana and Bitcoin prices in 2021\",\"text_font_size\":\"15px\"},\"id\":\"1004\",\"type\":\"Title\"},{\"attributes\":{\"line_alpha\":0.1,\"line_color\":\"#119DA4\",\"line_width\":1.5,\"x\":{\"field\":\"x\"},\"y\":{\"field\":\"y\"}},\"id\":\"1068\",\"type\":\"Line\"},{\"attributes\":{\"bottom_units\":\"screen\",\"coordinates\":null,\"fill_alpha\":0.5,\"fill_color\":\"lightgrey\",\"group\":null,\"left_units\":\"screen\",\"level\":\"overlay\",\"line_alpha\":1.0,\"line_color\":\"black\",\"line_dash\":[4,4],\"line_width\":2,\"right_units\":\"screen\",\"syncable\":false,\"top_units\":\"screen\"},\"id\":\"1028\",\"type\":\"BoxAnnotation\"},{\"attributes\":{},\"id\":\"1048\",\"type\":\"AllLabels\"},{\"attributes\":{\"line_color\":\"#EE6055\",\"line_width\":1.5,\"x\":{\"field\":\"x\"},\"y\":{\"field\":\"y\"}},\"id\":\"1098\",\"type\":\"Line\"},{\"attributes\":{},\"id\":\"1045\",\"type\":\"AllLabels\"},{\"attributes\":{\"end\":5,\"start\":-2},\"id\":\"1131\",\"type\":\"Range1d\"},{\"attributes\":{\"end\":1640995200000.0,\"start\":1609459200000.0},\"id\":\"1130\",\"type\":\"Range1d\"},{\"attributes\":{\"source\":{\"id\":\"1066\"}},\"id\":\"1071\",\"type\":\"CDSView\"},{\"attributes\":{\"coordinates\":null,\"data_source\":{\"id\":\"1066\"},\"glyph\":{\"id\":\"1067\"},\"group\":null,\"hover_glyph\":null,\"muted_glyph\":{\"id\":\"1069\"},\"nonselection_glyph\":{\"id\":\"1068\"},\"view\":{\"id\":\"1071\"}},\"id\":\"1070\",\"type\":\"GlyphRenderer\"},{\"attributes\":{\"line_alpha\":0.2,\"line_color\":\"#EE6055\",\"line_width\":1.5,\"x\":{\"field\":\"x\"},\"y\":{\"field\":\"y\"}},\"id\":\"1100\",\"type\":\"Line\"},{\"attributes\":{},\"id\":\"1044\",\"type\":\"BasicTickFormatter\"},{\"attributes\":{},\"id\":\"1082\",\"type\":\"Selection\"},{\"attributes\":{\"coordinates\":null,\"group\":null,\"text\":\" \",\"text_font_style\":\"italic\"},\"id\":\"1132\",\"type\":\"Title\"},{\"attributes\":{\"mantissas\":[1,2,5],\"max_interval\":500.0,\"num_minor_ticks\":0},\"id\":\"1052\",\"type\":\"AdaptiveTicker\"}],\"root_ids\":[\"1003\"]},\"title\":\"Bokeh Application\",\"version\":\"2.4.3\"}};\n",
       "  const render_items = [{\"docid\":\"7acc6185-367d-4cfb-9b38-837f0d10ecb1\",\"root_ids\":[\"1003\"],\"roots\":{\"1003\":\"13422e47-3f6e-448c-91cb-e5072ea77e7d\"}}];\n",
       "  root.Bokeh.embed.embed_items_notebook(docs_json, render_items);\n",
       "  }\n",
       "  if (root.Bokeh !== undefined) {\n",
       "    embed_document(root);\n",
       "  } else {\n",
       "    let attempts = 0;\n",
       "    const timer = setInterval(function(root) {\n",
       "      if (root.Bokeh !== undefined) {\n",
       "        clearInterval(timer);\n",
       "        embed_document(root);\n",
       "      } else {\n",
       "        attempts++;\n",
       "        if (attempts > 100) {\n",
       "          clearInterval(timer);\n",
       "          console.log(\"Bokeh: ERROR: Unable to run BokehJS code because BokehJS library is missing\");\n",
       "        }\n",
       "      }\n",
       "    }, 10, root)\n",
       "  }\n",
       "})(window);"
      ],
      "application/vnd.bokehjs_exec.v0+json": ""
     },
     "metadata": {
      "application/vnd.bokehjs_exec.v0+json": {
       "id": "1003"
      }
     },
     "output_type": "display_data"
    }
   ],
   "source": [
    "p_all = plot_stdzed_prices(doge_df, solana_df, bitcoin_df)\n",
    "\n",
    "show(p_all)"
   ]
  },
  {
   "cell_type": "code",
   "execution_count": 6,
   "metadata": {
    "pycharm": {
     "name": "#%%\n"
    }
   },
   "outputs": [
    {
     "data": {
      "text/html": [
       "\n",
       "  <div class=\"bk-root\" id=\"0e2b37df-2842-439f-844c-d5538c550a21\" data-root-id=\"1289\"></div>\n"
      ]
     },
     "metadata": {},
     "output_type": "display_data"
    },
    {
     "data": {
      "application/javascript": [
       "(function(root) {\n",
       "  function embed_document(root) {\n",
       "  const docs_json = {\"fb9d6ed8-818d-4c31-b4b6-d6424e2c553e\":{\"defs\":[],\"roots\":{\"references\":[{\"attributes\":{\"above\":[{\"id\":\"1418\"}],\"below\":[{\"id\":\"1300\"}],\"center\":[{\"id\":\"1303\"},{\"id\":\"1307\"},{\"id\":\"1350\"}],\"height\":400,\"left\":[{\"id\":\"1304\"}],\"renderers\":[{\"id\":\"1326\"},{\"id\":\"1356\"},{\"id\":\"1387\"},{\"id\":\"1419\"},{\"id\":\"1420\"},{\"id\":\"1421\"},{\"id\":\"1422\"},{\"id\":\"1423\"},{\"id\":\"1424\"},{\"id\":\"1425\"},{\"id\":\"1426\"},{\"id\":\"1427\"},{\"id\":\"1428\"}],\"title\":{\"id\":\"1290\"},\"toolbar\":{\"id\":\"1315\"},\"width\":900,\"x_range\":{\"id\":\"1416\"},\"x_scale\":{\"id\":\"1296\"},\"y_range\":{\"id\":\"1417\"},\"y_scale\":{\"id\":\"1298\"}},\"id\":\"1289\",\"subtype\":\"Figure\",\"type\":\"Plot\"},{\"attributes\":{},\"id\":\"1336\",\"type\":\"Selection\"},{\"attributes\":{\"coordinates\":null,\"data_source\":{\"id\":\"1352\"},\"glyph\":{\"id\":\"1353\"},\"group\":null,\"hover_glyph\":null,\"muted_glyph\":{\"id\":\"1355\"},\"nonselection_glyph\":{\"id\":\"1354\"},\"view\":{\"id\":\"1357\"}},\"id\":\"1356\",\"type\":\"GlyphRenderer\"},{\"attributes\":{},\"id\":\"1312\",\"type\":\"ResetTool\"},{\"attributes\":{},\"id\":\"1311\",\"type\":\"SaveTool\"},{\"attributes\":{\"coordinates\":null,\"dimension\":\"height\",\"group\":null,\"line_color\":\"grey\",\"line_dash\":[6],\"location\":1618444800000.0},\"id\":\"1419\",\"type\":\"Span\"},{\"attributes\":{\"border_line_width\":2,\"coordinates\":null,\"group\":null,\"items\":[{\"id\":\"1351\"},{\"id\":\"1382\"},{\"id\":\"1415\"}]},\"id\":\"1350\",\"type\":\"Legend\"},{\"attributes\":{\"coordinates\":null,\"dimension\":\"height\",\"group\":null,\"line_color\":\"grey\",\"line_dash\":[6],\"location\":1619568000000.0},\"id\":\"1420\",\"type\":\"Span\"},{\"attributes\":{},\"id\":\"1331\",\"type\":\"AllLabels\"},{\"attributes\":{\"data\":{\"x\":{\"__ndarray__\":\"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\",\"dtype\":\"float64\",\"order\":\"little\",\"shape\":[366]},\"y\":[[-1.5242847746865402],[-1.466823526270677],[-1.465611626734638],[-1.4831519004929308],[-1.491771446305469],[-1.4872178592913576],[-1.4895269223126866],[-1.4912981600961284],[-1.4880353536529463],[-1.487124636250124],[-1.494360178450499],[-1.4994731037120128],[-1.5030514342947556],[-1.4931267659049445],[-1.4948047806471525],[-1.496705096487687],[-1.497881141007867],[-1.4983974532362387],[-1.496117074227597],[-1.4994157356866384],[-1.4998746798896352],[-1.5021694009046205],[-1.5018897317809192],[-1.5008642783273478],[-1.5013805905557194],[-1.5044139248974029],[-1.5058266125222532],[-1.3199685523147975],[-1.005907297401389],[-1.2072116984409635],[-1.2402843650694373],[-1.254906040536796],[-1.3145974709390977],[-1.2846298486840257],[-1.1500731451678325],[-1.179682217264313],[-1.1469250747753998],[-0.9601276131524346],[-0.9559110632873995],[-0.9689407760506124],[-0.9835481095116272],[-1.0322392210483438],[-1.044365387411906],[-1.051278234469549],[-1.0885531089567144],[-1.1066527209624102],[-1.1371725104617127],[-1.1707686603217302],[-1.121891102702546],[-1.1383987520040957],[-1.1327408305015227],[-1.1460645543947803],[-1.1314500499305935],[-1.179481429175502],[-1.1357024548114878],[-1.1505105763613142],[-1.188775049286192],[-1.1927334430370415],[-1.2055408547019273],[-1.195895855435818],[-1.1894204395716568],[-1.1912562163836447],[-1.1987068886791747],[-1.2003777324182108],[-1.189312874524079],[-1.1911486513360674],[-1.1208154522267717],[-1.1185279022149583],[-1.1447164057984767],[-1.158470389882044],[-1.1564481669875883],[-1.1173518576947785],[-1.1129058357282446],[-1.1370219193951046],[-1.1425292498310688],[-1.1429236550055195],[-1.143196153126049],[-1.136792447293606],[-1.1302094663818671],[-1.1382266479279717],[-1.151055572602373],[-1.1628948988390624],[-1.1599332745290971],[-1.1892411644923608],[-1.1776169683508266],[-1.1675273668880635],[-1.1724251620544226],[-1.1731494333747772],[-1.1675345378912356],[-1.1744617269552218],[-1.062285724338306],[-1.1186641512752231],[-1.1384919750453293],[-1.1483664464129375],[-1.133694573923376],[-1.0985781713909308],[-1.0824505852574882],[-1.1222783368738247],[-1.1067531150068157],[-1.098449093333838],[-0.9968001233731665],[-1.0273270838756412],[-0.8825086748205612],[-0.5431122657010818],[-0.22173658755240805],[1.5736961605910242],[1.1201660649887197],[0.9442111601615598],[1.5310358627218157],[1.4635997488939385],[0.9230423587983215],[0.6490454986059198],[0.3594875615306497],[0.5101646801771136],[0.5057258292137519],[0.4460702538273089],[0.44016851821689423],[0.9065203674904284],[0.7574997505766564],[0.8713465969326084],[1.2828044169257944],[1.3035573001050667],[1.6301104425438004],[2.780561652403447],[3.4206740795335615],[3.193740513157871],[3.6839216059713915],[3.724043368717773],[3.437619160028593],[2.520175356231176],[2.35498412716493],[2.163690446553228],[2.1600045509229084],[2.663616932677265],[2.4698994529934843],[2.3656976059036423],[2.1295994974743553],[2.1323101366733064],[3.345184929143721],[1.5413692782924209],[1.3892221039957315],[1.0202166227797718],[0.9509877581589377],[1.0988681855683888],[1.1600009876082282],[1.0589615529171623],[0.9696323664056926],[0.929589484694201],[0.714746229666214],[0.6602824605761751],[0.7953769893302555],[1.1820087963425705],[1.623104372444924],[1.5956609433063358],[1.3103912661278192],[1.2595058276205229],[1.1369677254203145],[1.1576202145551813],[0.883379540254937],[0.9717764963540693],[0.9055666240685748],[0.8244912622078799],[0.7248788571480079],[0.8015655650675436],[0.8510526579563332],[0.8049287655551313],[0.7396582946851467],[0.6867219492707074],[0.641838640418232],[0.5704943298617083],[0.5125813082460201],[0.4492039822133982],[-0.01524038021642944],[0.20697466607219742],[0.3617249145202601],[0.5084077844000157],[0.2644645985007479],[0.3488242798141404],[0.3494768411027768],[0.4065436843441896],[0.3247799061789989],[0.30006862924887723],[0.21333534588560946],[0.2292334599175536],[0.24610683038086642],[0.20201950288046383],[0.16968544957868825],[0.1405783477042358],[0.047921815721037396],[0.07810456807126441],[0.0676492454467381],[0.003569161103277074],[0.005146781801079367],[-0.07303866578136864],[-0.09870368613334345],[-0.12482765068831536],[-0.2145942683932667],[-0.09544805069333316],[-0.16105555871239383],[-0.2459458942605016],[-0.28219531529409553],[-0.028951338280965844],[-0.15663822075854733],[-0.13421449384023912],[-0.09952118049493194],[-0.12761717092215671],[0.10412096757865878],[-0.06421116087684747],[-0.03227868375269449],[-0.08527956819568008],[-0.05453030659487883],[-0.027983252852768998],[-0.004562756493576615],[-0.05943527276440957],[-0.09444411024927714],[-0.10854947348826412],[-0.11283056238184594],[-0.0465489800646335],[0.3136791932690081],[0.4527177737675942],[0.3443352318285755],[0.31942316680964283],[0.4606273902661214],[0.5442412872496437],[0.49437413119274703],[0.5751769949329125],[0.9356346403680524],[0.9516331484444025],[0.869231150996919],[0.7599809176741092],[0.7226271621520539],[0.8244912622078799],[0.7967609929424184],[0.7407196031545776],[0.7877111869395708],[0.7279265334960352],[0.5634093787279416],[0.5575793531492449],[0.5492825024794393],[0.5802970911975981],[0.5264643703866804],[0.5113765797131529],[0.4845570278505135],[0.5495980266189997],[0.652415870096679],[0.618475512084414],[0.648859052523452],[0.6938786104361925],[0.7278835074770041],[0.6653451888154861],[0.32300149739238554],[0.29623931355512084],[0.3110402641017753],[0.2134859369522178],[0.2620766544445291],[0.2422631726807664],[0.16802177684282413],[0.2156659219164537],[0.21144220104824676],[0.29607438048216883],[0.20853794476365603],[0.16520357259629542],[0.1101374392398231],[-0.0010991619615832848],[0.0801411329720636],[0.06344703758804647],[0.07185145330542972],[-0.04046796937492286],[-0.06582463659050894],[-0.0642972129149095],[-0.11235727617250517],[-0.10113465620859341],[-0.08921644893701418],[0.04560558169653681],[0.04810109080033309],[0.057229777838071164],[0.21281186265406601],[0.3552494986560989],[0.38193997246164524],[0.2760242556137357],[0.26186152434937404],[0.24179705747459765],[0.21811123399804733],[0.1515499825571337],[0.09659858525141055],[0.11255406730872938],[0.1551283131398762],[0.18086504352356916],[0.18787828462561768],[0.1701372227785135],[0.3811153070968851],[0.26076436086408417],[0.3105598068892625],[0.2869385224412591],[0.24757688603109138],[0.2502158151983242],[0.45670485153113094],[0.43904267071891695],[0.40207614936814],[0.3231951144780249],[0.8647923000335572],[0.6315123958507984],[0.547862643851417],[0.47658287232344],[0.4826351990004635],[0.44774826856951694],[0.4220617352080268],[0.37732184641898775],[0.3767768501779286],[0.3546041083706345],[0.3700361071964097],[0.5613799848303143],[0.512158219058882],[0.4212370698432663],[0.3708679435643419],[0.35991065071778744],[0.3155508250968555],[0.3801328796623446],[0.3364829833554234],[0.27856996173973486],[0.16248576239417242],[0.16381239798096064],[0.13327109547214225],[0.1269677836841049],[0.1083016624278349],[0.06657359497096392],[0.1287461924707184],[0.0860356975793069],[0.07574530802773281],[0.025182564663168816],[-0.061916439861862384],[-0.07726955765274761],[0.03904411379431357],[0.06197698193782172],[0.0017835813134917397],[0.03416066063429814],[-0.044863794319253664],[-0.12682118957008373],[-0.26614661019554303],[-0.2704922381176712],[-0.24889317656412313],[-0.2587246219127003],[-0.2607181607944687],[-0.3129230638853815],[-0.3454077082537652],[-0.3251926503123803],[-0.34157122155683706],[0.0099298409166891],[-0.19435769744236606],[-0.2388967981425941],[-0.29894677870348735],[-0.31102991904801863],[-0.31458673662124564],[-0.3400079428653782],[-0.3292012410854325],[-0.2772473231055338],[-0.24184408044621566],[-0.16462671829196449],[-0.16759551360510155],[-0.18430395099546235],[-0.18160048279968283],[-0.21772799677935578],[-0.293353396229461],[-0.30459752920288824],[-0.30801809771585054],[-0.3214350446503421]]},\"selected\":{\"id\":\"1336\"},\"selection_policy\":{\"id\":\"1335\"}},\"id\":\"1322\",\"type\":\"ColumnDataSource\"},{\"attributes\":{\"bottom_units\":\"screen\",\"coordinates\":null,\"fill_alpha\":0.5,\"fill_color\":\"lightgrey\",\"group\":null,\"left_units\":\"screen\",\"level\":\"overlay\",\"line_alpha\":1.0,\"line_color\":\"black\",\"line_dash\":[4,4],\"line_width\":2,\"right_units\":\"screen\",\"syncable\":false,\"top_units\":\"screen\"},\"id\":\"1314\",\"type\":\"BoxAnnotation\"},{\"attributes\":{},\"id\":\"1330\",\"type\":\"BasicTickFormatter\"},{\"attributes\":{\"tools\":[{\"id\":\"1308\"},{\"id\":\"1309\"},{\"id\":\"1310\"},{\"id\":\"1311\"},{\"id\":\"1312\"},{\"id\":\"1313\"}]},\"id\":\"1315\",\"type\":\"Toolbar\"},{\"attributes\":{},\"id\":\"1305\",\"type\":\"BasicTicker\"},{\"attributes\":{\"axis_label\":\"\",\"axis_line_alpha\":0.2,\"axis_line_color\":\"grey\",\"coordinates\":null,\"formatter\":{\"id\":\"1333\"},\"group\":null,\"major_label_policy\":{\"id\":\"1334\"},\"major_label_text_color\":\"grey\",\"major_tick_line_alpha\":0.2,\"major_tick_line_color\":\"grey\",\"ticker\":{\"id\":\"1301\"}},\"id\":\"1300\",\"type\":\"DatetimeAxis\"},{\"attributes\":{\"line_alpha\":0.2,\"line_color\":\"#FFC247\",\"line_width\":1.5,\"x\":{\"field\":\"x\"},\"y\":{\"field\":\"y\"}},\"id\":\"1325\",\"type\":\"Line\"},{\"attributes\":{\"axis_label\":\"standardized prices (DOGE-USD)\",\"axis_line_alpha\":0.2,\"axis_line_color\":\"grey\",\"coordinates\":null,\"formatter\":{\"id\":\"1330\"},\"group\":null,\"major_label_policy\":{\"id\":\"1331\"},\"major_label_text_color\":\"grey\",\"major_tick_line_alpha\":0.2,\"major_tick_line_color\":\"grey\",\"minor_tick_line_width\":0,\"ticker\":{\"id\":\"1305\"}},\"id\":\"1304\",\"type\":\"LinearAxis\"},{\"attributes\":{\"source\":{\"id\":\"1322\"}},\"id\":\"1327\",\"type\":\"CDSView\"},{\"attributes\":{\"line_alpha\":0.2,\"line_color\":\"#119DA4\",\"line_width\":1.5,\"x\":{\"field\":\"x\"},\"y\":{\"field\":\"y\"}},\"id\":\"1355\",\"type\":\"Line\"},{\"attributes\":{\"axis\":{\"id\":\"1300\"},\"coordinates\":null,\"grid_line_alpha\":0.2,\"grid_line_color\":null,\"group\":null,\"ticker\":null},\"id\":\"1303\",\"type\":\"Grid\"},{\"attributes\":{},\"id\":\"1333\",\"type\":\"DatetimeTickFormatter\"},{\"attributes\":{},\"id\":\"1368\",\"type\":\"Selection\"},{\"attributes\":{\"coordinates\":null,\"dimension\":\"height\",\"group\":null,\"line_color\":\"grey\",\"line_dash\":[6],\"location\":1614988800000.0},\"id\":\"1428\",\"type\":\"Span\"},{\"attributes\":{\"num_minor_ticks\":5,\"tickers\":[{\"id\":\"1338\"},{\"id\":\"1339\"},{\"id\":\"1340\"},{\"id\":\"1341\"},{\"id\":\"1342\"},{\"id\":\"1343\"},{\"id\":\"1344\"},{\"id\":\"1345\"},{\"id\":\"1346\"},{\"id\":\"1347\"},{\"id\":\"1348\"},{\"id\":\"1349\"}]},\"id\":\"1301\",\"type\":\"DatetimeTicker\"},{\"attributes\":{},\"id\":\"1298\",\"type\":\"LinearScale\"},{\"attributes\":{\"coordinates\":null,\"dimension\":\"height\",\"group\":null,\"line_color\":\"grey\",\"line_dash\":[6],\"location\":1639440000000.0},\"id\":\"1426\",\"type\":\"Span\"},{\"attributes\":{\"source\":{\"id\":\"1352\"}},\"id\":\"1357\",\"type\":\"CDSView\"},{\"attributes\":{\"coordinates\":null,\"dimension\":\"height\",\"group\":null,\"line_color\":\"grey\",\"line_dash\":[6],\"location\":1620950400000.0},\"id\":\"1427\",\"type\":\"Span\"},{\"attributes\":{},\"id\":\"1296\",\"type\":\"LinearScale\"},{\"attributes\":{\"data\":{\"x\":{\"__ndarray__\":\"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\",\"dtype\":\"float64\",\"order\":\"little\",\"shape\":[366]},\"y\":[[-1.027635087601046],[-1.0260193728429206],[-1.0213371289609006],[-1.0198401011075],[-1.0196217585805782],[-1.023569148185964],[-1.0182605918999599],[-1.0037099612467668],[-1.0051623210473968],[-1.0042803887320502],[-1.0070220400290555],[-1.0028986577972265],[-1.0055856081780459],[-1.0066569310430304],[-1.0079897938319518],[-1.0046582600188667],[-1.0013911608689576],[-0.9991160314891699],[-1.0005676310355538],[-1.004237365819616],[-1.004270729764166],[-1.0072267478322798],[-1.0059784851388403],[-1.0035388541885952],[-1.0012791791574223],[-0.9997517037446133],[-1.000353501064948],[-1.0016638678060874],[-1.0022981067953287],[-0.9970713713146927],[-0.9911509349922015],[-0.9933370772356104],[-0.9834657366897422],[-0.9787653838008374],[-0.9694151289933446],[-0.9619857500131981],[-0.9660735000009223],[-0.9651713773269013],[-0.9504097449623786],[-0.945276770017734],[-0.9377387868490152],[-0.9298321426867271],[-0.9271220481725384],[-0.9324240488235654],[-0.9358980243707787],[-0.934772125221452],[-0.93888834112227],[-0.945706575393807],[-0.9351642543911842],[-0.9052351385264187],[-0.9039120468740408],[-0.9057372552981877],[-0.869527317671781],[-0.8545997878601521],[-0.8246476275674924],[-0.8302707421637296],[-0.8578360530919376],[-0.8686994631134017],[-0.8790819063869674],[-0.8574328441513033],[-0.8610712464898675],[-0.8672376063662841],[-0.8730828149079374],[-0.8877955915897423],[-0.8854198718489302],[-0.8763663405348417],[-0.877937661430253],[-0.8640335086133493],[-0.8615222517425484],[-0.8484176994450645],[-0.8453468082066419],[-0.858949102698182],[-0.859504536972672],[-0.8664759313168924],[-0.872801957048232],[-0.8730026018533529],[-0.8670367247606604],[-0.8702429786444906],[-0.8641360307679504],[-0.8717696688766842],[-0.8439250455236322],[-0.8608271674872284],[-0.8592353446535339],[-0.8800012656449677],[-0.8663036776457591],[-0.841378916662973],[-0.8092009687374337],[-0.8141633351512815],[-0.790712221088024],[-0.8040936056366628],[-0.7970426961761823],[-0.8037350024328773],[-0.7538496862018037],[-0.7321345316994426],[-0.7420040650835776],[-0.7349139090555262],[-0.7082290971764628],[-0.7022169193538477],[-0.6891963439926272],[-0.6986280207835884],[-0.6932781241150399],[-0.678632935282056],[-0.6918982751210556],[-0.7082904534331005],[-0.6987348551999805],[-0.6990155261119205],[-0.7165526223926356],[-0.6407415395999889],[-0.6011374281958696],[-0.6433008420465238],[-0.614547241268049],[-0.5401724407681995],[-0.5340480568967302],[-0.5082622020428585],[-0.44716714882313663],[-0.4487061277551159],[-0.47066840227710166],[-0.4660825237366058],[-0.476614836802182],[-0.49906524440307715],[-0.42959015788926347],[-0.42894091322604455],[-0.4399984747335745],[-0.4556060831265458],[-0.4784057839325046],[-0.4902924213904818],[-0.476763497665309],[-0.4695415309993945],[-0.46353192059275894],[-0.47903255747431017],[-0.4880845558167215],[-0.44037759233882773],[-0.48477064494633093],[-0.4925684107299909],[-0.4850861006058387],[-0.3964783186327521],[-0.4042717970809899],[-0.32417221979002325],[-0.33385802091022304],[-0.4119688104822288],[-0.4569965258272418],[-0.5521655636734064],[-0.646553134933405],[-0.6508132507609219],[-0.6379054422918521],[-0.5867127878734404],[-0.6080321490298655],[-0.6208012297937486],[-0.6766383771087332],[-0.6800418858115366],[-0.639731772402592],[-0.6359139500618836],[-0.6141253375508646],[-0.5380098913327968],[-0.5571472978757602],[-0.5171054420471263],[-0.5101943695152412],[-0.5011789256925777],[-0.5213975508689127],[-0.5024625464400659],[-0.5148342011808609],[-0.5359272059828165],[-0.5820193271254903],[-0.5602617105539917],[-0.5463459794388114],[-0.5303662577502009],[-0.5336361985061454],[-0.5368626178222812],[-0.5594247578710245],[-0.5852552059985605],[-0.6030302120056532],[-0.6083989903985174],[-0.6929572968230701],[-0.6423568679993992],[-0.6396355441560961],[-0.6407422126119448],[-0.6768291012190981],[-0.6528704239725034],[-0.6240326966995529],[-0.604772677348789],[-0.6027019815821696],[-0.6078932717664665],[-0.6266678750125128],[-0.6095561472142359],[-0.6083397030304847],[-0.6213082695233424],[-0.6148711095770044],[-0.5770654606033808],[-0.5907303452068109],[-0.622228999731623],[-0.6253131268718433],[-0.6453059814633739],[-0.6439634597065683],[-0.663285757589613],[-0.6590278975984665],[-0.658428854641877],[-0.6838687065713578],[-0.7056196678024047],[-0.7051638019078208],[-0.7177742761874523],[-0.7395367783272228],[-0.7091154539222597],[-0.7001482924758331],[-0.6932359486991426],[-0.6830511839928186],[-0.6909630751557252],[-0.6637803964507618],[-0.6899698466039831],[-0.6925337355023649],[-0.6534093819172606],[-0.6388401935825454],[-0.5913164139884746],[-0.5931652775365497],[-0.6032295232500469],[-0.604217891159886],[-0.5940057448375081],[-0.5746081817840725],[-0.5474481860746566],[-0.5459800977353556],[-0.5581016288290936],[-0.5522246142409363],[-0.5315847458961883],[-0.5056833573232367],[-0.5098863294504318],[-0.49120881441060277],[-0.491573798764784],[-0.3699541572001766],[-0.19306641239240313],[-0.11745368117895395],[-0.05226318818675333],[-0.11492162325344482],[-0.053882143372814405],[-0.03115217408338787],[-0.08515040347142211],[-0.09481965348278282],[-0.06159755243417867],[-0.14470310023620137],[-0.07799590002248503],[0.056594937766881695],[0.16862238918906822],[0.16781139731913713],[0.40551359921379876],[0.56958383132324],[0.43891351251376387],[0.5938529664924111],[0.804135539620928],[0.8240065291957206],[0.7563227886341289],[1.0165649710357298],[1.3772615411202085],[1.4167612608920714],[1.6282386919690168],[1.4037518899335968],[1.3596374393494286],[1.2121062891061638],[1.1293958242485682],[1.0841456535257923],[1.020260990675622],[0.9822176189233863],[0.8616001420137118],[1.0821716471434903],[1.0760564486388997],[0.8608864252977635],[0.7497245420298503],[0.8303995819325843],[0.8481406382254622],[0.8336448829730361],[0.7447905044340681],[0.7037770062890153],[0.7999435475591602],[0.6852389293558818],[0.6945092951515837],[0.7295930095858701],[1.0023421221313833],[1.129007296939118],[1.1548016142951747],[1.104840285102648],[1.0676719036720668],[1.0101245706614566],[0.9602843836209749],[1.0535511781004216],[0.9608368391944015],[0.9228771452620045],[0.8675352599673871],[0.8593448789498048],[0.8853183421179496],[0.8850908890032558],[1.0071361981667262],[1.0020450745951854],[1.0358487202895281],[0.9788954823513135],[0.9358924113066845],[1.1482003266739103],[1.3620496014413295],[1.616863107385999],[1.512489260093902],[1.5006395759775724],[1.6752835238510562],[1.6160955621767708],[1.509184808780446],[1.454853114431494],[1.5028518535185984],[1.4466382058670777],[1.5061766572121256],[1.5834167936506365],[1.7189189270177183],[2.019138356100195],[2.0707958374427506],[2.044842153348196],[2.1903896133149057],[2.175284171546441],[2.105541226274217],[2.10461451373744],[2.0393973121411415],[2.0207044299949883],[1.9240959317440134],[1.9630975728158422],[1.9658377783834606],[2.0148332232507458],[1.9216215908253067],[1.716374032012311],[1.7269440462105967],[1.6831998519075975],[1.7091018137870302],[1.8809138893718769],[1.8394601541654367],[1.7666367833187482],[1.721738622775228],[1.6462271673979432],[1.5727450424783649],[1.4339103034643426],[1.4621234382527515],[1.5969388626244077],[1.6703916990607242],[1.845459918656422],[1.9791331669599688],[1.9294105077480657],[1.6014472949372482],[1.4993730173294824],[1.4126983998835279],[1.4931541749836972],[1.3966344769213352],[1.4005682068766547],[1.2510060062562411],[1.1165165315453296],[1.1508018917786331],[1.1065640182796805],[0.9634659853261277],[1.2238829389621042],[1.3032178375762467],[1.2223931272924518],[1.2470895752008226],[1.3080016439476714],[1.2069341423730542],[1.2226907481351306],[1.2857036486283977],[1.3580226842564995],[1.4064006281911476],[1.3813685218014105],[1.4498532836854394],[1.498888087288955],[1.3872564666022575],[1.199923800577688],[1.1388590204327926],[1.1596211650793635],[1.17962719325677]]},\"selected\":{\"id\":\"1368\"},\"selection_policy\":{\"id\":\"1367\"}},\"id\":\"1352\",\"type\":\"ColumnDataSource\"},{\"attributes\":{\"coordinates\":null,\"group\":null,\"text\":\"Dogecoin, Solana and Bitcoin prices in 2021\",\"text_font_size\":\"15px\"},\"id\":\"1290\",\"type\":\"Title\"},{\"attributes\":{\"line_color\":\"#119DA4\",\"line_width\":1.5,\"x\":{\"field\":\"x\"},\"y\":{\"field\":\"y\"}},\"id\":\"1353\",\"type\":\"Line\"},{\"attributes\":{\"source\":{\"id\":\"1383\"}},\"id\":\"1388\",\"type\":\"CDSView\"},{\"attributes\":{\"end\":1640995200000.0,\"start\":1609459200000.0},\"id\":\"1416\",\"type\":\"Range1d\"},{\"attributes\":{\"line_alpha\":0.2,\"line_color\":\"#EE6055\",\"line_width\":1.5,\"x\":{\"field\":\"x\"},\"y\":{\"field\":\"y\"}},\"id\":\"1386\",\"type\":\"Line\"},{\"attributes\":{\"label\":{\"value\":\"DOGE\"},\"renderers\":[{\"id\":\"1326\"}]},\"id\":\"1351\",\"type\":\"LegendItem\"},{\"attributes\":{\"line_color\":\"#EE6055\",\"line_width\":1.5,\"x\":{\"field\":\"x\"},\"y\":{\"field\":\"y\"}},\"id\":\"1384\",\"type\":\"Line\"},{\"attributes\":{\"mantissas\":[1,2,5],\"max_interval\":500.0,\"num_minor_ticks\":0},\"id\":\"1338\",\"type\":\"AdaptiveTicker\"},{\"attributes\":{\"data\":{\"x\":{\"__ndarray__\":\"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\",\"dtype\":\"float64\",\"order\":\"little\",\"shape\":[366]},\"y\":[[-1.9514782223261018],[-1.5894439270213232],[-1.441407049607311],[-1.5604055737653146],[-1.4588206720491206],[-1.210085329374781],[-0.8739035077381354],[-0.6939939084363421],[-0.7459781547185799],[-0.747624109740175],[-1.0606845811480632],[-1.2417790134296738],[-1.13672475538711],[-0.8956959990070215],[-0.9352856515491932],[-1.1097942747656238],[-1.2261116071225437],[-1.1673493844210348],[-1.1208429015577546],[-1.2611513103458827],[-1.3452458021848195],[-1.5225537821801884],[-1.5684766015167684],[-1.610945979005539],[-1.421628933487789],[-1.6261685756878066],[-1.6496478026640906],[-1.5178216120309023],[-1.0546008738305668],[-1.4183732291124937],[-1.4740229777457596],[-1.43838648157637],[-1.310187797362061],[-1.148923998979225],[-1.0356650315652924],[-1.0729705585974116],[-0.8060513327188941],[-0.9307914028034731],[-0.2603876276159352],[-0.07707392134987293],[-0.1644794205044209],[-0.030247557467510126],[-0.0014980519464637492],[-0.07259001696429089],[0.07406707515845316],[0.01172608406500111],[0.1609943442831591],[0.3843381364128933],[0.3782464718561168],[0.7489440124330807],[0.8906795521116588],[0.9747430107683271],[0.893548136821413],[0.5545355273870591],[0.2576561020054792],[0.32475989869583655],[-0.039687628313591634],[-0.05165690763956948],[-0.20818813793476604],[0.10425365809358783],[0.13923964992631957],[0.3844626671821731],[0.30297576260458453],[0.06477699834920154],[0.039394200716879],[0.26725372618931714],[0.3619464650770991],[0.6176014230299058],[0.8655247293592641],[0.9503485022546633],[0.9407293935756935],[1.3162848286825772],[1.3075310698008433],[1.1998803646319234],[0.8222297883715135],[1.0398519275200955],[1.1566192417838004],[1.093687027760869],[1.1479653461786488],[1.0192860448136394],[0.9890950853714378],[0.735885386998653],[0.8659452695316365],[0.47177586236106533],[0.6495011995312419],[0.795242413463708],[0.7995301718246315],[0.9759171013478001],[1.0884770253163896],[1.1376519683979043],[1.1026190289043425],[1.1719926280740471],[1.1560101150914022],[1.0341410169392882],[1.1337071669990506],[1.0917725159899407],[1.0155425615176608],[0.9755749400587314],[1.0365142635292834],[1.2748105040422433],[1.225298969790083],[1.2724038369454165],[1.5259405778017099],[1.640098315417857],[1.534026326522222],[1.510910944248388],[1.4067618221994624],[1.2524836841301972],[0.8921898361271293],[0.8455508652552896],[0.814569751901591],[0.6772986213978199],[0.3422606529332327],[0.24517159141061487],[0.1777916784662917],[0.5629968576997659],[0.6779845354238133],[0.7605098596766021],[0.6473145501769149],[0.9309614844712485],[0.9867381510965045],[0.9311524582139845],[1.040207616166868],[0.8610356528954656],[0.932045658297776],[0.9780782875364289],[1.0028607114904886],[1.0902483067802657],[1.064405182982872],[1.0958239443951552],[0.8262390433576144],[0.9348975328559667],[0.2618022215072069],[0.2727283068144154],[0.1914037299181524],[0.0977378727340778],[-0.2176473061551204],[-0.30026016014185],[-0.5310929079441936],[-0.6414128691062015],[-0.6710328966045528],[-1.0113345788023747],[-1.06652201188436],[-0.9090657524463965],[-0.9150535749541717],[-0.8126176465732997],[-0.8536093646767248],[-1.0086951625839038],[-1.1739479250690636],[-1.258875937748113],[-1.1501398651413108],[-1.1064975905825698],[-1.072417132579978],[-0.9453443977748092],[-0.9694293696295291],[-1.1043606739482836],[-1.2552343072167793],[-1.2191633457826663],[-1.5016194792441109],[-1.1430996976622783],[-1.061927899760204],[-1.1358351360355314],[-1.1561821948145479],[-0.9612509190968606],[-0.7926254807680537],[-0.76034773534996],[-0.8396392375590861],[-0.9418082006384811],[-1.0769066069821298],[-1.253057206549589],[-1.2936263952981368],[-1.3280366808434492],[-1.5754558961407665],[-1.4266535323079548],[-1.3782285590031802],[-1.351910387969804],[-1.6421556639939165],[-1.43656188666024],[-1.3791412543995987],[-1.2444697539178944],[-1.2920707549678407],[-1.3978725956662865],[-1.509543298119798],[-1.4107796356160274],[-1.3060440650830436],[-1.3725765319930492],[-1.397612791829236],[-1.4017756214825272],[-1.5127703565355355],[-1.4990827113614345],[-1.4820959947815702],[-1.4438367926471256],[-1.4430776720197502],[-1.571926860468865],[-1.5989894312624102],[-1.5889832029178987],[-1.684850430323507],[-1.7136198288918285],[-1.6664568738388204],[-1.71872121504559],[-1.8083181378980333],[-1.6304692645498295],[-1.6483877737985342],[-1.5460105300700893],[-1.4534427719067458],[-1.3643690375624695],[-0.8413810772885506],[-0.9526789831072264],[-0.8091554517113559],[-0.8318685955140891],[-0.6645779841000765],[-0.6649953412748841],[-0.6333975419278607],[-0.8495798187049955],[-0.9177343689187542],[-0.8971330764211097],[-0.7555948762766914],[-0.5590470874755268],[-0.414599720650097],[-0.3542528136185279],[-0.2346288505549165],[-0.2161776041109081],[-0.20623224851957833],[-0.2578433004323316],[-0.09456671824613576],[-0.06740189695329664],[-0.14293360365323476],[-0.07764684257808088],[-0.16509013854282267],[-0.2860409713838004],[-0.18228374334398442],[0.05924870633349621],[0.09742992752298932],[0.0724342496580605],[0.17535318251419496],[0.11390459572968027],[0.04506333581692615],[0.059801734412575774],[0.03588704747846208],[0.0532752067545735],[0.09000423182627178],[0.016822297936841053],[-0.0581468319968807],[0.03571437543699835],[0.1612306742388689],[0.22629940705958523],[0.18182122443802098],[0.31658224393802203],[0.40135031605660393],[0.41691586970094213],[-0.14528138707753266],[-0.152625521097086],[-0.17607272019799794],[-0.2842860022349862],[-0.24399452118826043],[-0.22018128897858588],[-0.15708913449703896],[-0.031571642083812954],[-0.027868342922590984],[-0.061062762305817406],[0.003191944885560811],[-0.04400801130463992],[-0.1458777821870812],[-0.5248297649573074],[-0.4870412334499251],[-0.3889006228327573],[-0.37481272847191277],[-0.5870975494493773],[-0.4930831652866615],[-0.45295878616297636],[-0.6096185259998718],[-0.6330331003688062],[-0.47543201917593475],[-0.03304412918723684],[-0.04872426707721666],[0.03771084672159074],[0.07092356780608941],[0.31365954989930744],[0.6934152138368809],[0.6700054137096622],[0.7295235742446873],[0.6760473455463978],[0.7782421696279916],[0.9199940216216326],[0.9031720198439511],[0.9093627520043094],[0.9898339150131843],[1.425599790472511],[1.3764403641349099],[1.3123798135819797],[1.4110889689202886],[1.5964480836198354],[1.8506576090827724],[1.8170621448398006],[1.5231638992311107],[1.322397579897985],[1.2981490868524366],[1.5246204718559742],[1.473663902950445],[1.290956140379216],[1.3615857898457624],[1.44296368019428],[1.3821102949079591],[1.3898538823394024],[1.3911608588657887],[1.5769186313042236],[1.502988318984056],[1.46289417747149],[1.40363422932566],[1.3067942294434536],[1.4836414852335453],[1.9263699451653085],[2.013616299534243],[2.040025580931919],[1.7130164669015238],[1.7009775617063767],[1.6454535374537453],[1.704477553480367],[1.7845735326316958],[1.5237925211342833],[1.2286656776788067],[1.2413861203928795],[0.9768353667607889],[1.1305071631968675],[1.1452296473139558],[1.0700556185451469],[0.9283944790793057],[0.9210153332069166],[1.0804048039535812],[1.0616141812797157],[0.6690513407708363],[0.8793349160182873],[1.029978585020645],[1.0544765376449583],[1.047171791985307],[0.8747913323890271],[0.8883309729125076],[0.5239542653836033],[0.10263754284661054],[0.22092628115892615],[0.32331486404246756],[0.24555990468751138],[0.20744552430797514],[0.12780589275300383],[0.07106958317235225],[0.2000818950776468],[0.1471320376813848],[-0.03351400414129756],[0.07267336467298115],[0.0677454464373914],[-0.07695456276066294],[-0.14734151637822307],[-0.06832056020278691],[-0.13838962218747378],[0.055048875441160675],[0.07988859141618844],[0.261954602664895],[0.3110157571737695],[0.24609184610796053],[0.24810661909382517],[0.32550947063607527],[0.1954977294771291],[-0.0652570230797305],[-0.08967898404344928],[-0.02932491554745354],[-0.0950417654821175]]},\"selected\":{\"id\":\"1401\"},\"selection_policy\":{\"id\":\"1400\"}},\"id\":\"1383\",\"type\":\"ColumnDataSource\"},{\"attributes\":{\"coordinates\":null,\"data_source\":{\"id\":\"1383\"},\"glyph\":{\"id\":\"1384\"},\"group\":null,\"hover_glyph\":null,\"muted_glyph\":{\"id\":\"1386\"},\"nonselection_glyph\":{\"id\":\"1385\"},\"view\":{\"id\":\"1388\"}},\"id\":\"1387\",\"type\":\"GlyphRenderer\"},{\"attributes\":{\"base\":60,\"mantissas\":[1,2,5,10,15,20,30],\"max_interval\":1800000.0,\"min_interval\":1000.0,\"num_minor_ticks\":0},\"id\":\"1339\",\"type\":\"AdaptiveTicker\"},{\"attributes\":{\"line_alpha\":0.1,\"line_color\":\"#EE6055\",\"line_width\":1.5,\"x\":{\"field\":\"x\"},\"y\":{\"field\":\"y\"}},\"id\":\"1385\",\"type\":\"Line\"},{\"attributes\":{},\"id\":\"1309\",\"type\":\"WheelZoomTool\"},{\"attributes\":{\"base\":24,\"mantissas\":[1,2,4,6,8,12],\"max_interval\":43200000.0,\"min_interval\":3600000.0,\"num_minor_ticks\":0},\"id\":\"1340\",\"type\":\"AdaptiveTicker\"},{\"attributes\":{},\"id\":\"1308\",\"type\":\"PanTool\"},{\"attributes\":{\"end\":5,\"start\":-2},\"id\":\"1417\",\"type\":\"Range1d\"},{\"attributes\":{\"overlay\":{\"id\":\"1314\"}},\"id\":\"1310\",\"type\":\"BoxZoomTool\"},{\"attributes\":{},\"id\":\"1367\",\"type\":\"UnionRenderers\"},{\"attributes\":{},\"id\":\"1334\",\"type\":\"AllLabels\"},{\"attributes\":{\"months\":[0,1,2,3,4,5,6,7,8,9,10,11]},\"id\":\"1345\",\"type\":\"MonthsTicker\"},{\"attributes\":{},\"id\":\"1349\",\"type\":\"YearsTicker\"},{\"attributes\":{\"coordinates\":null,\"group\":null,\"text\":\"and timestamps of the 10 most impactful Doge-referencing tweets\\n\",\"text_font_style\":\"italic\"},\"id\":\"1418\",\"type\":\"Title\"},{\"attributes\":{\"line_alpha\":0.1,\"line_color\":\"#FFC247\",\"line_width\":1.5,\"x\":{\"field\":\"x\"},\"y\":{\"field\":\"y\"}},\"id\":\"1324\",\"type\":\"Line\"},{\"attributes\":{\"days\":[1,15]},\"id\":\"1344\",\"type\":\"DaysTicker\"},{\"attributes\":{\"days\":[1,2,3,4,5,6,7,8,9,10,11,12,13,14,15,16,17,18,19,20,21,22,23,24,25,26,27,28,29,30,31]},\"id\":\"1341\",\"type\":\"DaysTicker\"},{\"attributes\":{\"coordinates\":null,\"dimension\":\"height\",\"group\":null,\"line_color\":\"grey\",\"line_dash\":[6],\"location\":1612915200000.0},\"id\":\"1425\",\"type\":\"Span\"},{\"attributes\":{\"line_color\":\"#FFC247\",\"line_width\":1.5,\"x\":{\"field\":\"x\"},\"y\":{\"field\":\"y\"}},\"id\":\"1323\",\"type\":\"Line\"},{\"attributes\":{},\"id\":\"1313\",\"type\":\"HelpTool\"},{\"attributes\":{\"line_alpha\":0.1,\"line_color\":\"#119DA4\",\"line_width\":1.5,\"x\":{\"field\":\"x\"},\"y\":{\"field\":\"y\"}},\"id\":\"1354\",\"type\":\"Line\"},{\"attributes\":{},\"id\":\"1400\",\"type\":\"UnionRenderers\"},{\"attributes\":{\"days\":[1,4,7,10,13,16,19,22,25,28]},\"id\":\"1342\",\"type\":\"DaysTicker\"},{\"attributes\":{\"axis\":{\"id\":\"1304\"},\"coordinates\":null,\"dimension\":1,\"grid_line_alpha\":0.2,\"grid_line_color\":\"grey\",\"group\":null,\"ticker\":null},\"id\":\"1307\",\"type\":\"Grid\"},{\"attributes\":{\"coordinates\":null,\"dimension\":\"height\",\"group\":null,\"line_color\":\"grey\",\"line_dash\":[6],\"location\":1612742400000.0},\"id\":\"1423\",\"type\":\"Span\"},{\"attributes\":{},\"id\":\"1335\",\"type\":\"UnionRenderers\"},{\"attributes\":{},\"id\":\"1401\",\"type\":\"Selection\"},{\"attributes\":{\"coordinates\":null,\"dimension\":\"height\",\"group\":null,\"line_color\":\"grey\",\"line_dash\":[6],\"location\":1620691200000.0},\"id\":\"1422\",\"type\":\"Span\"},{\"attributes\":{\"days\":[1,8,15,22]},\"id\":\"1343\",\"type\":\"DaysTicker\"},{\"attributes\":{\"coordinates\":null,\"dimension\":\"height\",\"group\":null,\"line_color\":\"grey\",\"line_dash\":[6],\"location\":1621814400000.0},\"id\":\"1421\",\"type\":\"Span\"},{\"attributes\":{\"label\":{\"value\":\"SOL\"},\"renderers\":[{\"id\":\"1356\"}]},\"id\":\"1382\",\"type\":\"LegendItem\"},{\"attributes\":{\"months\":[0,2,4,6,8,10]},\"id\":\"1346\",\"type\":\"MonthsTicker\"},{\"attributes\":{\"months\":[0,6]},\"id\":\"1348\",\"type\":\"MonthsTicker\"},{\"attributes\":{\"label\":{\"value\":\"BTC\"},\"renderers\":[{\"id\":\"1387\"}]},\"id\":\"1415\",\"type\":\"LegendItem\"},{\"attributes\":{\"months\":[0,4,8]},\"id\":\"1347\",\"type\":\"MonthsTicker\"},{\"attributes\":{\"coordinates\":null,\"dimension\":\"height\",\"group\":null,\"line_color\":\"grey\",\"line_dash\":[6],\"location\":1612828800000.0},\"id\":\"1424\",\"type\":\"Span\"},{\"attributes\":{\"coordinates\":null,\"data_source\":{\"id\":\"1322\"},\"glyph\":{\"id\":\"1323\"},\"group\":null,\"hover_glyph\":null,\"muted_glyph\":{\"id\":\"1325\"},\"nonselection_glyph\":{\"id\":\"1324\"},\"view\":{\"id\":\"1327\"}},\"id\":\"1326\",\"type\":\"GlyphRenderer\"}],\"root_ids\":[\"1289\"]},\"title\":\"Bokeh Application\",\"version\":\"2.4.3\"}};\n",
       "  const render_items = [{\"docid\":\"fb9d6ed8-818d-4c31-b4b6-d6424e2c553e\",\"root_ids\":[\"1289\"],\"roots\":{\"1289\":\"0e2b37df-2842-439f-844c-d5538c550a21\"}}];\n",
       "  root.Bokeh.embed.embed_items_notebook(docs_json, render_items);\n",
       "  }\n",
       "  if (root.Bokeh !== undefined) {\n",
       "    embed_document(root);\n",
       "  } else {\n",
       "    let attempts = 0;\n",
       "    const timer = setInterval(function(root) {\n",
       "      if (root.Bokeh !== undefined) {\n",
       "        clearInterval(timer);\n",
       "        embed_document(root);\n",
       "      } else {\n",
       "        attempts++;\n",
       "        if (attempts > 100) {\n",
       "          clearInterval(timer);\n",
       "          console.log(\"Bokeh: ERROR: Unable to run BokehJS code because BokehJS library is missing\");\n",
       "        }\n",
       "      }\n",
       "    }, 10, root)\n",
       "  }\n",
       "})(window);"
      ],
      "application/vnd.bokehjs_exec.v0+json": ""
     },
     "metadata": {
      "application/vnd.bokehjs_exec.v0+json": {
       "id": "1289"
      }
     },
     "output_type": "display_data"
    }
   ],
   "source": [
    "days = 3\n",
    "\n",
    "p_all = plot_stdzed_prices(doge_df, solana_df, bitcoin_df,\n",
    "                           subtitle='and timestamps of the 10 most impactful Doge-referencing tweets\\n')\n",
    "\n",
    "doge_diffs = tweets_impact(elon_df, doge_df, days)\n",
    "doge_diffs['effect'] = doge_diffs.differ_sc.abs()\n",
    "\n",
    "tweet_times = doge_diffs.timestamp[doge_diffs.effect.head(10).index]\n",
    "tweet_times = tweet_times.reset_index(drop=True)\n",
    "tweet_times = tweet_times.rename('Date')\n",
    "\n",
    "n = 0\n",
    "\n",
    "for t in tweet_times:\n",
    "\n",
    "    if tweet_times.tolist().count(t) != 1:\n",
    "        t = t + timedelta(days=n)\n",
    "\n",
    "    vline = Span(location=pd.to_datetime(t), dimension='height', line_color='grey', line_width=1, line_dash=\"dashed\")\n",
    "    p_all.renderers.extend([vline])\n",
    "\n",
    "    n += 1\n",
    "\n",
    "show(p_all)"
   ]
  },
  {
   "cell_type": "code",
   "execution_count": 7,
   "metadata": {
    "pycharm": {
     "name": "#%%\n"
    }
   },
   "outputs": [
    {
     "data": {
      "text/html": [
       "\n",
       "  <div class=\"bk-root\" id=\"aa93fdaa-ab4a-48f4-ab9c-8b7d9f5fdd88\" data-root-id=\"1731\"></div>\n"
      ]
     },
     "metadata": {},
     "output_type": "display_data"
    },
    {
     "data": {
      "application/javascript": [
       "(function(root) {\n",
       "  function embed_document(root) {\n",
       "  const docs_json = {\"e29b99ca-8ab3-4bce-93ba-ce46431b1b43\":{\"defs\":[],\"roots\":{\"references\":[{\"attributes\":{\"children\":[[{\"id\":\"1611\"},0,0,1,1],[{\"id\":\"1651\"},0,1,1,1],[{\"id\":\"1691\"},0,2,1,1]]},\"id\":\"1731\",\"type\":\"GridBox\"},{\"attributes\":{},\"id\":\"1675\",\"type\":\"HelpTool\"},{\"attributes\":{},\"id\":\"1797\",\"type\":\"DatetimeTickFormatter\"},{\"attributes\":{\"coordinates\":null,\"data_source\":{\"id\":\"1644\"},\"glyph\":{\"id\":\"1645\"},\"group\":null,\"hover_glyph\":null,\"muted_glyph\":{\"id\":\"1647\"},\"nonselection_glyph\":{\"id\":\"1646\"},\"view\":{\"id\":\"1649\"}},\"id\":\"1648\",\"type\":\"GlyphRenderer\"},{\"attributes\":{},\"id\":\"1673\",\"type\":\"SaveTool\"},{\"attributes\":{\"coordinates\":null,\"data_source\":{\"id\":\"1724\"},\"glyph\":{\"id\":\"1725\"},\"group\":null,\"hover_glyph\":null,\"muted_glyph\":{\"id\":\"1727\"},\"nonselection_glyph\":{\"id\":\"1726\"},\"view\":{\"id\":\"1729\"}},\"id\":\"1728\",\"type\":\"GlyphRenderer\"},{\"attributes\":{},\"id\":\"1674\",\"type\":\"ResetTool\"},{\"attributes\":{},\"id\":\"1798\",\"type\":\"AllLabels\"},{\"attributes\":{\"bottom_units\":\"screen\",\"coordinates\":null,\"fill_alpha\":0.5,\"fill_color\":\"lightgrey\",\"group\":null,\"left_units\":\"screen\",\"level\":\"overlay\",\"line_alpha\":1.0,\"line_color\":\"black\",\"line_dash\":[4,4],\"line_width\":2,\"right_units\":\"screen\",\"syncable\":false,\"top_units\":\"screen\"},\"id\":\"1676\",\"type\":\"BoxAnnotation\"},{\"attributes\":{},\"id\":\"1616\",\"type\":\"DataRange1d\"},{\"attributes\":{\"source\":{\"id\":\"1644\"}},\"id\":\"1649\",\"type\":\"CDSView\"},{\"attributes\":{\"line_alpha\":0.1,\"line_color\":\"#EE6055\",\"line_width\":1.5,\"x\":{\"field\":\"x\"},\"y\":{\"field\":\"y\"}},\"id\":\"1726\",\"type\":\"Line\"},{\"attributes\":{\"below\":[{\"id\":\"1702\"}],\"center\":[{\"id\":\"1705\"},{\"id\":\"1709\"}],\"height\":100,\"left\":[{\"id\":\"1706\"}],\"outline_line_color\":null,\"renderers\":[{\"id\":\"1728\"}],\"title\":{\"id\":\"1692\"},\"toolbar\":{\"id\":\"1717\"},\"width\":320,\"x_range\":{\"id\":\"1730\"},\"x_scale\":{\"id\":\"1698\"},\"y_range\":{\"id\":\"1696\"},\"y_scale\":{\"id\":\"1700\"}},\"id\":\"1691\",\"subtype\":\"Figure\",\"type\":\"Plot\"},{\"attributes\":{\"mantissas\":[1,2,5],\"max_interval\":500.0,\"num_minor_ticks\":0},\"id\":\"1823\",\"type\":\"AdaptiveTicker\"},{\"attributes\":{\"coordinates\":null,\"data_source\":{\"id\":\"1684\"},\"glyph\":{\"id\":\"1685\"},\"group\":null,\"hover_glyph\":null,\"muted_glyph\":{\"id\":\"1687\"},\"nonselection_glyph\":{\"id\":\"1686\"},\"view\":{\"id\":\"1689\"}},\"id\":\"1688\",\"type\":\"GlyphRenderer\"},{\"attributes\":{},\"id\":\"1788\",\"type\":\"BasicTickFormatter\"},{\"attributes\":{\"base\":60,\"mantissas\":[1,2,5,10,15,20,30],\"max_interval\":1800000.0,\"min_interval\":1000.0,\"num_minor_ticks\":0},\"id\":\"1824\",\"type\":\"AdaptiveTicker\"},{\"attributes\":{\"tools\":[{\"id\":\"1670\"},{\"id\":\"1671\"},{\"id\":\"1672\"},{\"id\":\"1673\"},{\"id\":\"1674\"},{\"id\":\"1675\"}]},\"id\":\"1677\",\"type\":\"Toolbar\"},{\"attributes\":{\"base\":24,\"mantissas\":[1,2,4,6,8,12],\"max_interval\":43200000.0,\"min_interval\":3600000.0,\"num_minor_ticks\":0},\"id\":\"1825\",\"type\":\"AdaptiveTicker\"},{\"attributes\":{},\"id\":\"1834\",\"type\":\"YearsTicker\"},{\"attributes\":{\"months\":[0,1,2,3,4,5,6,7,8,9,10,11]},\"id\":\"1830\",\"type\":\"MonthsTicker\"},{\"attributes\":{\"days\":[1,15]},\"id\":\"1829\",\"type\":\"DaysTicker\"},{\"attributes\":{},\"id\":\"1789\",\"type\":\"AllLabels\"},{\"attributes\":{\"days\":[1,2,3,4,5,6,7,8,9,10,11,12,13,14,15,16,17,18,19,20,21,22,23,24,25,26,27,28,29,30,31]},\"id\":\"1826\",\"type\":\"DaysTicker\"},{\"attributes\":{},\"id\":\"1795\",\"type\":\"AllLabels\"},{\"attributes\":{\"axis_label\":\"\",\"axis_line_width\":0,\"coordinates\":null,\"formatter\":{\"id\":\"1800\"},\"group\":null,\"major_label_policy\":{\"id\":\"1801\"},\"major_label_text_color\":\"grey\",\"major_label_text_font_size\":\"8px\",\"major_tick_line_color\":\"grey\",\"major_tick_line_width\":0,\"minor_tick_line_width\":0,\"ticker\":{\"id\":\"1707\"}},\"id\":\"1706\",\"type\":\"LinearAxis\"},{\"attributes\":{\"days\":[1,4,7,10,13,16,19,22,25,28]},\"id\":\"1827\",\"type\":\"DaysTicker\"},{\"attributes\":{\"source\":{\"id\":\"1684\"}},\"id\":\"1689\",\"type\":\"CDSView\"},{\"attributes\":{\"days\":[1,8,15,22]},\"id\":\"1828\",\"type\":\"DaysTicker\"},{\"attributes\":{},\"id\":\"1791\",\"type\":\"DatetimeTickFormatter\"},{\"attributes\":{\"months\":[0,6]},\"id\":\"1833\",\"type\":\"MonthsTicker\"},{\"attributes\":{\"end\":1640995200000.0,\"start\":1609459200000.0},\"id\":\"1690\",\"type\":\"Range1d\"},{\"attributes\":{\"num_minor_ticks\":5,\"tickers\":[{\"id\":\"1808\"},{\"id\":\"1809\"},{\"id\":\"1810\"},{\"id\":\"1811\"},{\"id\":\"1812\"},{\"id\":\"1813\"},{\"id\":\"1814\"},{\"id\":\"1815\"},{\"id\":\"1816\"},{\"id\":\"1817\"},{\"id\":\"1818\"},{\"id\":\"1819\"}]},\"id\":\"1623\",\"type\":\"DatetimeTicker\"},{\"attributes\":{\"months\":[0,2,4,6,8,10]},\"id\":\"1831\",\"type\":\"MonthsTicker\"},{\"attributes\":{\"axis\":{\"id\":\"1622\"},\"coordinates\":null,\"grid_line_color\":null,\"group\":null,\"ticker\":null},\"id\":\"1625\",\"type\":\"Grid\"},{\"attributes\":{},\"id\":\"1620\",\"type\":\"LinearScale\"},{\"attributes\":{},\"id\":\"1803\",\"type\":\"DatetimeTickFormatter\"},{\"attributes\":{\"tools\":[{\"id\":\"1710\"},{\"id\":\"1711\"},{\"id\":\"1712\"},{\"id\":\"1713\"},{\"id\":\"1714\"},{\"id\":\"1715\"}]},\"id\":\"1717\",\"type\":\"Toolbar\"},{\"attributes\":{\"months\":[0,4,8]},\"id\":\"1832\",\"type\":\"MonthsTicker\"},{\"attributes\":{\"data\":{\"x\":{\"__ndarray__\":\"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\",\"dtype\":\"float64\",\"order\":\"little\",\"shape\":[366]},\"y\":[0.0,382.44531199999983,3135.398437,3816.9394530000027,2983.03125,5019.603514999999,7839.865234000001,10387.755859,11794.630859,11260.208984,9352.521484,6522.349609000001,4921.111328000003,8331.099609,10162.697264999999,7827.638671999997,7169.638671999997,6798.228514999999,7648.224609000001,7056.103514999999,6555.388671999997,1823.6152340000008,3991.7480469999973,3070.367187,3291.789062,3364.6035150000025,3570.0195310000017,1447.03125,5324.662109000001,5301.923828000003,5276.869139999999,4120.568359000001,4539.189453000003,6516.810546999997,8481.095703000003,7937.537109000001,9144.376953000003,10256.181639999999,9892.818359,17190.982421999997,17475.751953000003,15904.701171999997,18883.02539,18497.193359,18120.498046999997,19702.52539,18950.447265,20213.267578000003,23146.96289,22681.970703000003,26893.326171999997,27074.55664,28538.728515,25210.919921999997,19841.076171999997,20715.072265,18186.455078000003,17350.763671999997,17200.005859,16165.494139999999,20618.095703000003,19421.80664,21528.294921999997,19533.021484,19905.220703000003,19924.669921999997,22180.107421999997,23278.958984,25830.001953000003,26969.169921999997,28827.208984,28349.361328000003,32227.123046999997,30273.419921999997,26846.77539,27831.818359,29899.068359,28856.43164,29338.251953000003,29315.904296999997,28523.880859,25517.65039,25716.478515,23732.736328000003,22689.001953000003,26143.55664,26980.93164,26953.888671999997,28756.123046999997,29936.267578000003,29932.552734,30104.86914,30403.40039,28610.830078000003,29766.865234,30177.923828000003,29192.498046999997,27105.904296999997,29332.552734,29259.767578000003,30852.220703000003,31181.935546999997,30896.009765,34529.744139999995,34081.185547,34264.494139999995,32535.912109,31707.876953000003,27197.576171999997,26687.783203000003,27477.11914,24863.095703000003,22745.798828000003,22149.216796999997,21058.822265,20083.783203000003,25036.294921999997,26042.626953000003,25864.080078000003,24574.654296999997,28720.654296999997,28831.853515,27626.263671999997,28220.169921999997,24258.154296999997,28447.298828000003,27419.943359,28358.755859,29883.380859,29256.861328000003,26853.232421999997,27720.521484,20741.423828000003,20688.970703000003,20861.486328000003,17722.626953000003,17421.888671999997,14494.048828000003,13950.966796999997,7759.658203000003,11602.939453000003,8377.021484,8537.439453000003,5706.353514999999,9801.771484,9398.615234,10322.880859,9513.072264999999,6690.146484000001,5613.396484000001,6664.583984000001,8299.783203000003,7705.912109000001,8605.400389999999,10248.474609,7886.146484000001,6544.599609000001,6841.255859000001,4595.509764999999,4422.966796999997,8395.505859,7703.021484000001,8346.134764999999,6561.779296999997,10022.958984,11433.158203000003,11174.681639999999,9347.412109,9105.466796999997,6860.517578000003,6569.130859000001,6647.134764999999,2628.367187,3521.705077999999,4688.791014999999,5665.095703000003,2600.654297000001,3293.513672000001,5685.111328000003,5481.548828000003,6914.376953000003,6041.974609000001,4555.591796999997,4860.412109000001,5671.556639999999,6290.333984000001,4729.498046999997,5231.669921999997,4895.595703000003,3867.662109000001,4817.232421999997,4515.068359000001,5260.005859000001,4131.458984000001,3729.835937,3833.865234000001,2847.5410150000025,2403.298827999999,2539.875,2806.001952999999,1844.2753900000025,802.2753900000025,3144.8632810000017,3311.9492180000016,4599.720703000003,5296.283203000003,6390.021484000001,8282.025389999999,10509.177734,11001.443359,11033.474609,13202.294921999997,12466.833984,10913.251953000003,10184.392578000003,9219.322264999999,10750.505859,11871.857421999997,13838.787109,15580.427734,14797.916014999999,17286.83789,16605.693359,16582.86914,15445.681639999999,18816.677734,18102.658203000003,18025.951171999997,16942.447265,15692.740234,15747.873046999997,17729.111328000003,20333.064453000003,19875.095703000003,20297.666015,20568.33789,18733.248046999997,20008.630859,17900.544921999997,20078.576171999997,19917.240234,19840.841796999997,18030.330078000003,18105.763671999997,19813.83789,20294.240234,21015.314453000003,20943.849609,22774.99414,23666.470703000003,17833.751953000003,16780.732421999997,17402.654296999997,15875.830078000003,16212.619139999999,17063.205078000003,15966.041014999999,18103.990234,19164.896484,18776.99414,18279.517578000003,19274.845703000003,18267.396484,14018.224609,11683.943359,14566.287109,15900.291014999999,13846.880859,13727.619139999999,14240.173828000003,13206.888671999997,12070.974609,12557.259764999999,14822.732421999997,19143.458984,18686.017578000003,19214.896484,20180.951171999997,22492.654296999997,26344.615234,24808.134765,24935.771484,25958.810546999997,25740.115234,28532.822265,27044.248046999997,28378.822265,28351.892578000003,32615.517578000003,31893.642578000003,32554.794921999997,33049.154297,35290.576172,37008.224609,33243.880859,31700.61914,32374.333984,31899.916015,34038.751953,31357.990234,29476.720703000003,31630.861328000003,33245.353514999995,32856.478514999995,32326.439453000003,31969.24414,34260.326172,33947.794922,32466.068359,32074.865234,32560.912109,34350.056639999995,38555.724609,37959.326172,35984.880859,35869.970703,35164.111328,35461.361328,36527.279297,34727.185547,31145.611328000003,31366.126953000003,27902.11914,29121.072265,30736.498046999997,29712.83789,27310.544921999997,28571.841796999997,28171.408203000003,29966.27539,24742.419921999997,25819.013671999997,28297.896484,28836.103515,27913.955078000003,28223.361328000003,27515.154296999997,24733.86914,20207.509765,20419.470703000003,21587.818359,21673.638671999997,21456.072265,18648.134765,18270.623046999997,20360.845703000003,21120.732421999997,17715.814453000003,19385.74414,19906.455078000003,18659.720703000003,17225.24414,17859.857421999997,17713.052734,17892.068359,19943.08789,19632.333984,21812.041015,21860.908203000003,21434.68164,21808.599609,21685.849609,18629.861328000003,17496.595703000003,18175.361328000003,17317.736328000003]},\"selected\":{\"id\":\"1836\"},\"selection_policy\":{\"id\":\"1835\"}},\"id\":\"1724\",\"type\":\"ColumnDataSource\"},{\"attributes\":{\"tools\":[{\"id\":\"1630\"},{\"id\":\"1631\"},{\"id\":\"1632\"},{\"id\":\"1633\"},{\"id\":\"1634\"},{\"id\":\"1635\"}]},\"id\":\"1637\",\"type\":\"Toolbar\"},{\"attributes\":{\"line_color\":\"#119DA4\",\"line_width\":1.5,\"x\":{\"field\":\"x\"},\"y\":{\"field\":\"y\"}},\"id\":\"1685\",\"type\":\"Line\"},{\"attributes\":{\"line_color\":\"#EE6055\",\"line_width\":1.5,\"x\":{\"field\":\"x\"},\"y\":{\"field\":\"y\"}},\"id\":\"1725\",\"type\":\"Line\"},{\"attributes\":{\"axis\":{\"id\":\"1702\"},\"coordinates\":null,\"grid_line_color\":null,\"group\":null,\"ticker\":null},\"id\":\"1705\",\"type\":\"Grid\"},{\"attributes\":{},\"id\":\"1710\",\"type\":\"PanTool\"},{\"attributes\":{\"end\":1640995200000.0,\"start\":1609459200000.0},\"id\":\"1730\",\"type\":\"Range1d\"},{\"attributes\":{},\"id\":\"1835\",\"type\":\"UnionRenderers\"},{\"attributes\":{\"num_minor_ticks\":5,\"tickers\":[{\"id\":\"1838\"},{\"id\":\"1839\"},{\"id\":\"1840\"},{\"id\":\"1841\"},{\"id\":\"1842\"},{\"id\":\"1843\"},{\"id\":\"1844\"},{\"id\":\"1845\"},{\"id\":\"1846\"},{\"id\":\"1847\"},{\"id\":\"1848\"},{\"id\":\"1849\"}]},\"id\":\"1703\",\"type\":\"DatetimeTicker\"},{\"attributes\":{},\"id\":\"1792\",\"type\":\"AllLabels\"},{\"attributes\":{\"overlay\":{\"id\":\"1716\"}},\"id\":\"1712\",\"type\":\"BoxZoomTool\"},{\"attributes\":{},\"id\":\"1836\",\"type\":\"Selection\"},{\"attributes\":{},\"id\":\"1711\",\"type\":\"WheelZoomTool\"},{\"attributes\":{\"axis_label\":\"\",\"coordinates\":null,\"formatter\":{\"id\":\"1791\"},\"group\":null,\"major_label_policy\":{\"id\":\"1792\"},\"ticker\":{\"id\":\"1623\"},\"visible\":false},\"id\":\"1622\",\"type\":\"DatetimeAxis\"},{\"attributes\":{},\"id\":\"1713\",\"type\":\"SaveTool\"},{\"attributes\":{},\"id\":\"1714\",\"type\":\"ResetTool\"},{\"attributes\":{\"num_minor_ticks\":5,\"tickers\":[{\"id\":\"1823\"},{\"id\":\"1824\"},{\"id\":\"1825\"},{\"id\":\"1826\"},{\"id\":\"1827\"},{\"id\":\"1828\"},{\"id\":\"1829\"},{\"id\":\"1830\"},{\"id\":\"1831\"},{\"id\":\"1832\"},{\"id\":\"1833\"},{\"id\":\"1834\"}]},\"id\":\"1663\",\"type\":\"DatetimeTicker\"},{\"attributes\":{},\"id\":\"1715\",\"type\":\"HelpTool\"},{\"attributes\":{\"line_alpha\":0.2,\"line_color\":\"#EE6055\",\"line_width\":1.5,\"x\":{\"field\":\"x\"},\"y\":{\"field\":\"y\"}},\"id\":\"1727\",\"type\":\"Line\"},{\"attributes\":{},\"id\":\"1707\",\"type\":\"BasicTicker\"},{\"attributes\":{\"axis\":{\"id\":\"1706\"},\"coordinates\":null,\"dimension\":1,\"grid_line_alpha\":0.2,\"grid_line_color\":\"grey\",\"group\":null,\"ticker\":null},\"id\":\"1709\",\"type\":\"Grid\"},{\"attributes\":{\"mantissas\":[1,2,5],\"max_interval\":500.0,\"num_minor_ticks\":0},\"id\":\"1808\",\"type\":\"AdaptiveTicker\"},{\"attributes\":{\"base\":60,\"mantissas\":[1,2,5,10,15,20,30],\"max_interval\":1800000.0,\"min_interval\":1000.0,\"num_minor_ticks\":0},\"id\":\"1809\",\"type\":\"AdaptiveTicker\"},{\"attributes\":{\"base\":24,\"mantissas\":[1,2,4,6,8,12],\"max_interval\":43200000.0,\"min_interval\":3600000.0,\"num_minor_ticks\":0},\"id\":\"1810\",\"type\":\"AdaptiveTicker\"},{\"attributes\":{},\"id\":\"1635\",\"type\":\"HelpTool\"},{\"attributes\":{},\"id\":\"1819\",\"type\":\"YearsTicker\"},{\"attributes\":{\"months\":[0,1,2,3,4,5,6,7,8,9,10,11]},\"id\":\"1815\",\"type\":\"MonthsTicker\"},{\"attributes\":{},\"id\":\"1660\",\"type\":\"LinearScale\"},{\"attributes\":{\"axis_label\":\"\",\"axis_line_width\":0,\"coordinates\":null,\"formatter\":{\"id\":\"1788\"},\"group\":null,\"major_label_policy\":{\"id\":\"1789\"},\"major_label_text_color\":\"grey\",\"major_label_text_font_size\":\"8px\",\"major_tick_line_color\":\"grey\",\"major_tick_line_width\":0,\"minor_tick_line_width\":0,\"ticker\":{\"id\":\"1627\"}},\"id\":\"1626\",\"type\":\"LinearAxis\"},{\"attributes\":{\"days\":[1,15]},\"id\":\"1814\",\"type\":\"DaysTicker\"},{\"attributes\":{\"coordinates\":null,\"group\":null,\"text\":\"SOL-USD in 2021\",\"text_font_size\":\"10px\"},\"id\":\"1652\",\"type\":\"Title\"},{\"attributes\":{\"days\":[1,2,3,4,5,6,7,8,9,10,11,12,13,14,15,16,17,18,19,20,21,22,23,24,25,26,27,28,29,30,31]},\"id\":\"1811\",\"type\":\"DaysTicker\"},{\"attributes\":{},\"id\":\"1656\",\"type\":\"DataRange1d\"},{\"attributes\":{},\"id\":\"1631\",\"type\":\"WheelZoomTool\"},{\"attributes\":{\"days\":[1,4,7,10,13,16,19,22,25,28]},\"id\":\"1812\",\"type\":\"DaysTicker\"},{\"attributes\":{},\"id\":\"1630\",\"type\":\"PanTool\"},{\"attributes\":{\"days\":[1,8,15,22]},\"id\":\"1813\",\"type\":\"DaysTicker\"},{\"attributes\":{},\"id\":\"1627\",\"type\":\"BasicTicker\"},{\"attributes\":{},\"id\":\"1801\",\"type\":\"AllLabels\"},{\"attributes\":{\"months\":[0,6]},\"id\":\"1818\",\"type\":\"MonthsTicker\"},{\"attributes\":{\"overlay\":{\"id\":\"1636\"}},\"id\":\"1632\",\"type\":\"BoxZoomTool\"},{\"attributes\":{\"months\":[0,2,4,6,8,10]},\"id\":\"1816\",\"type\":\"MonthsTicker\"},{\"attributes\":{\"axis\":{\"id\":\"1626\"},\"coordinates\":null,\"dimension\":1,\"grid_line_alpha\":0.2,\"grid_line_color\":\"grey\",\"group\":null,\"ticker\":null},\"id\":\"1629\",\"type\":\"Grid\"},{\"attributes\":{\"source\":{\"id\":\"1724\"}},\"id\":\"1729\",\"type\":\"CDSView\"},{\"attributes\":{\"mantissas\":[1,2,5],\"max_interval\":500.0,\"num_minor_ticks\":0},\"id\":\"1838\",\"type\":\"AdaptiveTicker\"},{\"attributes\":{\"axis_label\":\"\",\"axis_line_width\":0,\"coordinates\":null,\"formatter\":{\"id\":\"1794\"},\"group\":null,\"major_label_policy\":{\"id\":\"1795\"},\"major_label_text_color\":\"grey\",\"major_label_text_font_size\":\"8px\",\"major_tick_line_color\":\"grey\",\"major_tick_line_width\":0,\"minor_tick_line_width\":0,\"ticker\":{\"id\":\"1667\"}},\"id\":\"1666\",\"type\":\"LinearAxis\"},{\"attributes\":{\"data\":{\"x\":{\"__ndarray__\":\"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\",\"dtype\":\"float64\",\"order\":\"little\",\"shape\":[366]},\"y\":[0.0,0.0010049999999999998,0.005921,0.005104,0.005085999999999999,0.005241999999999999,0.0057729999999999995,0.005062,0.0051519999999999995,0.005512,0.005177,0.004148999999999999,0.0033809999999999995,0.003938,0.0047079999999999995,0.004686,0.004582,0.004389,0.004490999999999999,0.004415,0.004381,0.003484,0.0038389999999999995,0.0038970000000000003,0.004046,0.0037010000000000003,0.003574,0.0027999999999999995,0.039053000000000004,0.042122,0.02351,0.032373,0.030228999999999995,0.026812,0.032545000000000004,0.048362,0.04225,0.052821,0.073671,0.07409199999999999,0.06543,0.068163,0.064969,0.065344,0.061766999999999996,0.057887,0.051807,0.048841,0.044682,0.054753,0.050451,0.049688,0.051363,0.049017000000000005,0.042733,0.051934,0.045457000000000004,0.045819000000000006,0.045416000000000005,0.043389000000000004,0.045915000000000004,0.045597000000000006,0.045906,0.045347000000000005,0.04492,0.046299,0.047442000000000005,0.057423,0.053283000000000004,0.051296,0.05124,0.050672,0.057703000000000004,0.05385,0.052405,0.053929000000000005,0.052959,0.052696,0.053634,0.054289000000000004,0.052578,0.05026,0.048847,0.047018000000000004,0.046752,0.049259000000000004,0.0497,0.048997,0.049371000000000005,0.049221,0.048974000000000004,0.057287000000000005,0.052977,0.051095,0.05273,0.055008,0.059773,0.054355,0.056782,0.05691,0.059068,0.069863,0.065997,0.089575,0.11648599999999999,0.176906,0.361417,0.280424,0.315785,0.403754,0.312272,0.301309,0.256342,0.244863,0.265108,0.24655900000000003,0.266746,0.267592,0.31855100000000003,0.300021,0.332878,0.386406,0.36895,0.435593,0.532674,0.648161,0.576429,0.68312,0.631139,0.565006,0.445807,0.489061,0.38749500000000003,0.482389,0.554987,0.5032289999999999,0.508732,0.482273,0.471754,0.325571,0.393443,0.354036,0.337841,0.302034,0.36136,0.341715,0.34878200000000004,0.32897,0.306717,0.298288,0.29726800000000003,0.321063,0.36562100000000003,0.419058,0.396301,0.372071,0.366995,0.366885,0.327141,0.32174200000000003,0.338658,0.321683,0.314212,0.307804,0.319222,0.322104,0.315697,0.303068,0.301747,0.288968,0.281713,0.27597900000000003,0.17400100000000002,0.18599000000000002,0.23028900000000002,0.258799,0.232992,0.24136400000000002,0.260237,0.25238,0.258736,0.249147,0.239301,0.240425,0.24174400000000001,0.241738,0.22653500000000001,0.22962000000000002,0.219702,0.20239200000000002,0.21516500000000002,0.209206,0.21132900000000002,0.203328,0.195297,0.19306800000000002,0.18055700000000002,0.167437,0.18216000000000002,0.17713700000000002,0.169082,0.16584600000000002,0.18579900000000002,0.186678,0.190142,0.192492,0.19334900000000002,0.199155,0.20143,0.20091,0.20034200000000002,0.203957,0.203072,0.199598,0.19875,0.191631,0.196894,0.196279,0.200165,0.25727500000000003,0.235441,0.251685,0.252743,0.260172,0.259568,0.28212,0.289405,0.335484,0.31495,0.294522,0.298695,0.31289,0.322714,0.312404,0.310245,0.313705,0.284537,0.288113,0.264138,0.28995,0.281182,0.276552,0.267197,0.273381,0.289712,0.290073,0.291387,0.294643,0.309634,0.30427,0.249585,0.24568099999999998,0.247904,0.23514500000000002,0.236648,0.24594300000000002,0.231382,0.235909,0.24286100000000002,0.23741700000000002,0.235247,0.2366,0.22848000000000002,0.204092,0.196141,0.220067,0.22004500000000002,0.20466700000000002,0.204049,0.20056000000000002,0.19532000000000002,0.192299,0.194188,0.199746,0.21806,0.21413000000000001,0.217249,0.23655900000000002,0.24732700000000002,0.24965900000000002,0.238342,0.238814,0.24189100000000002,0.224769,0.22684400000000002,0.221494,0.22788,0.227963,0.22920000000000001,0.232512,0.233125,0.242697,0.240821,0.250112,0.237798,0.23983300000000002,0.246751,0.271064,0.260102,0.251155,0.23270000000000002,0.295283,0.28308300000000003,0.264558,0.275442,0.26721100000000003,0.26882300000000003,0.264431,0.258974,0.256583,0.25729,0.26204700000000003,0.277858,0.268916,0.251024,0.256256,0.254937,0.25691,0.258189,0.252413,0.232329,0.232875,0.216314,0.228493,0.228574,0.221479,0.214985,0.221999,0.212451,0.216366,0.196748,0.20061400000000001,0.202763,0.21043,0.20980600000000002,0.204795,0.20478200000000002,0.19567500000000002,0.17358200000000001,0.16670200000000002,0.17369300000000001,0.171928,0.17428000000000002,0.16478500000000001,0.15981800000000002,0.164223,0.165199,0.152784,0.18646300000000002,0.17649,0.16870000000000002,0.164419,0.167852,0.16484200000000002,0.162417,0.166448,0.168528,0.180298,0.182031,0.185886,0.185305,0.183166,0.169414,0.16345600000000002,0.166636,0.165829]},\"selected\":{\"id\":\"1806\"},\"selection_policy\":{\"id\":\"1805\"}},\"id\":\"1644\",\"type\":\"ColumnDataSource\"},{\"attributes\":{\"end\":1640995200000.0,\"start\":1609459200000.0},\"id\":\"1650\",\"type\":\"Range1d\"},{\"attributes\":{},\"id\":\"1633\",\"type\":\"SaveTool\"},{\"attributes\":{\"line_alpha\":0.2,\"line_color\":\"#119DA4\",\"line_width\":1.5,\"x\":{\"field\":\"x\"},\"y\":{\"field\":\"y\"}},\"id\":\"1687\",\"type\":\"Line\"},{\"attributes\":{\"data\":{\"x\":{\"__ndarray__\":\"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\",\"dtype\":\"float64\",\"order\":\"little\",\"shape\":[366]},\"y\":[0.0,0.33581099999999986,0.2901269999999998,0.6526369999999997,0.9812069999999997,0.6498509999999997,0.42681099999999983,0.8589649999999998,1.713766,1.8802510000000001,1.95129,1.593913,2.118608,2.0062610000000003,1.770624,1.7391590000000001,1.925095,2.3123560000000003,2.282268,2.1258,2.211895,1.480145,1.83126,1.9973349999999999,2.1248699999999996,2.189184,2.538855,2.176595,2.351806,2.3279069999999997,2.7275389999999993,2.7514759999999994,3.103966,3.7368169999999994,4.221972999999999,4.9255949999999995,5.177525999999999,4.60787,5.192672,6.36002,6.308777,7.570581999999999,7.705015,7.7262580000000005,7.233213999999999,7.214491,7.350972999999999,6.788913999999999,6.723095999999999,7.4701949999999995,9.968312000000001,8.477775000000001,9.563261,12.911851,13.704067,15.720408,12.356116,12.091799,11.697992000000001,11.59866,13.45707,12.453765,12.585092000000001,11.556531000000001,11.060162,11.534152,12.31704,12.105516,13.341154000000001,12.710062,14.511145,13.054028,13.791806000000001,12.967352,12.654137,12.125189,12.700902000000001,12.722875,12.686051,12.708553,12.840503,13.338844,12.680621,12.140811000000001,11.509753,13.276471,14.969649000000002,16.573528,17.381628,17.59191,17.905907,17.574856,18.286676999999997,21.017595,22.419064,21.468065,23.635783999999997,25.004818,25.476029,26.139937,25.298275,26.408592,27.031236999999997,25.89023,24.927069,26.310548999999998,23.85943,23.625726999999998,30.829748,29.966514999999998,30.171763,31.173655,37.389406,35.747721000000006,39.335695,46.03208,42.383795,41.651667,43.340174000000005,40.990271,41.383562000000005,47.99103,45.394201,44.473585,41.127463000000006,43.464277,41.99288,41.64229,44.107855,42.832319000000005,41.362497000000005,43.081751000000004,41.72531,39.524744000000005,41.190172000000004,41.891916,45.388247,45.150644,54.579481,33.53327,42.937479,37.478605,29.715992,22.988545,29.886571999999997,28.538216,33.972674000000005,32.165751,27.493354999999998,25.898540999999998,27.094465,31.26111,29.425462999999997,32.50894,38.071528,35.907602000000004,38.239351,40.743902000000006,36.741495,39.770018,40.514261000000005,39.600378,34.654577,35.004934000000006,37.194746,39.026064000000005,38.035574000000004,38.179495,37.75701,35.309332000000005,33.727251,33.751661000000006,25.083056,25.403167999999997,29.336304,29.658756,27.098124,28.242865,30.371056,31.50001,32.453196000000005,33.995878000000005,31.796533999999998,32.5058,32.985342,32.772776,31.420529999999996,32.723032,35.209944,31.624556000000002,31.808663999999997,30.183263999999998,30.663614,29.276629,27.632918,29.850925999999998,27.039292,24.744349,25.274395,25.161465,23.000526999999998,21.933681999999997,25.155548,26.196734,27.008125,27.139626,26.717250999999997,26.700723999999997,26.635866,26.368199999999998,29.765639999999998,30.843512,35.169352,32.680788,31.68165,32.598581,34.262201000000005,35.845583000000005,37.982527000000005,37.956129000000004,36.150721000000004,37.169035,39.139166,40.194739000000006,39.604593,43.34165,42.640181000000005,52.031374,60.605555,62.658575000000006,71.32878699999999,71.239126,77.189154,72.358565,71.25963399999999,74.270399,69.170187,70.46365899999999,73.302008,86.49024,95.054197,92.83509699999999,108.24637399999999,105.93470599999999,109.221464,126.87930899999999,144.908636,137.480368,140.553045,162.67391,171.768789,207.96102000000002,186.103033,177.85645100000002,177.720389,172.908682,168.264746,156.905661,157.297506,150.841665,145.938986,167.71655900000002,151.284704,131.252539,122.667677,146.545386,148.42569600000002,137.78678000000002,134.70638100000002,134.421591,134.99913600000002,130.828756,133.903128,139.873144,160.084616,167.603933,171.451849,165.48519000000002,163.09541900000002,152.451376,152.746771,157.19492200000002,155.24214800000001,146.290671,143.497885,151.014151,146.507498,148.53682500000002,161.497259,155.953787,158.487707,155.70043,154.373617,175.255774,188.94512,194.790701,196.46333900000002,200.80670800000001,208.021872,198.364706,183.00592600000002,193.396658,198.715948,194.26399800000002,201.119436,202.008139,219.566977,241.58803400000002,245.76116000000002,234.982977,257.27178000000004,248.469488,246.847067,237.62396800000002,232.404211,232.21149300000002,227.086477,240.35233100000002,237.22162500000002,236.98737200000002,217.785864,217.36580500000002,193.556509,213.897131,216.27425200000002,229.47986400000002,214.33318200000002,220.35083600000002,204.376394,208.53850400000002,190.773794,191.765829,199.311499,202.72316600000002,206.883383,228.344931,232.09212300000002,210.602606,199.270834,195.03771,192.76682100000002,188.99523000000002,192.97351700000002,179.957785,166.40685100000002,170.438543,171.590155,153.631888,159.849127,177.081762,175.385199,174.14658200000002,181.34113100000002,178.467962,172.18462200000002,178.34856200000002,176.992987,188.593084,189.021826,191.410742,196.373633,194.111883,175.879263,169.255011,171.19406700000002,168.801062]},\"selected\":{\"id\":\"1821\"},\"selection_policy\":{\"id\":\"1820\"}},\"id\":\"1684\",\"type\":\"ColumnDataSource\"},{\"attributes\":{},\"id\":\"1804\",\"type\":\"AllLabels\"},{\"attributes\":{\"months\":[0,4,8]},\"id\":\"1817\",\"type\":\"MonthsTicker\"},{\"attributes\":{},\"id\":\"1700\",\"type\":\"LinearScale\"},{\"attributes\":{\"bottom_units\":\"screen\",\"coordinates\":null,\"fill_alpha\":0.5,\"fill_color\":\"lightgrey\",\"group\":null,\"left_units\":\"screen\",\"level\":\"overlay\",\"line_alpha\":1.0,\"line_color\":\"black\",\"line_dash\":[4,4],\"line_width\":2,\"right_units\":\"screen\",\"syncable\":false,\"top_units\":\"screen\"},\"id\":\"1636\",\"type\":\"BoxAnnotation\"},{\"attributes\":{\"base\":60,\"mantissas\":[1,2,5,10,15,20,30],\"max_interval\":1800000.0,\"min_interval\":1000.0,\"num_minor_ticks\":0},\"id\":\"1839\",\"type\":\"AdaptiveTicker\"},{\"attributes\":{\"axis_label\":\"\",\"coordinates\":null,\"formatter\":{\"id\":\"1797\"},\"group\":null,\"major_label_policy\":{\"id\":\"1798\"},\"ticker\":{\"id\":\"1663\"},\"visible\":false},\"id\":\"1662\",\"type\":\"DatetimeAxis\"},{\"attributes\":{\"base\":24,\"mantissas\":[1,2,4,6,8,12],\"max_interval\":43200000.0,\"min_interval\":3600000.0,\"num_minor_ticks\":0},\"id\":\"1840\",\"type\":\"AdaptiveTicker\"},{\"attributes\":{},\"id\":\"1849\",\"type\":\"YearsTicker\"},{\"attributes\":{\"months\":[0,1,2,3,4,5,6,7,8,9,10,11]},\"id\":\"1845\",\"type\":\"MonthsTicker\"},{\"attributes\":{\"days\":[1,15]},\"id\":\"1844\",\"type\":\"DaysTicker\"},{\"attributes\":{\"bottom_units\":\"screen\",\"coordinates\":null,\"fill_alpha\":0.5,\"fill_color\":\"lightgrey\",\"group\":null,\"left_units\":\"screen\",\"level\":\"overlay\",\"line_alpha\":1.0,\"line_color\":\"black\",\"line_dash\":[4,4],\"line_width\":2,\"right_units\":\"screen\",\"syncable\":false,\"top_units\":\"screen\"},\"id\":\"1716\",\"type\":\"BoxAnnotation\"},{\"attributes\":{\"below\":[{\"id\":\"1622\"}],\"center\":[{\"id\":\"1625\"},{\"id\":\"1629\"}],\"height\":100,\"left\":[{\"id\":\"1626\"}],\"outline_line_color\":null,\"renderers\":[{\"id\":\"1648\"}],\"title\":{\"id\":\"1612\"},\"toolbar\":{\"id\":\"1637\"},\"width\":320,\"x_range\":{\"id\":\"1650\"},\"x_scale\":{\"id\":\"1618\"},\"y_range\":{\"id\":\"1616\"},\"y_scale\":{\"id\":\"1620\"}},\"id\":\"1611\",\"subtype\":\"Figure\",\"type\":\"Plot\"},{\"attributes\":{\"days\":[1,2,3,4,5,6,7,8,9,10,11,12,13,14,15,16,17,18,19,20,21,22,23,24,25,26,27,28,29,30,31]},\"id\":\"1841\",\"type\":\"DaysTicker\"},{\"attributes\":{},\"id\":\"1820\",\"type\":\"UnionRenderers\"},{\"attributes\":{\"days\":[1,4,7,10,13,16,19,22,25,28]},\"id\":\"1842\",\"type\":\"DaysTicker\"},{\"attributes\":{},\"id\":\"1800\",\"type\":\"BasicTickFormatter\"},{\"attributes\":{\"days\":[1,8,15,22]},\"id\":\"1843\",\"type\":\"DaysTicker\"},{\"attributes\":{\"coordinates\":null,\"group\":null,\"text\":\"BTC-USD in 2021\",\"text_font_size\":\"10px\"},\"id\":\"1692\",\"type\":\"Title\"},{\"attributes\":{\"months\":[0,6]},\"id\":\"1848\",\"type\":\"MonthsTicker\"},{\"attributes\":{},\"id\":\"1696\",\"type\":\"DataRange1d\"},{\"attributes\":{},\"id\":\"1821\",\"type\":\"Selection\"},{\"attributes\":{\"months\":[0,2,4,6,8,10]},\"id\":\"1846\",\"type\":\"MonthsTicker\"},{\"attributes\":{\"axis\":{\"id\":\"1662\"},\"coordinates\":null,\"grid_line_color\":null,\"group\":null,\"ticker\":null},\"id\":\"1665\",\"type\":\"Grid\"},{\"attributes\":{\"axis_label\":\"\",\"coordinates\":null,\"formatter\":{\"id\":\"1803\"},\"group\":null,\"major_label_policy\":{\"id\":\"1804\"},\"ticker\":{\"id\":\"1703\"},\"visible\":false},\"id\":\"1702\",\"type\":\"DatetimeAxis\"},{\"attributes\":{\"axis\":{\"id\":\"1666\"},\"coordinates\":null,\"dimension\":1,\"grid_line_alpha\":0.2,\"grid_line_color\":\"grey\",\"group\":null,\"ticker\":null},\"id\":\"1669\",\"type\":\"Grid\"},{\"attributes\":{},\"id\":\"1794\",\"type\":\"BasicTickFormatter\"},{\"attributes\":{\"coordinates\":null,\"group\":null,\"text\":\"DOGE-USD in 2021\",\"text_font_size\":\"10px\"},\"id\":\"1612\",\"type\":\"Title\"},{\"attributes\":{\"months\":[0,4,8]},\"id\":\"1847\",\"type\":\"MonthsTicker\"},{\"attributes\":{},\"id\":\"1667\",\"type\":\"BasicTicker\"},{\"attributes\":{},\"id\":\"1634\",\"type\":\"ResetTool\"},{\"attributes\":{},\"id\":\"1698\",\"type\":\"LinearScale\"},{\"attributes\":{},\"id\":\"1618\",\"type\":\"LinearScale\"},{\"attributes\":{},\"id\":\"1658\",\"type\":\"LinearScale\"},{\"attributes\":{},\"id\":\"1670\",\"type\":\"PanTool\"},{\"attributes\":{},\"id\":\"1671\",\"type\":\"WheelZoomTool\"},{\"attributes\":{\"line_alpha\":0.1,\"line_color\":\"#119DA4\",\"line_width\":1.5,\"x\":{\"field\":\"x\"},\"y\":{\"field\":\"y\"}},\"id\":\"1686\",\"type\":\"Line\"},{\"attributes\":{},\"id\":\"1805\",\"type\":\"UnionRenderers\"},{\"attributes\":{\"overlay\":{\"id\":\"1676\"}},\"id\":\"1672\",\"type\":\"BoxZoomTool\"},{\"attributes\":{\"below\":[{\"id\":\"1662\"}],\"center\":[{\"id\":\"1665\"},{\"id\":\"1669\"}],\"height\":100,\"left\":[{\"id\":\"1666\"}],\"outline_line_color\":null,\"renderers\":[{\"id\":\"1688\"}],\"title\":{\"id\":\"1652\"},\"toolbar\":{\"id\":\"1677\"},\"width\":320,\"x_range\":{\"id\":\"1690\"},\"x_scale\":{\"id\":\"1658\"},\"y_range\":{\"id\":\"1656\"},\"y_scale\":{\"id\":\"1660\"}},\"id\":\"1651\",\"subtype\":\"Figure\",\"type\":\"Plot\"},{\"attributes\":{\"line_alpha\":0.1,\"line_color\":\"#FFC247\",\"line_width\":1.5,\"x\":{\"field\":\"x\"},\"y\":{\"field\":\"y\"}},\"id\":\"1646\",\"type\":\"Line\"},{\"attributes\":{},\"id\":\"1806\",\"type\":\"Selection\"},{\"attributes\":{\"line_color\":\"#FFC247\",\"line_width\":1.5,\"x\":{\"field\":\"x\"},\"y\":{\"field\":\"y\"}},\"id\":\"1645\",\"type\":\"Line\"},{\"attributes\":{\"line_alpha\":0.2,\"line_color\":\"#FFC247\",\"line_width\":1.5,\"x\":{\"field\":\"x\"},\"y\":{\"field\":\"y\"}},\"id\":\"1647\",\"type\":\"Line\"}],\"root_ids\":[\"1731\"]},\"title\":\"Bokeh Application\",\"version\":\"2.4.3\"}};\n",
       "  const render_items = [{\"docid\":\"e29b99ca-8ab3-4bce-93ba-ce46431b1b43\",\"root_ids\":[\"1731\"],\"roots\":{\"1731\":\"aa93fdaa-ab4a-48f4-ab9c-8b7d9f5fdd88\"}}];\n",
       "  root.Bokeh.embed.embed_items_notebook(docs_json, render_items);\n",
       "  }\n",
       "  if (root.Bokeh !== undefined) {\n",
       "    embed_document(root);\n",
       "  } else {\n",
       "    let attempts = 0;\n",
       "    const timer = setInterval(function(root) {\n",
       "      if (root.Bokeh !== undefined) {\n",
       "        clearInterval(timer);\n",
       "        embed_document(root);\n",
       "      } else {\n",
       "        attempts++;\n",
       "        if (attempts > 100) {\n",
       "          clearInterval(timer);\n",
       "          console.log(\"Bokeh: ERROR: Unable to run BokehJS code because BokehJS library is missing\");\n",
       "        }\n",
       "      }\n",
       "    }, 10, root)\n",
       "  }\n",
       "})(window);"
      ],
      "application/vnd.bokehjs_exec.v0+json": ""
     },
     "metadata": {
      "application/vnd.bokehjs_exec.v0+json": {
       "id": "1731"
      }
     },
     "output_type": "display_data"
    }
   ],
   "source": [
    "p_doge = plot_scaled_prices(doge_df, 'DOGE')\n",
    "p_sol = plot_scaled_prices(solana_df, 'SOL')\n",
    "p_btc = plot_scaled_prices(bitcoin_df, 'BTC')\n",
    "\n",
    "g = grid([p_doge, p_sol, p_btc], ncols=3, nrows=1)\n",
    "\n",
    "show(g)"
   ]
  },
  {
   "cell_type": "markdown",
   "metadata": {},
   "source": [
    "## 2. Analysing tweets impact"
   ]
  },
  {
   "cell_type": "markdown",
   "metadata": {},
   "source": [
    "### 2.1 DOGE vs other cryptos at doge-tweets"
   ]
  },
  {
   "cell_type": "code",
   "execution_count": 8,
   "metadata": {
    "pycharm": {
     "name": "#%%\n"
    }
   },
   "outputs": [],
   "source": [
    "days = 3\n",
    "\n",
    "doge_diffs = tweets_impact(elon_df, doge_df, days)\n",
    "solana_diffs = tweets_impact(elon_df, solana_df, days)\n",
    "bitcoin_diffs = tweets_impact(elon_df, bitcoin_df, days)"
   ]
  },
  {
   "cell_type": "code",
   "execution_count": 9,
   "metadata": {
    "pycharm": {
     "name": "#%%\n"
    }
   },
   "outputs": [
    {
     "data": {
      "text/html": [
       "\n",
       "  <div class=\"bk-root\" id=\"c7a618f8-9ea4-42ae-aecf-bf487751d8f5\" data-root-id=\"2180\"></div>\n"
      ]
     },
     "metadata": {},
     "output_type": "display_data"
    },
    {
     "data": {
      "application/javascript": [
       "(function(root) {\n",
       "  function embed_document(root) {\n",
       "  const docs_json = {\"07375e7b-5a86-4160-a2e1-a4a9e9f252f6\":{\"defs\":[],\"roots\":{\"references\":[{\"attributes\":{\"below\":[{\"id\":\"2191\"}],\"center\":[{\"id\":\"2193\"},{\"id\":\"2197\"},{\"id\":\"2228\"}],\"height\":400,\"left\":[{\"id\":\"2194\"}],\"renderers\":[{\"id\":\"2216\"},{\"id\":\"2234\"},{\"id\":\"2253\"}],\"title\":{\"id\":\"2181\"},\"toolbar\":{\"id\":\"2205\"},\"x_range\":{\"id\":\"2183\"},\"x_scale\":{\"id\":\"2187\"},\"y_range\":{\"id\":\"2185\"},\"y_scale\":{\"id\":\"2189\"}},\"id\":\"2180\",\"subtype\":\"Figure\",\"type\":\"Plot\"},{\"attributes\":{},\"id\":\"2201\",\"type\":\"SaveTool\"},{\"attributes\":{\"border_line_width\":2,\"coordinates\":null,\"group\":null,\"items\":[{\"id\":\"2229\"},{\"id\":\"2248\"},{\"id\":\"2269\"}]},\"id\":\"2228\",\"type\":\"Legend\"},{\"attributes\":{},\"id\":\"2266\",\"type\":\"UnionRenderers\"},{\"attributes\":{\"overlay\":{\"id\":\"2204\"}},\"id\":\"2200\",\"type\":\"BoxZoomTool\"},{\"attributes\":{\"bottom_units\":\"screen\",\"coordinates\":null,\"fill_alpha\":0.5,\"fill_color\":\"lightgrey\",\"group\":null,\"left_units\":\"screen\",\"level\":\"overlay\",\"line_alpha\":1.0,\"line_color\":\"black\",\"line_dash\":[4,4],\"line_width\":2,\"right_units\":\"screen\",\"syncable\":false,\"top_units\":\"screen\"},\"id\":\"2204\",\"type\":\"BoxAnnotation\"},{\"attributes\":{},\"id\":\"2225\",\"type\":\"UnionRenderers\"},{\"attributes\":{\"label\":{\"value\":\"DOGE\"},\"renderers\":[{\"id\":\"2216\"}]},\"id\":\"2229\",\"type\":\"LegendItem\"},{\"attributes\":{\"line_alpha\":0.1,\"line_color\":\"#FFC247\",\"line_width\":1.5,\"x\":{\"field\":\"x\"},\"y\":{\"field\":\"y\"}},\"id\":\"2214\",\"type\":\"Line\"},{\"attributes\":{\"label\":{\"value\":\"BTC\"},\"renderers\":[{\"id\":\"2253\"}]},\"id\":\"2269\",\"type\":\"LegendItem\"},{\"attributes\":{},\"id\":\"2195\",\"type\":\"BasicTicker\"},{\"attributes\":{},\"id\":\"2226\",\"type\":\"Selection\"},{\"attributes\":{},\"id\":\"2267\",\"type\":\"Selection\"},{\"attributes\":{\"data\":{\"x\":[\"before\",\"after\"],\"y\":[-0.2064243588734264,-0.13045567602472355]},\"selected\":{\"id\":\"2226\"},\"selection_policy\":{\"id\":\"2225\"}},\"id\":\"2212\",\"type\":\"ColumnDataSource\"},{\"attributes\":{\"line_alpha\":0.2,\"line_color\":\"#EE6055\",\"line_width\":1.5,\"x\":{\"field\":\"x\"},\"y\":{\"field\":\"y\"}},\"id\":\"2252\",\"type\":\"Line\"},{\"attributes\":{\"axis_label\":\"standardized prices\",\"axis_line_alpha\":0.2,\"axis_line_color\":\"grey\",\"coordinates\":null,\"formatter\":{\"id\":\"2220\"},\"group\":null,\"major_label_policy\":{\"id\":\"2221\"},\"major_label_text_color\":\"grey\",\"major_tick_line_alpha\":0.2,\"major_tick_line_color\":\"grey\",\"minor_tick_line_width\":0,\"ticker\":{\"id\":\"2195\"}},\"id\":\"2194\",\"type\":\"LinearAxis\"},{\"attributes\":{\"line_color\":\"#FFC247\",\"line_width\":1.5,\"x\":{\"field\":\"x\"},\"y\":{\"field\":\"y\"}},\"id\":\"2213\",\"type\":\"Line\"},{\"attributes\":{\"axis_label\":\"\",\"axis_line_alpha\":0.2,\"axis_line_color\":\"grey\",\"coordinates\":null,\"formatter\":{\"id\":\"2223\"},\"group\":null,\"major_label_policy\":{\"id\":\"2224\"},\"major_label_text_color\":\"grey\",\"major_tick_line_alpha\":0.2,\"major_tick_line_color\":\"grey\",\"ticker\":{\"id\":\"2192\"}},\"id\":\"2191\",\"type\":\"CategoricalAxis\"},{\"attributes\":{\"line_alpha\":0.2,\"line_color\":\"#FFC247\",\"line_width\":1.5,\"x\":{\"field\":\"x\"},\"y\":{\"field\":\"y\"}},\"id\":\"2215\",\"type\":\"Line\"},{\"attributes\":{\"tools\":[{\"id\":\"2198\"},{\"id\":\"2199\"},{\"id\":\"2200\"},{\"id\":\"2201\"},{\"id\":\"2202\"},{\"id\":\"2203\"}]},\"id\":\"2205\",\"type\":\"Toolbar\"},{\"attributes\":{\"line_color\":\"#119DA4\",\"line_width\":1.5,\"x\":{\"field\":\"x\"},\"y\":{\"field\":\"y\"}},\"id\":\"2231\",\"type\":\"Line\"},{\"attributes\":{\"axis\":{\"id\":\"2191\"},\"coordinates\":null,\"grid_line_alpha\":0.2,\"grid_line_color\":null,\"group\":null,\"ticker\":null},\"id\":\"2193\",\"type\":\"Grid\"},{\"attributes\":{},\"id\":\"2199\",\"type\":\"WheelZoomTool\"},{\"attributes\":{},\"id\":\"2187\",\"type\":\"CategoricalScale\"},{\"attributes\":{},\"id\":\"2203\",\"type\":\"HelpTool\"},{\"attributes\":{\"data\":{\"x\":[\"before\",\"after\"],\"y\":[-0.6068359476714885,-0.5785174922342515]},\"selected\":{\"id\":\"2246\"},\"selection_policy\":{\"id\":\"2245\"}},\"id\":\"2230\",\"type\":\"ColumnDataSource\"},{\"attributes\":{\"source\":{\"id\":\"2212\"}},\"id\":\"2217\",\"type\":\"CDSView\"},{\"attributes\":{\"coordinates\":null,\"data_source\":{\"id\":\"2230\"},\"glyph\":{\"id\":\"2231\"},\"group\":null,\"hover_glyph\":null,\"muted_glyph\":{\"id\":\"2233\"},\"nonselection_glyph\":{\"id\":\"2232\"},\"view\":{\"id\":\"2235\"}},\"id\":\"2234\",\"type\":\"GlyphRenderer\"},{\"attributes\":{},\"id\":\"2185\",\"type\":\"DataRange1d\"},{\"attributes\":{},\"id\":\"2189\",\"type\":\"LinearScale\"},{\"attributes\":{\"coordinates\":null,\"data_source\":{\"id\":\"2212\"},\"glyph\":{\"id\":\"2213\"},\"group\":null,\"hover_glyph\":null,\"muted_glyph\":{\"id\":\"2215\"},\"nonselection_glyph\":{\"id\":\"2214\"},\"view\":{\"id\":\"2217\"}},\"id\":\"2216\",\"type\":\"GlyphRenderer\"},{\"attributes\":{},\"id\":\"2220\",\"type\":\"BasicTickFormatter\"},{\"attributes\":{\"axis\":{\"id\":\"2194\"},\"coordinates\":null,\"dimension\":1,\"grid_line_alpha\":0.2,\"grid_line_color\":\"grey\",\"group\":null,\"ticker\":null},\"id\":\"2197\",\"type\":\"Grid\"},{\"attributes\":{\"source\":{\"id\":\"2230\"}},\"id\":\"2235\",\"type\":\"CDSView\"},{\"attributes\":{},\"id\":\"2221\",\"type\":\"AllLabels\"},{\"attributes\":{\"label\":{\"value\":\"SOL\"},\"renderers\":[{\"id\":\"2234\"}]},\"id\":\"2248\",\"type\":\"LegendItem\"},{\"attributes\":{\"line_alpha\":0.2,\"line_color\":\"#119DA4\",\"line_width\":1.5,\"x\":{\"field\":\"x\"},\"y\":{\"field\":\"y\"}},\"id\":\"2233\",\"type\":\"Line\"},{\"attributes\":{\"line_color\":\"#EE6055\",\"line_width\":1.5,\"x\":{\"field\":\"x\"},\"y\":{\"field\":\"y\"}},\"id\":\"2250\",\"type\":\"Line\"},{\"attributes\":{\"line_alpha\":0.1,\"line_color\":\"#119DA4\",\"line_width\":1.5,\"x\":{\"field\":\"x\"},\"y\":{\"field\":\"y\"}},\"id\":\"2232\",\"type\":\"Line\"},{\"attributes\":{},\"id\":\"2202\",\"type\":\"ResetTool\"},{\"attributes\":{},\"id\":\"2223\",\"type\":\"CategoricalTickFormatter\"},{\"attributes\":{\"data\":{\"x\":[\"before\",\"after\"],\"y\":[0.09388396990226558,0.045171874092263246]},\"selected\":{\"id\":\"2267\"},\"selection_policy\":{\"id\":\"2266\"}},\"id\":\"2249\",\"type\":\"ColumnDataSource\"},{\"attributes\":{},\"id\":\"2224\",\"type\":\"AllLabels\"},{\"attributes\":{\"factors\":[\"before\",\"after\"]},\"id\":\"2183\",\"type\":\"FactorRange\"},{\"attributes\":{\"line_alpha\":0.1,\"line_color\":\"#EE6055\",\"line_width\":1.5,\"x\":{\"field\":\"x\"},\"y\":{\"field\":\"y\"}},\"id\":\"2251\",\"type\":\"Line\"},{\"attributes\":{},\"id\":\"2198\",\"type\":\"PanTool\"},{\"attributes\":{\"source\":{\"id\":\"2249\"}},\"id\":\"2254\",\"type\":\"CDSView\"},{\"attributes\":{},\"id\":\"2245\",\"type\":\"UnionRenderers\"},{\"attributes\":{\"coordinates\":null,\"data_source\":{\"id\":\"2249\"},\"glyph\":{\"id\":\"2250\"},\"group\":null,\"hover_glyph\":null,\"muted_glyph\":{\"id\":\"2252\"},\"nonselection_glyph\":{\"id\":\"2251\"},\"view\":{\"id\":\"2254\"}},\"id\":\"2253\",\"type\":\"GlyphRenderer\"},{\"attributes\":{},\"id\":\"2192\",\"type\":\"CategoricalTicker\"},{\"attributes\":{},\"id\":\"2246\",\"type\":\"Selection\"},{\"attributes\":{\"coordinates\":null,\"group\":null,\"text\":\"Prices before and after a Doge-referencing tweet\\n\",\"text_font_size\":\"15px\"},\"id\":\"2181\",\"type\":\"Title\"}],\"root_ids\":[\"2180\"]},\"title\":\"Bokeh Application\",\"version\":\"2.4.3\"}};\n",
       "  const render_items = [{\"docid\":\"07375e7b-5a86-4160-a2e1-a4a9e9f252f6\",\"root_ids\":[\"2180\"],\"roots\":{\"2180\":\"c7a618f8-9ea4-42ae-aecf-bf487751d8f5\"}}];\n",
       "  root.Bokeh.embed.embed_items_notebook(docs_json, render_items);\n",
       "  }\n",
       "  if (root.Bokeh !== undefined) {\n",
       "    embed_document(root);\n",
       "  } else {\n",
       "    let attempts = 0;\n",
       "    const timer = setInterval(function(root) {\n",
       "      if (root.Bokeh !== undefined) {\n",
       "        clearInterval(timer);\n",
       "        embed_document(root);\n",
       "      } else {\n",
       "        attempts++;\n",
       "        if (attempts > 100) {\n",
       "          clearInterval(timer);\n",
       "          console.log(\"Bokeh: ERROR: Unable to run BokehJS code because BokehJS library is missing\");\n",
       "        }\n",
       "      }\n",
       "    }, 10, root)\n",
       "  }\n",
       "})(window);"
      ],
      "application/vnd.bokehjs_exec.v0+json": ""
     },
     "metadata": {
      "application/vnd.bokehjs_exec.v0+json": {
       "id": "2180"
      }
     },
     "output_type": "display_data"
    }
   ],
   "source": [
    "show(\n",
    "    plot_did([doge_diffs, solana_diffs, bitcoin_diffs],\n",
    "             ['DOGE', 'SOL', 'BTC'])\n",
    ")"
   ]
  },
  {
   "cell_type": "code",
   "execution_count": 10,
   "metadata": {
    "pycharm": {
     "name": "#%%\n"
    }
   },
   "outputs": [
    {
     "name": "stdout",
     "output_type": "stream",
     "text": [
      "DOGE-SOL p-value: 0.9022166659939014\n",
      "DOGE-BTC p-value: 0.7751796794798789\n"
     ]
    }
   ],
   "source": [
    "doge_sol = pd.DataFrame({\n",
    "    'price': pd.concat([doge_diffs.before_sc, doge_diffs.after_sc, solana_diffs.before_sc, solana_diffs.after_sc]),\n",
    "    'after': [0] * len(doge_diffs) + [1] * len(doge_diffs) + [0] * len(doge_diffs) + [1] * len(doge_diffs),\n",
    "    'DOGE': [1] * len(doge_diffs) * 2 + [0] * len(doge_diffs) * 2,\n",
    "    'change_perc': doge_diffs.differ_sc.tolist() + doge_diffs.differ_sc.tolist() + solana_diffs.differ_sc.tolist() + solana_diffs.differ_sc.tolist()\n",
    "})\n",
    "\n",
    "doge_btc = pd.DataFrame({\n",
    "    'price': pd.concat([doge_diffs.before_sc, doge_diffs.after_sc, bitcoin_diffs.before_sc, bitcoin_diffs.after_sc]),\n",
    "    'after': [0] * len(doge_diffs) + [1] * len(doge_diffs) + [0] * len(doge_diffs) + [1] * len(doge_diffs),\n",
    "    'DOGE': [1] * len(doge_diffs) * 2 + [0] * len(doge_diffs) * 2,\n",
    "    'change_perc': doge_diffs.differ_sc.tolist() + doge_diffs.differ_sc.tolist() + solana_diffs.differ_sc.tolist() + solana_diffs.differ_sc.tolist()\n",
    "})\n",
    "\n",
    "formula = 'price ~ DOGE + after + DOGE * after'\n",
    "\n",
    "reg1 = smf.ols(formula, doge_sol).fit()\n",
    "reg2 = smf.ols(formula, doge_btc).fit()\n",
    "\n",
    "print(f'DOGE-SOL p-value: {reg1.pvalues[\"DOGE:after\"]}')\n",
    "print(f'DOGE-BTC p-value: {reg2.pvalues[\"DOGE:after\"]}')"
   ]
  },
  {
   "cell_type": "code",
   "execution_count": 11,
   "metadata": {
    "pycharm": {
     "name": "#%%\n"
    }
   },
   "outputs": [
    {
     "name": "stdout",
     "output_type": "stream",
     "text": [
      "\t\t\t\t\t\t\t\t  DOGE - SOL\n",
      "                            OLS Regression Results                            \n",
      "==============================================================================\n",
      "Dep. Variable:                  price   R-squared:                       0.047\n",
      "Model:                            OLS   Adj. R-squared:                  0.018\n",
      "Method:                 Least Squares   F-statistic:                     1.633\n",
      "Date:                Mon, 04 Jul 2022   Prob (F-statistic):              0.187\n",
      "Time:                        11:08:44   Log-Likelihood:                -144.09\n",
      "No. Observations:                 104   AIC:                             296.2\n",
      "Df Residuals:                     100   BIC:                             306.8\n",
      "Df Model:                           3                                         \n",
      "Covariance Type:            nonrobust                                         \n",
      "==============================================================================\n",
      "                 coef    std err          t      P>|t|      [0.025      0.975]\n",
      "------------------------------------------------------------------------------\n",
      "Intercept     -0.6068      0.193     -3.137      0.002      -0.991      -0.223\n",
      "DOGE           0.4004      0.274      1.464      0.146      -0.142       0.943\n",
      "after          0.0283      0.274      0.104      0.918      -0.514       0.571\n",
      "DOGE:after     0.0477      0.387      0.123      0.902      -0.720       0.815\n",
      "==============================================================================\n",
      "Omnibus:                       22.306   Durbin-Watson:                   1.419\n",
      "Prob(Omnibus):                  0.000   Jarque-Bera (JB):               28.256\n",
      "Skew:                           1.195   Prob(JB):                     7.32e-07\n",
      "Kurtosis:                       3.899   Cond. No.                         6.85\n",
      "==============================================================================\n",
      "\n",
      "Notes:\n",
      "[1] Standard Errors assume that the covariance matrix of the errors is correctly specified.\n"
     ]
    }
   ],
   "source": [
    "print('\\t' * 8 + ' ' * 2 + 'DOGE - SOL')\n",
    "print(reg1.summary())"
   ]
  },
  {
   "cell_type": "code",
   "execution_count": 12,
   "metadata": {
    "pycharm": {
     "name": "#%%\n"
    }
   },
   "outputs": [
    {
     "name": "stdout",
     "output_type": "stream",
     "text": [
      "\t\t\t\t\t\t\t\t  DOGE - BTC\n",
      "                            OLS Regression Results                            \n",
      "==============================================================================\n",
      "Dep. Variable:                  price   R-squared:                       0.013\n",
      "Model:                            OLS   Adj. R-squared:                 -0.017\n",
      "Method:                 Least Squares   F-statistic:                    0.4270\n",
      "Date:                Mon, 04 Jul 2022   Prob (F-statistic):              0.734\n",
      "Time:                        11:08:44   Log-Likelihood:                -156.38\n",
      "No. Observations:                 104   AIC:                             320.8\n",
      "Df Residuals:                     100   BIC:                             331.3\n",
      "Df Model:                           3                                         \n",
      "Covariance Type:            nonrobust                                         \n",
      "==============================================================================\n",
      "                 coef    std err          t      P>|t|      [0.025      0.975]\n",
      "------------------------------------------------------------------------------\n",
      "Intercept      0.0939      0.218      0.431      0.667      -0.338       0.526\n",
      "DOGE          -0.3003      0.308     -0.975      0.332      -0.911       0.310\n",
      "after         -0.0487      0.308     -0.158      0.875      -0.659       0.562\n",
      "DOGE:after     0.1247      0.435      0.286      0.775      -0.739       0.988\n",
      "==============================================================================\n",
      "Omnibus:                        8.679   Durbin-Watson:                   1.637\n",
      "Prob(Omnibus):                  0.013   Jarque-Bera (JB):                7.840\n",
      "Skew:                           0.597   Prob(JB):                       0.0198\n",
      "Kurtosis:                       2.380   Cond. No.                         6.85\n",
      "==============================================================================\n",
      "\n",
      "Notes:\n",
      "[1] Standard Errors assume that the covariance matrix of the errors is correctly specified.\n"
     ]
    }
   ],
   "source": [
    "print('\\t' * 8 + ' ' * 2 + 'DOGE - BTC')\n",
    "print(reg2.summary())"
   ]
  },
  {
   "cell_type": "markdown",
   "metadata": {},
   "source": [
    "#### Using differences"
   ]
  },
  {
   "cell_type": "code",
   "execution_count": 13,
   "metadata": {
    "pycharm": {
     "name": "#%%\n"
    }
   },
   "outputs": [
    {
     "data": {
      "text/html": [
       "\n",
       "  <div class=\"bk-root\" id=\"13a57ab5-bb25-4a3c-9523-956e7be4d13b\" data-root-id=\"2472\"></div>\n"
      ]
     },
     "metadata": {},
     "output_type": "display_data"
    },
    {
     "data": {
      "application/javascript": [
       "(function(root) {\n",
       "  function embed_document(root) {\n",
       "  const docs_json = {\"2999734b-d994-471c-b134-c9a5bf3920b5\":{\"defs\":[],\"roots\":{\"references\":[{\"attributes\":{\"below\":[{\"id\":\"2483\"}],\"center\":[{\"id\":\"2485\"},{\"id\":\"2489\"},{\"id\":\"2520\"}],\"height\":400,\"left\":[{\"id\":\"2486\"}],\"renderers\":[{\"id\":\"2508\"},{\"id\":\"2526\"},{\"id\":\"2545\"}],\"title\":{\"id\":\"2473\"},\"toolbar\":{\"id\":\"2497\"},\"x_range\":{\"id\":\"2475\"},\"x_scale\":{\"id\":\"2479\"},\"y_range\":{\"id\":\"2477\"},\"y_scale\":{\"id\":\"2481\"}},\"id\":\"2472\",\"subtype\":\"Figure\",\"type\":\"Plot\"},{\"attributes\":{\"line_alpha\":0.1,\"line_color\":\"#EE6055\",\"line_width\":1.5,\"x\":{\"field\":\"x\"},\"y\":{\"field\":\"y\"}},\"id\":\"2543\",\"type\":\"Line\"},{\"attributes\":{\"label\":{\"value\":\"SOL\"},\"renderers\":[{\"id\":\"2526\"}]},\"id\":\"2540\",\"type\":\"LegendItem\"},{\"attributes\":{},\"id\":\"2517\",\"type\":\"UnionRenderers\"},{\"attributes\":{\"line_alpha\":0.2,\"line_color\":\"#EE6055\",\"line_width\":1.5,\"x\":{\"field\":\"x\"},\"y\":{\"field\":\"y\"}},\"id\":\"2544\",\"type\":\"Line\"},{\"attributes\":{\"label\":{\"value\":\"BTC\"},\"renderers\":[{\"id\":\"2545\"}]},\"id\":\"2561\",\"type\":\"LegendItem\"},{\"attributes\":{\"axis\":{\"id\":\"2483\"},\"coordinates\":null,\"grid_line_alpha\":0.2,\"grid_line_color\":null,\"group\":null,\"ticker\":null},\"id\":\"2485\",\"type\":\"Grid\"},{\"attributes\":{},\"id\":\"2518\",\"type\":\"Selection\"},{\"attributes\":{\"coordinates\":null,\"data_source\":{\"id\":\"2541\"},\"glyph\":{\"id\":\"2542\"},\"group\":null,\"hover_glyph\":null,\"muted_glyph\":{\"id\":\"2544\"},\"nonselection_glyph\":{\"id\":\"2543\"},\"view\":{\"id\":\"2546\"}},\"id\":\"2545\",\"type\":\"GlyphRenderer\"},{\"attributes\":{},\"id\":\"2538\",\"type\":\"Selection\"},{\"attributes\":{\"source\":{\"id\":\"2504\"}},\"id\":\"2509\",\"type\":\"CDSView\"},{\"attributes\":{\"source\":{\"id\":\"2541\"}},\"id\":\"2546\",\"type\":\"CDSView\"},{\"attributes\":{},\"id\":\"2477\",\"type\":\"DataRange1d\"},{\"attributes\":{},\"id\":\"2516\",\"type\":\"AllLabels\"},{\"attributes\":{},\"id\":\"2558\",\"type\":\"UnionRenderers\"},{\"attributes\":{\"data\":{\"x\":[\"before\",\"after\"],\"y\":[0,0.028318455437236857]},\"selected\":{\"id\":\"2538\"},\"selection_policy\":{\"id\":\"2537\"}},\"id\":\"2522\",\"type\":\"ColumnDataSource\"},{\"attributes\":{},\"id\":\"2559\",\"type\":\"Selection\"},{\"attributes\":{\"label\":{\"value\":\"DOGE\"},\"renderers\":[{\"id\":\"2508\"}]},\"id\":\"2521\",\"type\":\"LegendItem\"},{\"attributes\":{\"coordinates\":null,\"data_source\":{\"id\":\"2504\"},\"glyph\":{\"id\":\"2505\"},\"group\":null,\"hover_glyph\":null,\"muted_glyph\":{\"id\":\"2507\"},\"nonselection_glyph\":{\"id\":\"2506\"},\"view\":{\"id\":\"2509\"}},\"id\":\"2508\",\"type\":\"GlyphRenderer\"},{\"attributes\":{\"line_alpha\":0.2,\"line_color\":\"#FFC247\",\"line_width\":1.5,\"x\":{\"field\":\"x\"},\"y\":{\"field\":\"y\"}},\"id\":\"2507\",\"type\":\"Line\"},{\"attributes\":{\"line_alpha\":0.1,\"line_color\":\"#FFC247\",\"line_width\":1.5,\"x\":{\"field\":\"x\"},\"y\":{\"field\":\"y\"}},\"id\":\"2506\",\"type\":\"Line\"},{\"attributes\":{},\"id\":\"2515\",\"type\":\"CategoricalTickFormatter\"},{\"attributes\":{\"factors\":[\"before\",\"after\"]},\"id\":\"2475\",\"type\":\"FactorRange\"},{\"attributes\":{\"border_line_width\":2,\"coordinates\":null,\"group\":null,\"items\":[{\"id\":\"2521\"},{\"id\":\"2540\"},{\"id\":\"2561\"}]},\"id\":\"2520\",\"type\":\"Legend\"},{\"attributes\":{},\"id\":\"2479\",\"type\":\"CategoricalScale\"},{\"attributes\":{\"axis\":{\"id\":\"2486\"},\"coordinates\":null,\"dimension\":1,\"grid_line_alpha\":0.2,\"grid_line_color\":\"grey\",\"group\":null,\"ticker\":null},\"id\":\"2489\",\"type\":\"Grid\"},{\"attributes\":{},\"id\":\"2484\",\"type\":\"CategoricalTicker\"},{\"attributes\":{\"coordinates\":null,\"group\":null,\"text\":\"Price differences before and after a Doge-referencing tweet\\n\",\"text_font_size\":\"15px\"},\"id\":\"2473\",\"type\":\"Title\"},{\"attributes\":{},\"id\":\"2537\",\"type\":\"UnionRenderers\"},{\"attributes\":{},\"id\":\"2487\",\"type\":\"BasicTicker\"},{\"attributes\":{},\"id\":\"2513\",\"type\":\"AllLabels\"},{\"attributes\":{\"source\":{\"id\":\"2522\"}},\"id\":\"2527\",\"type\":\"CDSView\"},{\"attributes\":{\"axis_label\":\"\",\"axis_line_alpha\":0.2,\"axis_line_color\":\"grey\",\"coordinates\":null,\"formatter\":{\"id\":\"2515\"},\"group\":null,\"major_label_policy\":{\"id\":\"2516\"},\"major_label_text_color\":\"grey\",\"major_tick_line_alpha\":0.2,\"major_tick_line_color\":\"grey\",\"ticker\":{\"id\":\"2484\"}},\"id\":\"2483\",\"type\":\"CategoricalAxis\"},{\"attributes\":{\"line_alpha\":0.2,\"line_color\":\"#119DA4\",\"line_width\":1.5,\"x\":{\"field\":\"x\"},\"y\":{\"field\":\"y\"}},\"id\":\"2525\",\"type\":\"Line\"},{\"attributes\":{},\"id\":\"2495\",\"type\":\"HelpTool\"},{\"attributes\":{},\"id\":\"2512\",\"type\":\"BasicTickFormatter\"},{\"attributes\":{\"axis_label\":\"standardized differences\",\"axis_line_alpha\":0.2,\"axis_line_color\":\"grey\",\"coordinates\":null,\"formatter\":{\"id\":\"2512\"},\"group\":null,\"major_label_policy\":{\"id\":\"2513\"},\"major_label_text_color\":\"grey\",\"major_tick_line_alpha\":0.2,\"major_tick_line_color\":\"grey\",\"minor_tick_line_width\":0,\"ticker\":{\"id\":\"2487\"}},\"id\":\"2486\",\"type\":\"LinearAxis\"},{\"attributes\":{},\"id\":\"2481\",\"type\":\"LinearScale\"},{\"attributes\":{\"line_color\":\"#119DA4\",\"line_width\":1.5,\"x\":{\"field\":\"x\"},\"y\":{\"field\":\"y\"}},\"id\":\"2523\",\"type\":\"Line\"},{\"attributes\":{\"data\":{\"x\":[\"before\",\"after\"],\"y\":[0,0.07596868284870281]},\"selected\":{\"id\":\"2518\"},\"selection_policy\":{\"id\":\"2517\"}},\"id\":\"2504\",\"type\":\"ColumnDataSource\"},{\"attributes\":{},\"id\":\"2491\",\"type\":\"WheelZoomTool\"},{\"attributes\":{\"line_alpha\":0.1,\"line_color\":\"#119DA4\",\"line_width\":1.5,\"x\":{\"field\":\"x\"},\"y\":{\"field\":\"y\"}},\"id\":\"2524\",\"type\":\"Line\"},{\"attributes\":{},\"id\":\"2490\",\"type\":\"PanTool\"},{\"attributes\":{\"overlay\":{\"id\":\"2496\"}},\"id\":\"2492\",\"type\":\"BoxZoomTool\"},{\"attributes\":{\"line_color\":\"#FFC247\",\"line_width\":1.5,\"x\":{\"field\":\"x\"},\"y\":{\"field\":\"y\"}},\"id\":\"2505\",\"type\":\"Line\"},{\"attributes\":{\"data\":{\"x\":[\"before\",\"after\"],\"y\":[0,-0.04871209581000235]},\"selected\":{\"id\":\"2559\"},\"selection_policy\":{\"id\":\"2558\"}},\"id\":\"2541\",\"type\":\"ColumnDataSource\"},{\"attributes\":{\"coordinates\":null,\"data_source\":{\"id\":\"2522\"},\"glyph\":{\"id\":\"2523\"},\"group\":null,\"hover_glyph\":null,\"muted_glyph\":{\"id\":\"2525\"},\"nonselection_glyph\":{\"id\":\"2524\"},\"view\":{\"id\":\"2527\"}},\"id\":\"2526\",\"type\":\"GlyphRenderer\"},{\"attributes\":{},\"id\":\"2493\",\"type\":\"SaveTool\"},{\"attributes\":{},\"id\":\"2494\",\"type\":\"ResetTool\"},{\"attributes\":{\"line_color\":\"#EE6055\",\"line_width\":1.5,\"x\":{\"field\":\"x\"},\"y\":{\"field\":\"y\"}},\"id\":\"2542\",\"type\":\"Line\"},{\"attributes\":{\"bottom_units\":\"screen\",\"coordinates\":null,\"fill_alpha\":0.5,\"fill_color\":\"lightgrey\",\"group\":null,\"left_units\":\"screen\",\"level\":\"overlay\",\"line_alpha\":1.0,\"line_color\":\"black\",\"line_dash\":[4,4],\"line_width\":2,\"right_units\":\"screen\",\"syncable\":false,\"top_units\":\"screen\"},\"id\":\"2496\",\"type\":\"BoxAnnotation\"},{\"attributes\":{\"tools\":[{\"id\":\"2490\"},{\"id\":\"2491\"},{\"id\":\"2492\"},{\"id\":\"2493\"},{\"id\":\"2494\"},{\"id\":\"2495\"}]},\"id\":\"2497\",\"type\":\"Toolbar\"}],\"root_ids\":[\"2472\"]},\"title\":\"Bokeh Application\",\"version\":\"2.4.3\"}};\n",
       "  const render_items = [{\"docid\":\"2999734b-d994-471c-b134-c9a5bf3920b5\",\"root_ids\":[\"2472\"],\"roots\":{\"2472\":\"13a57ab5-bb25-4a3c-9523-956e7be4d13b\"}}];\n",
       "  root.Bokeh.embed.embed_items_notebook(docs_json, render_items);\n",
       "  }\n",
       "  if (root.Bokeh !== undefined) {\n",
       "    embed_document(root);\n",
       "  } else {\n",
       "    let attempts = 0;\n",
       "    const timer = setInterval(function(root) {\n",
       "      if (root.Bokeh !== undefined) {\n",
       "        clearInterval(timer);\n",
       "        embed_document(root);\n",
       "      } else {\n",
       "        attempts++;\n",
       "        if (attempts > 100) {\n",
       "          clearInterval(timer);\n",
       "          console.log(\"Bokeh: ERROR: Unable to run BokehJS code because BokehJS library is missing\");\n",
       "        }\n",
       "      }\n",
       "    }, 10, root)\n",
       "  }\n",
       "})(window);"
      ],
      "application/vnd.bokehjs_exec.v0+json": ""
     },
     "metadata": {
      "application/vnd.bokehjs_exec.v0+json": {
       "id": "2472"
      }
     },
     "output_type": "display_data"
    }
   ],
   "source": [
    "show(\n",
    "    plot_did_differences([doge_diffs, solana_diffs, bitcoin_diffs],\n",
    "                         ['DOGE', 'SOL', 'BTC'])\n",
    ")"
   ]
  },
  {
   "cell_type": "code",
   "execution_count": 14,
   "metadata": {
    "pycharm": {
     "name": "#%%\n"
    }
   },
   "outputs": [
    {
     "name": "stdout",
     "output_type": "stream",
     "text": [
      "DOGE-SOL p-value: 0.5496262711271096\n",
      "DOGE-BTC p-value: 0.2528038527963023\n"
     ]
    }
   ],
   "source": [
    "doge_btc = pd.DataFrame({\n",
    "    'price': [0] * len(doge_diffs) + doge_diffs.differ_sc.tolist() + [0] * len(doge_diffs) + bitcoin_diffs.differ_sc.tolist(),\n",
    "    'after': [0] * len(doge_diffs) + [1] * len(doge_diffs) + [0] * len(doge_diffs) + [1] * len(doge_diffs),\n",
    "    'DOGE': [1] * len(doge_diffs) * 2 + [0] * len(doge_diffs) * 2\n",
    "})\n",
    "\n",
    "doge_sol = pd.DataFrame({\n",
    "    'price': [0] * len(doge_diffs) + doge_diffs.differ_sc.tolist() + [0] * len(doge_diffs) + solana_diffs.differ_sc.tolist(),\n",
    "    'after': [0] * len(doge_diffs) + [1] * len(doge_diffs) + [0] * len(doge_diffs) + [1] * len(doge_diffs),\n",
    "    'DOGE': [1] * len(doge_diffs) * 2 + [0] * len(doge_diffs) * 2\n",
    "})\n",
    "\n",
    "formula = 'price ~ DOGE + after + DOGE * after'\n",
    "\n",
    "reg1 = smf.ols(formula, doge_sol).fit()\n",
    "reg2 = smf.ols(formula, doge_btc).fit()\n",
    "\n",
    "print(f'DOGE-SOL p-value: {reg1.pvalues[\"DOGE:after\"]}')\n",
    "print(f'DOGE-BTC p-value: {reg2.pvalues[\"DOGE:after\"]}')"
   ]
  },
  {
   "cell_type": "code",
   "execution_count": 15,
   "metadata": {
    "pycharm": {
     "name": "#%%\n"
    }
   },
   "outputs": [
    {
     "name": "stdout",
     "output_type": "stream",
     "text": [
      "\t\t\t\t\t\t\t\t  DOGE - SOL\n",
      "                            OLS Regression Results                            \n",
      "==============================================================================\n",
      "Dep. Variable:                  price   R-squared:                       0.024\n",
      "Model:                            OLS   Adj. R-squared:                 -0.005\n",
      "Method:                 Least Squares   F-statistic:                    0.8158\n",
      "Date:                Mon, 04 Jul 2022   Prob (F-statistic):              0.488\n",
      "Time:                        11:08:44   Log-Likelihood:                 20.634\n",
      "No. Observations:                 104   AIC:                            -33.27\n",
      "Df Residuals:                     100   BIC:                            -22.69\n",
      "Df Model:                           3                                         \n",
      "Covariance Type:            nonrobust                                         \n",
      "==============================================================================\n",
      "                 coef    std err          t      P>|t|      [0.025      0.975]\n",
      "------------------------------------------------------------------------------\n",
      "Intercept   9.195e-17      0.040   2.32e-15      1.000      -0.079       0.079\n",
      "DOGE       -1.056e-16      0.056  -1.88e-15      1.000      -0.111       0.111\n",
      "after          0.0283      0.056      0.505      0.615      -0.083       0.140\n",
      "DOGE:after     0.0477      0.079      0.600      0.550      -0.110       0.205\n",
      "==============================================================================\n",
      "Omnibus:                      119.742   Durbin-Watson:                   1.209\n",
      "Prob(Omnibus):                  0.000   Jarque-Bera (JB):             5866.817\n",
      "Skew:                           3.368   Prob(JB):                         0.00\n",
      "Kurtosis:                      39.173   Cond. No.                         6.85\n",
      "==============================================================================\n",
      "\n",
      "Notes:\n",
      "[1] Standard Errors assume that the covariance matrix of the errors is correctly specified.\n"
     ]
    }
   ],
   "source": [
    "print('\\t' * 8 + ' ' * 2 + 'DOGE - SOL')\n",
    "print(reg1.summary())"
   ]
  },
  {
   "cell_type": "code",
   "execution_count": 16,
   "metadata": {
    "pycharm": {
     "name": "#%%\n"
    }
   },
   "outputs": [
    {
     "name": "stdout",
     "output_type": "stream",
     "text": [
      "\t\t\t\t\t\t\t\t  DOGE - BTC\n",
      "                            OLS Regression Results                            \n",
      "==============================================================================\n",
      "Dep. Variable:                  price   R-squared:                       0.026\n",
      "Model:                            OLS   Adj. R-squared:                 -0.003\n",
      "Method:                 Least Squares   F-statistic:                    0.9031\n",
      "Date:                Mon, 04 Jul 2022   Prob (F-statistic):              0.443\n",
      "Time:                        11:08:44   Log-Likelihood:                -11.782\n",
      "No. Observations:                 104   AIC:                             31.56\n",
      "Df Residuals:                     100   BIC:                             42.14\n",
      "Df Model:                           3                                         \n",
      "Covariance Type:            nonrobust                                         \n",
      "==============================================================================\n",
      "                 coef    std err          t      P>|t|      [0.025      0.975]\n",
      "------------------------------------------------------------------------------\n",
      "Intercept  -2.799e-17      0.054  -5.16e-16      1.000      -0.108       0.108\n",
      "DOGE       -2.197e-17      0.077  -2.87e-16      1.000      -0.152       0.152\n",
      "after         -0.0487      0.077     -0.636      0.527      -0.201       0.103\n",
      "DOGE:after     0.1247      0.108      1.150      0.253      -0.090       0.340\n",
      "==============================================================================\n",
      "Omnibus:                       49.090   Durbin-Watson:                   0.764\n",
      "Prob(Omnibus):                  0.000   Jarque-Bera (JB):              535.713\n",
      "Skew:                           1.100   Prob(JB):                    4.69e-117\n",
      "Kurtosis:                      13.899   Cond. No.                         6.85\n",
      "==============================================================================\n",
      "\n",
      "Notes:\n",
      "[1] Standard Errors assume that the covariance matrix of the errors is correctly specified.\n"
     ]
    }
   ],
   "source": [
    "print('\\t' * 8 + ' ' * 2 + 'DOGE - BTC')\n",
    "print(reg2.summary())"
   ]
  },
  {
   "cell_type": "markdown",
   "metadata": {},
   "source": [
    "### 2.2 DOGE on doge tweets vs non-doge tweets"
   ]
  },
  {
   "cell_type": "code",
   "execution_count": 17,
   "metadata": {
    "pycharm": {
     "name": "#%%\n"
    }
   },
   "outputs": [],
   "source": [
    "doge_diffs = tweets_impact(elon_df, doge_df, days)\n",
    "non_doge_diffs = tweets_impact(elon_df, doge_df, days, non_doge=True)"
   ]
  },
  {
   "cell_type": "code",
   "execution_count": 18,
   "metadata": {
    "pycharm": {
     "name": "#%%\n"
    }
   },
   "outputs": [
    {
     "name": "stdout",
     "output_type": "stream",
     "text": [
      "26 Doge-referencing tweets,\n",
      "543 non-Doge-referencing tweets,\n",
      "for a total of 569\n"
     ]
    }
   ],
   "source": [
    "print(f'{len(doge_diffs)} Doge-referencing tweets,')\n",
    "print(f'{len(non_doge_diffs)} non-Doge-referencing tweets,')\n",
    "print(f'for a total of {len(doge_diffs) + len(non_doge_diffs)}')"
   ]
  },
  {
   "cell_type": "code",
   "execution_count": 19,
   "metadata": {
    "pycharm": {
     "name": "#%%\n"
    }
   },
   "outputs": [
    {
     "data": {
      "text/html": [
       "\n",
       "  <div class=\"bk-root\" id=\"d6f64a0e-c5af-45fa-90ab-0451bdcd9ddf\" data-root-id=\"2778\"></div>\n"
      ]
     },
     "metadata": {},
     "output_type": "display_data"
    },
    {
     "data": {
      "application/javascript": [
       "(function(root) {\n",
       "  function embed_document(root) {\n",
       "  const docs_json = {\"997b2fd1-0561-49c8-a891-0727c6ea0f15\":{\"defs\":[],\"roots\":{\"references\":[{\"attributes\":{\"below\":[{\"id\":\"2789\"}],\"center\":[{\"id\":\"2791\"},{\"id\":\"2795\"},{\"id\":\"2826\"}],\"height\":400,\"left\":[{\"id\":\"2792\"}],\"renderers\":[{\"id\":\"2814\"},{\"id\":\"2832\"}],\"title\":{\"id\":\"2779\"},\"toolbar\":{\"id\":\"2803\"},\"x_range\":{\"id\":\"2781\"},\"x_scale\":{\"id\":\"2785\"},\"y_range\":{\"id\":\"2783\"},\"y_scale\":{\"id\":\"2787\"}},\"id\":\"2778\",\"subtype\":\"Figure\",\"type\":\"Plot\"},{\"attributes\":{\"coordinates\":null,\"data_source\":{\"id\":\"2810\"},\"glyph\":{\"id\":\"2811\"},\"group\":null,\"hover_glyph\":null,\"muted_glyph\":{\"id\":\"2813\"},\"nonselection_glyph\":{\"id\":\"2812\"},\"view\":{\"id\":\"2815\"}},\"id\":\"2814\",\"type\":\"GlyphRenderer\"},{\"attributes\":{\"data\":{\"x\":[\"before\",\"after\"],\"y\":[-0.2064243588734264,-0.13045567602472355]},\"selected\":{\"id\":\"2824\"},\"selection_policy\":{\"id\":\"2823\"}},\"id\":\"2810\",\"type\":\"ColumnDataSource\"},{\"attributes\":{},\"id\":\"2799\",\"type\":\"SaveTool\"},{\"attributes\":{},\"id\":\"2797\",\"type\":\"WheelZoomTool\"},{\"attributes\":{},\"id\":\"2819\",\"type\":\"AllLabels\"},{\"attributes\":{},\"id\":\"2796\",\"type\":\"PanTool\"},{\"attributes\":{},\"id\":\"2821\",\"type\":\"CategoricalTickFormatter\"},{\"attributes\":{\"factors\":[\"before\",\"after\"]},\"id\":\"2781\",\"type\":\"FactorRange\"},{\"attributes\":{},\"id\":\"2800\",\"type\":\"ResetTool\"},{\"attributes\":{},\"id\":\"2823\",\"type\":\"UnionRenderers\"},{\"attributes\":{},\"id\":\"2787\",\"type\":\"LinearScale\"},{\"attributes\":{\"border_line_width\":2,\"coordinates\":null,\"group\":null,\"items\":[{\"id\":\"2827\"},{\"id\":\"2846\"}]},\"id\":\"2826\",\"type\":\"Legend\"},{\"attributes\":{\"label\":{\"value\":\"DOGE\"},\"renderers\":[{\"id\":\"2814\"}]},\"id\":\"2827\",\"type\":\"LegendItem\"},{\"attributes\":{\"axis_label\":\"standardized prices\",\"axis_line_alpha\":0.2,\"axis_line_color\":\"grey\",\"coordinates\":null,\"formatter\":{\"id\":\"2818\"},\"group\":null,\"major_label_policy\":{\"id\":\"2819\"},\"major_label_text_color\":\"grey\",\"major_tick_line_alpha\":0.2,\"major_tick_line_color\":\"grey\",\"minor_tick_line_width\":0,\"ticker\":{\"id\":\"2793\"}},\"id\":\"2792\",\"type\":\"LinearAxis\"},{\"attributes\":{\"line_color\":\"#808080\",\"line_width\":1.5,\"x\":{\"field\":\"x\"},\"y\":{\"field\":\"y\"}},\"id\":\"2829\",\"type\":\"Line\"},{\"attributes\":{},\"id\":\"2818\",\"type\":\"BasicTickFormatter\"},{\"attributes\":{\"axis_label\":\"\",\"axis_line_alpha\":0.2,\"axis_line_color\":\"grey\",\"coordinates\":null,\"formatter\":{\"id\":\"2821\"},\"group\":null,\"major_label_policy\":{\"id\":\"2822\"},\"major_label_text_color\":\"grey\",\"major_tick_line_alpha\":0.2,\"major_tick_line_color\":\"grey\",\"ticker\":{\"id\":\"2790\"}},\"id\":\"2789\",\"type\":\"CategoricalAxis\"},{\"attributes\":{\"overlay\":{\"id\":\"2802\"}},\"id\":\"2798\",\"type\":\"BoxZoomTool\"},{\"attributes\":{},\"id\":\"2783\",\"type\":\"DataRange1d\"},{\"attributes\":{},\"id\":\"2785\",\"type\":\"CategoricalScale\"},{\"attributes\":{\"source\":{\"id\":\"2810\"}},\"id\":\"2815\",\"type\":\"CDSView\"},{\"attributes\":{},\"id\":\"2793\",\"type\":\"BasicTicker\"},{\"attributes\":{\"data\":{\"x\":[\"before\",\"after\"],\"y\":[-0.11959611367907792,-0.11986336904480198]},\"selected\":{\"id\":\"2844\"},\"selection_policy\":{\"id\":\"2843\"}},\"id\":\"2828\",\"type\":\"ColumnDataSource\"},{\"attributes\":{\"coordinates\":null,\"data_source\":{\"id\":\"2828\"},\"glyph\":{\"id\":\"2829\"},\"group\":null,\"hover_glyph\":null,\"muted_glyph\":{\"id\":\"2831\"},\"nonselection_glyph\":{\"id\":\"2830\"},\"view\":{\"id\":\"2833\"}},\"id\":\"2832\",\"type\":\"GlyphRenderer\"},{\"attributes\":{\"axis\":{\"id\":\"2792\"},\"coordinates\":null,\"dimension\":1,\"grid_line_alpha\":0.2,\"grid_line_color\":\"grey\",\"group\":null,\"ticker\":null},\"id\":\"2795\",\"type\":\"Grid\"},{\"attributes\":{},\"id\":\"2801\",\"type\":\"HelpTool\"},{\"attributes\":{\"line_color\":\"#FFC247\",\"line_width\":1.5,\"x\":{\"field\":\"x\"},\"y\":{\"field\":\"y\"}},\"id\":\"2811\",\"type\":\"Line\"},{\"attributes\":{\"source\":{\"id\":\"2828\"}},\"id\":\"2833\",\"type\":\"CDSView\"},{\"attributes\":{\"coordinates\":null,\"group\":null,\"text\":\"Prices before and after a Doge-referencing tweet\\n\",\"text_font_size\":\"15px\"},\"id\":\"2779\",\"type\":\"Title\"},{\"attributes\":{},\"id\":\"2822\",\"type\":\"AllLabels\"},{\"attributes\":{\"label\":{\"value\":\"non DOGE\"},\"renderers\":[{\"id\":\"2832\"}]},\"id\":\"2846\",\"type\":\"LegendItem\"},{\"attributes\":{\"line_alpha\":0.2,\"line_color\":\"#808080\",\"line_width\":1.5,\"x\":{\"field\":\"x\"},\"y\":{\"field\":\"y\"}},\"id\":\"2831\",\"type\":\"Line\"},{\"attributes\":{\"line_alpha\":0.1,\"line_color\":\"#808080\",\"line_width\":1.5,\"x\":{\"field\":\"x\"},\"y\":{\"field\":\"y\"}},\"id\":\"2830\",\"type\":\"Line\"},{\"attributes\":{\"line_alpha\":0.1,\"line_color\":\"#FFC247\",\"line_width\":1.5,\"x\":{\"field\":\"x\"},\"y\":{\"field\":\"y\"}},\"id\":\"2812\",\"type\":\"Line\"},{\"attributes\":{},\"id\":\"2790\",\"type\":\"CategoricalTicker\"},{\"attributes\":{},\"id\":\"2843\",\"type\":\"UnionRenderers\"},{\"attributes\":{\"axis\":{\"id\":\"2789\"},\"coordinates\":null,\"grid_line_alpha\":0.2,\"grid_line_color\":null,\"group\":null,\"ticker\":null},\"id\":\"2791\",\"type\":\"Grid\"},{\"attributes\":{},\"id\":\"2824\",\"type\":\"Selection\"},{\"attributes\":{},\"id\":\"2844\",\"type\":\"Selection\"},{\"attributes\":{\"bottom_units\":\"screen\",\"coordinates\":null,\"fill_alpha\":0.5,\"fill_color\":\"lightgrey\",\"group\":null,\"left_units\":\"screen\",\"level\":\"overlay\",\"line_alpha\":1.0,\"line_color\":\"black\",\"line_dash\":[4,4],\"line_width\":2,\"right_units\":\"screen\",\"syncable\":false,\"top_units\":\"screen\"},\"id\":\"2802\",\"type\":\"BoxAnnotation\"},{\"attributes\":{\"line_alpha\":0.2,\"line_color\":\"#FFC247\",\"line_width\":1.5,\"x\":{\"field\":\"x\"},\"y\":{\"field\":\"y\"}},\"id\":\"2813\",\"type\":\"Line\"},{\"attributes\":{\"tools\":[{\"id\":\"2796\"},{\"id\":\"2797\"},{\"id\":\"2798\"},{\"id\":\"2799\"},{\"id\":\"2800\"},{\"id\":\"2801\"}]},\"id\":\"2803\",\"type\":\"Toolbar\"}],\"root_ids\":[\"2778\"]},\"title\":\"Bokeh Application\",\"version\":\"2.4.3\"}};\n",
       "  const render_items = [{\"docid\":\"997b2fd1-0561-49c8-a891-0727c6ea0f15\",\"root_ids\":[\"2778\"],\"roots\":{\"2778\":\"d6f64a0e-c5af-45fa-90ab-0451bdcd9ddf\"}}];\n",
       "  root.Bokeh.embed.embed_items_notebook(docs_json, render_items);\n",
       "  }\n",
       "  if (root.Bokeh !== undefined) {\n",
       "    embed_document(root);\n",
       "  } else {\n",
       "    let attempts = 0;\n",
       "    const timer = setInterval(function(root) {\n",
       "      if (root.Bokeh !== undefined) {\n",
       "        clearInterval(timer);\n",
       "        embed_document(root);\n",
       "      } else {\n",
       "        attempts++;\n",
       "        if (attempts > 100) {\n",
       "          clearInterval(timer);\n",
       "          console.log(\"Bokeh: ERROR: Unable to run BokehJS code because BokehJS library is missing\");\n",
       "        }\n",
       "      }\n",
       "    }, 10, root)\n",
       "  }\n",
       "})(window);"
      ],
      "application/vnd.bokehjs_exec.v0+json": ""
     },
     "metadata": {
      "application/vnd.bokehjs_exec.v0+json": {
       "id": "2778"
      }
     },
     "output_type": "display_data"
    }
   ],
   "source": [
    "show(\n",
    "    plot_did([doge_diffs, non_doge_diffs],\n",
    "             ['DOGE', 'non DOGE'])\n",
    ")"
   ]
  },
  {
   "cell_type": "code",
   "execution_count": 20,
   "metadata": {
    "pycharm": {
     "name": "#%%\n"
    }
   },
   "outputs": [
    {
     "name": "stdout",
     "output_type": "stream",
     "text": [
      "DID p-value: 0.794405807690261\n"
     ]
    }
   ],
   "source": [
    "doge_nondoge = pd.DataFrame({\n",
    "    'price': pd.concat([doge_diffs.before_sc, doge_diffs.after_sc, non_doge_diffs.before_sc, non_doge_diffs.after_sc]),\n",
    "    'after': [0] * len(doge_diffs) + [1] * len(doge_diffs) + [0] * len(non_doge_diffs) + [1] * len(non_doge_diffs),\n",
    "    'DOGE': [1] * len(doge_diffs) * 2 + [0] * len(non_doge_diffs) * 2\n",
    "})\n",
    "\n",
    "formula = 'price ~ DOGE + after + DOGE * after'\n",
    "\n",
    "reg = smf.ols(formula, doge_nondoge).fit()\n",
    "\n",
    "print(f'DID p-value: {reg.pvalues[\"DOGE:after\"]}')"
   ]
  },
  {
   "cell_type": "code",
   "execution_count": 21,
   "metadata": {
    "pycharm": {
     "name": "#%%\n"
    }
   },
   "outputs": [
    {
     "name": "stdout",
     "output_type": "stream",
     "text": [
      "\t\t\t\t\t\t\t\tDOGE - non-DOGE\n",
      "                            OLS Regression Results                            \n",
      "==============================================================================\n",
      "Dep. Variable:                  price   R-squared:                       0.000\n",
      "Model:                            OLS   Adj. R-squared:                 -0.002\n",
      "Method:                 Least Squares   F-statistic:                   0.06055\n",
      "Date:                Mon, 04 Jul 2022   Prob (F-statistic):              0.980\n",
      "Time:                        11:08:44   Log-Likelihood:                -1646.6\n",
      "No. Observations:                1138   AIC:                             3301.\n",
      "Df Residuals:                    1134   BIC:                             3321.\n",
      "Df Model:                           3                                         \n",
      "Covariance Type:            nonrobust                                         \n",
      "==============================================================================\n",
      "                 coef    std err          t      P>|t|      [0.025      0.975]\n",
      "------------------------------------------------------------------------------\n",
      "Intercept     -0.1196      0.044     -2.705      0.007      -0.206      -0.033\n",
      "DOGE          -0.0868      0.207     -0.420      0.675      -0.493       0.319\n",
      "after         -0.0003      0.063     -0.004      0.997      -0.123       0.122\n",
      "DOGE:after     0.0762      0.292      0.261      0.794      -0.498       0.650\n",
      "==============================================================================\n",
      "Omnibus:                      118.573   Durbin-Watson:                   0.553\n",
      "Prob(Omnibus):                  0.000   Jarque-Bera (JB):              166.009\n",
      "Skew:                           0.791   Prob(JB):                     8.95e-37\n",
      "Kurtosis:                       3.998   Cond. No.                         12.6\n",
      "==============================================================================\n",
      "\n",
      "Notes:\n",
      "[1] Standard Errors assume that the covariance matrix of the errors is correctly specified.\n"
     ]
    }
   ],
   "source": [
    "print('\\t' * 8 + 'DOGE - non-DOGE')\n",
    "print(reg.summary())"
   ]
  },
  {
   "cell_type": "markdown",
   "metadata": {},
   "source": [
    "#### Using differences"
   ]
  },
  {
   "cell_type": "code",
   "execution_count": 22,
   "metadata": {
    "pycharm": {
     "name": "#%%\n"
    }
   },
   "outputs": [
    {
     "data": {
      "text/html": [
       "\n",
       "  <div class=\"bk-root\" id=\"befc439d-44ad-452c-9586-2e5246832b89\" data-root-id=\"3065\"></div>\n"
      ]
     },
     "metadata": {},
     "output_type": "display_data"
    },
    {
     "data": {
      "application/javascript": [
       "(function(root) {\n",
       "  function embed_document(root) {\n",
       "  const docs_json = {\"f50211d4-1f8f-407a-acb4-81387891538d\":{\"defs\":[],\"roots\":{\"references\":[{\"attributes\":{\"below\":[{\"id\":\"3076\"}],\"center\":[{\"id\":\"3078\"},{\"id\":\"3082\"},{\"id\":\"3113\"}],\"height\":400,\"left\":[{\"id\":\"3079\"}],\"renderers\":[{\"id\":\"3101\"},{\"id\":\"3119\"}],\"title\":{\"id\":\"3066\"},\"toolbar\":{\"id\":\"3090\"},\"x_range\":{\"id\":\"3068\"},\"x_scale\":{\"id\":\"3072\"},\"y_range\":{\"id\":\"3070\"},\"y_scale\":{\"id\":\"3074\"}},\"id\":\"3065\",\"subtype\":\"Figure\",\"type\":\"Plot\"},{\"attributes\":{\"source\":{\"id\":\"3115\"}},\"id\":\"3120\",\"type\":\"CDSView\"},{\"attributes\":{},\"id\":\"3084\",\"type\":\"WheelZoomTool\"},{\"attributes\":{\"bottom_units\":\"screen\",\"coordinates\":null,\"fill_alpha\":0.5,\"fill_color\":\"lightgrey\",\"group\":null,\"left_units\":\"screen\",\"level\":\"overlay\",\"line_alpha\":1.0,\"line_color\":\"black\",\"line_dash\":[4,4],\"line_width\":2,\"right_units\":\"screen\",\"syncable\":false,\"top_units\":\"screen\"},\"id\":\"3089\",\"type\":\"BoxAnnotation\"},{\"attributes\":{},\"id\":\"3083\",\"type\":\"PanTool\"},{\"attributes\":{\"overlay\":{\"id\":\"3089\"}},\"id\":\"3085\",\"type\":\"BoxZoomTool\"},{\"attributes\":{},\"id\":\"3086\",\"type\":\"SaveTool\"},{\"attributes\":{},\"id\":\"3087\",\"type\":\"ResetTool\"},{\"attributes\":{\"source\":{\"id\":\"3097\"}},\"id\":\"3102\",\"type\":\"CDSView\"},{\"attributes\":{\"data\":{\"x\":[\"before\",\"after\"],\"y\":[0,0.07596868284870281]},\"selected\":{\"id\":\"3111\"},\"selection_policy\":{\"id\":\"3110\"}},\"id\":\"3097\",\"type\":\"ColumnDataSource\"},{\"attributes\":{},\"id\":\"3105\",\"type\":\"BasicTickFormatter\"},{\"attributes\":{\"line_alpha\":0.2,\"line_color\":\"#FFC247\",\"line_width\":1.5,\"x\":{\"field\":\"x\"},\"y\":{\"field\":\"y\"}},\"id\":\"3100\",\"type\":\"Line\"},{\"attributes\":{\"label\":{\"value\":\"non DOGE\"},\"renderers\":[{\"id\":\"3119\"}]},\"id\":\"3133\",\"type\":\"LegendItem\"},{\"attributes\":{},\"id\":\"3131\",\"type\":\"Selection\"},{\"attributes\":{\"coordinates\":null,\"data_source\":{\"id\":\"3115\"},\"glyph\":{\"id\":\"3116\"},\"group\":null,\"hover_glyph\":null,\"muted_glyph\":{\"id\":\"3118\"},\"nonselection_glyph\":{\"id\":\"3117\"},\"view\":{\"id\":\"3120\"}},\"id\":\"3119\",\"type\":\"GlyphRenderer\"},{\"attributes\":{},\"id\":\"3130\",\"type\":\"UnionRenderers\"},{\"attributes\":{\"data\":{\"x\":[\"before\",\"after\"],\"y\":[0,-0.0002672553657240413]},\"selected\":{\"id\":\"3131\"},\"selection_policy\":{\"id\":\"3130\"}},\"id\":\"3115\",\"type\":\"ColumnDataSource\"},{\"attributes\":{},\"id\":\"3110\",\"type\":\"UnionRenderers\"},{\"attributes\":{},\"id\":\"3088\",\"type\":\"HelpTool\"},{\"attributes\":{\"border_line_width\":2,\"coordinates\":null,\"group\":null,\"items\":[{\"id\":\"3114\"},{\"id\":\"3133\"}]},\"id\":\"3113\",\"type\":\"Legend\"},{\"attributes\":{},\"id\":\"3111\",\"type\":\"Selection\"},{\"attributes\":{\"axis_label\":\"\",\"axis_line_alpha\":0.2,\"axis_line_color\":\"grey\",\"coordinates\":null,\"formatter\":{\"id\":\"3108\"},\"group\":null,\"major_label_policy\":{\"id\":\"3109\"},\"major_label_text_color\":\"grey\",\"major_tick_line_alpha\":0.2,\"major_tick_line_color\":\"grey\",\"ticker\":{\"id\":\"3077\"}},\"id\":\"3076\",\"type\":\"CategoricalAxis\"},{\"attributes\":{\"label\":{\"value\":\"DOGE\"},\"renderers\":[{\"id\":\"3101\"}]},\"id\":\"3114\",\"type\":\"LegendItem\"},{\"attributes\":{\"axis_label\":\"standardized differences\",\"axis_line_alpha\":0.2,\"axis_line_color\":\"grey\",\"coordinates\":null,\"formatter\":{\"id\":\"3105\"},\"group\":null,\"major_label_policy\":{\"id\":\"3106\"},\"major_label_text_color\":\"grey\",\"major_tick_line_alpha\":0.2,\"major_tick_line_color\":\"grey\",\"minor_tick_line_width\":0,\"ticker\":{\"id\":\"3080\"}},\"id\":\"3079\",\"type\":\"LinearAxis\"},{\"attributes\":{\"line_alpha\":0.1,\"line_color\":\"#808080\",\"line_width\":1.5,\"x\":{\"field\":\"x\"},\"y\":{\"field\":\"y\"}},\"id\":\"3117\",\"type\":\"Line\"},{\"attributes\":{},\"id\":\"3108\",\"type\":\"CategoricalTickFormatter\"},{\"attributes\":{\"axis\":{\"id\":\"3076\"},\"coordinates\":null,\"grid_line_alpha\":0.2,\"grid_line_color\":null,\"group\":null,\"ticker\":null},\"id\":\"3078\",\"type\":\"Grid\"},{\"attributes\":{},\"id\":\"3077\",\"type\":\"CategoricalTicker\"},{\"attributes\":{},\"id\":\"3072\",\"type\":\"CategoricalScale\"},{\"attributes\":{},\"id\":\"3070\",\"type\":\"DataRange1d\"},{\"attributes\":{},\"id\":\"3074\",\"type\":\"LinearScale\"},{\"attributes\":{\"line_alpha\":0.2,\"line_color\":\"#808080\",\"line_width\":1.5,\"x\":{\"field\":\"x\"},\"y\":{\"field\":\"y\"}},\"id\":\"3118\",\"type\":\"Line\"},{\"attributes\":{\"coordinates\":null,\"group\":null,\"text\":\"Price differences before and after a Doge-referencing tweet\\n\",\"text_font_size\":\"15px\"},\"id\":\"3066\",\"type\":\"Title\"},{\"attributes\":{\"line_alpha\":0.1,\"line_color\":\"#FFC247\",\"line_width\":1.5,\"x\":{\"field\":\"x\"},\"y\":{\"field\":\"y\"}},\"id\":\"3099\",\"type\":\"Line\"},{\"attributes\":{},\"id\":\"3109\",\"type\":\"AllLabels\"},{\"attributes\":{\"factors\":[\"before\",\"after\"]},\"id\":\"3068\",\"type\":\"FactorRange\"},{\"attributes\":{\"tools\":[{\"id\":\"3083\"},{\"id\":\"3084\"},{\"id\":\"3085\"},{\"id\":\"3086\"},{\"id\":\"3087\"},{\"id\":\"3088\"}]},\"id\":\"3090\",\"type\":\"Toolbar\"},{\"attributes\":{\"axis\":{\"id\":\"3079\"},\"coordinates\":null,\"dimension\":1,\"grid_line_alpha\":0.2,\"grid_line_color\":\"grey\",\"group\":null,\"ticker\":null},\"id\":\"3082\",\"type\":\"Grid\"},{\"attributes\":{\"coordinates\":null,\"data_source\":{\"id\":\"3097\"},\"glyph\":{\"id\":\"3098\"},\"group\":null,\"hover_glyph\":null,\"muted_glyph\":{\"id\":\"3100\"},\"nonselection_glyph\":{\"id\":\"3099\"},\"view\":{\"id\":\"3102\"}},\"id\":\"3101\",\"type\":\"GlyphRenderer\"},{\"attributes\":{\"line_color\":\"#808080\",\"line_width\":1.5,\"x\":{\"field\":\"x\"},\"y\":{\"field\":\"y\"}},\"id\":\"3116\",\"type\":\"Line\"},{\"attributes\":{},\"id\":\"3080\",\"type\":\"BasicTicker\"},{\"attributes\":{},\"id\":\"3106\",\"type\":\"AllLabels\"},{\"attributes\":{\"line_color\":\"#FFC247\",\"line_width\":1.5,\"x\":{\"field\":\"x\"},\"y\":{\"field\":\"y\"}},\"id\":\"3098\",\"type\":\"Line\"}],\"root_ids\":[\"3065\"]},\"title\":\"Bokeh Application\",\"version\":\"2.4.3\"}};\n",
       "  const render_items = [{\"docid\":\"f50211d4-1f8f-407a-acb4-81387891538d\",\"root_ids\":[\"3065\"],\"roots\":{\"3065\":\"befc439d-44ad-452c-9586-2e5246832b89\"}}];\n",
       "  root.Bokeh.embed.embed_items_notebook(docs_json, render_items);\n",
       "  }\n",
       "  if (root.Bokeh !== undefined) {\n",
       "    embed_document(root);\n",
       "  } else {\n",
       "    let attempts = 0;\n",
       "    const timer = setInterval(function(root) {\n",
       "      if (root.Bokeh !== undefined) {\n",
       "        clearInterval(timer);\n",
       "        embed_document(root);\n",
       "      } else {\n",
       "        attempts++;\n",
       "        if (attempts > 100) {\n",
       "          clearInterval(timer);\n",
       "          console.log(\"Bokeh: ERROR: Unable to run BokehJS code because BokehJS library is missing\");\n",
       "        }\n",
       "      }\n",
       "    }, 10, root)\n",
       "  }\n",
       "})(window);"
      ],
      "application/vnd.bokehjs_exec.v0+json": ""
     },
     "metadata": {
      "application/vnd.bokehjs_exec.v0+json": {
       "id": "3065"
      }
     },
     "output_type": "display_data"
    }
   ],
   "source": [
    "show(\n",
    "    plot_did_differences([doge_diffs, non_doge_diffs],\n",
    "             ['DOGE', 'non DOGE'])\n",
    ")"
   ]
  },
  {
   "cell_type": "code",
   "execution_count": 23,
   "metadata": {
    "pycharm": {
     "name": "#%%\n"
    }
   },
   "outputs": [
    {
     "name": "stdout",
     "output_type": "stream",
     "text": [
      "DID p-value: 0.22007744292752032\n"
     ]
    }
   ],
   "source": [
    "doge_nondoge = pd.DataFrame({\n",
    "    #'price': pd.concat([doge_diffs.before_sc, doge_diffs.after_sc, non_doge_diffs.before_sc, non_doge_diffs.after_sc]),\n",
    "    'price': [0] * len(doge_diffs) + doge_diffs.differ_sc.tolist() + [0] * len(non_doge_diffs) + non_doge_diffs.differ_sc.tolist(),\n",
    "    'after': [0] * len(doge_diffs) + [1] * len(doge_diffs) + [0] * len(non_doge_diffs) + [1] * len(non_doge_diffs),\n",
    "    'DOGE': [1] * len(doge_diffs) * 2 + [0] * len(non_doge_diffs) * 2\n",
    "})\n",
    "\n",
    "formula = 'price ~ DOGE + after + DOGE * after'\n",
    "\n",
    "reg = smf.ols(formula, doge_nondoge).fit()\n",
    "\n",
    "print(f'DID p-value: {reg.pvalues[\"DOGE:after\"]}')"
   ]
  },
  {
   "cell_type": "code",
   "execution_count": 24,
   "metadata": {
    "pycharm": {
     "name": "#%%\n"
    }
   },
   "outputs": [
    {
     "name": "stdout",
     "output_type": "stream",
     "text": [
      "\t\t\t\t\t\t\t\tDOGE - non-DOGE\n",
      "                            OLS Regression Results                            \n",
      "==============================================================================\n",
      "Dep. Variable:                  price   R-squared:                       0.003\n",
      "Model:                            OLS   Adj. R-squared:                  0.000\n",
      "Method:                 Least Squares   F-statistic:                     1.024\n",
      "Date:                Mon, 04 Jul 2022   Prob (F-statistic):              0.381\n",
      "Time:                        11:08:44   Log-Likelihood:                 116.33\n",
      "No. Observations:                1138   AIC:                            -224.7\n",
      "Df Residuals:                    1134   BIC:                            -204.5\n",
      "Df Model:                           3                                         \n",
      "Covariance Type:            nonrobust                                         \n",
      "==============================================================================\n",
      "                 coef    std err          t      P>|t|      [0.025      0.975]\n",
      "------------------------------------------------------------------------------\n",
      "Intercept   4.658e-17      0.009   4.96e-15      1.000      -0.018       0.018\n",
      "DOGE       -8.691e-16      0.044  -1.98e-14      1.000      -0.086       0.086\n",
      "after         -0.0003      0.013     -0.020      0.984      -0.026       0.026\n",
      "DOGE:after     0.0762      0.062      1.227      0.220      -0.046       0.198\n",
      "==============================================================================\n",
      "Omnibus:                      438.966   Durbin-Watson:                   0.149\n",
      "Prob(Omnibus):                  0.000   Jarque-Bera (JB):            36892.981\n",
      "Skew:                           0.842   Prob(JB):                         0.00\n",
      "Kurtosis:                      30.843   Cond. No.                         12.6\n",
      "==============================================================================\n",
      "\n",
      "Notes:\n",
      "[1] Standard Errors assume that the covariance matrix of the errors is correctly specified.\n"
     ]
    }
   ],
   "source": [
    "print('\\t' * 8 + 'DOGE - non-DOGE')\n",
    "print(reg.summary())"
   ]
  }
 ],
 "metadata": {
  "kernelspec": {
   "display_name": "Python 3 (ipykernel)",
   "language": "python",
   "name": "python3"
  },
  "language_info": {
   "codemirror_mode": {
    "name": "ipython",
    "version": 3
   },
   "file_extension": ".py",
   "mimetype": "text/x-python",
   "name": "python",
   "nbconvert_exporter": "python",
   "pygments_lexer": "ipython3",
   "version": "3.9.10"
  }
 },
 "nbformat": 4,
 "nbformat_minor": 1
}